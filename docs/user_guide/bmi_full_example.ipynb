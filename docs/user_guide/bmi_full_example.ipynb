{
 "cells": [
  {
   "cell_type": "markdown",
   "id": "understanding-messaging",
   "metadata": {},
   "source": [
    "# Predict BMI From Change In Brain\n",
    "\n",
    "This script shows a real world example using BPt to study the relationship between BMI and the brain. Interestingly, we employ longitudinal brain data from two time points as represented by a change in brain measurements between time points. The data used in this notebook cannot be made public as it is from the ABCD Study, which requires a data use agreement in order to use the data.\n",
    "\n",
    "This notebook covers a number of different topics:\n",
    "\n",
    "- Preparing Data\n",
    "- Evaluating a single pipeline\n",
    "- Considering different options for how to use a test set\n",
    "- Use a LinearResidualizer to residualize input brain data\n",
    "- Introduce and use the Evaluate input option"
   ]
  },
  {
   "cell_type": "code",
   "execution_count": 1,
   "id": "illegal-account",
   "metadata": {},
   "outputs": [],
   "source": [
    "import pandas as pd\n",
    "import BPt as bp\n",
    "import numpy as np\n",
    "\n",
    "# Don't show sklearn convergence warnings\n",
    "from warnings import simplefilter\n",
    "from sklearn.exceptions import ConvergenceWarning\n",
    "simplefilter(\"ignore\", category=ConvergenceWarning)\n",
    "\n",
    "# Display tables up to five decimals\n",
    "pd.options.display.float_format = \"{:,.5f}\".format"
   ]
  },
  {
   "cell_type": "markdown",
   "id": "approximate-swift",
   "metadata": {},
   "source": [
    "## Preparing Data"
   ]
  },
  {
   "cell_type": "markdown",
   "id": "swiss-external",
   "metadata": {},
   "source": [
    "We will first load in the underlying dataset for this project which has been saved as a csv. It contains multi-modal change in ROI data from two timepoints of the ABCD Study (difference from follow up and baseline).\n",
    "\n",
    "This saved dataset doesn't include the real family ids, but an interesting piece of the ABCD study derived data is that there are a number of subjects from the same family. We will handle that in this example (granted with a fake family structure which we will generate below) by ensuring that for any cross-validation split, members of the same family stay in the same training or testing fold."
   ]
  },
  {
   "cell_type": "code",
   "execution_count": 2,
   "id": "smart-defensive",
   "metadata": {},
   "outputs": [
    {
     "data": {
      "text/plain": [
       "['Unnamed: 0',\n",
       " 'Unnamed: 0.1',\n",
       " 'src_subject_id',\n",
       " 'b_averaged_puberty',\n",
       " 'y2_averaged_puberty',\n",
       " 'b_agemos',\n",
       " 'y2_agemos',\n",
       " 'b_sex',\n",
       " 'b_race_ethnicity_categories',\n",
       " 'b_demo_highest_education_categories']"
      ]
     },
     "execution_count": 2,
     "metadata": {},
     "output_type": "execute_result"
    }
   ],
   "source": [
    "data = pd.read_csv('data/structure_diff.csv')\n",
    "\n",
    "# Add fake family id.\n",
    "data['b_rel_family_id'] = np.random.RandomState(5).randint(0, 1000, size=len(data))\n",
    "list(data)[:10]"
   ]
  },
  {
   "cell_type": "markdown",
   "id": "chinese-thirty",
   "metadata": {},
   "source": [
    "This dataset contains a number of columns we don't need. We will use the next cell to both group variables of interest together, and then select only the relvant columns to keep."
   ]
  },
  {
   "cell_type": "code",
   "execution_count": 3,
   "id": "chubby-length",
   "metadata": {},
   "outputs": [
    {
     "data": {
      "text/plain": [
       "(2622, 672)"
      ]
     },
     "execution_count": 3,
     "metadata": {},
     "output_type": "execute_result"
    }
   ],
   "source": [
    "# Targets - We have a few different options for what to predict.\n",
    "# Either year 2 bmi baseline bmi or the difference in bmi.\n",
    "targets = ['y2_bmi', 'b_bmi', 'bmi_diff']\n",
    "\n",
    "# Columns with different traditional 'co-variates'.\n",
    "covars = ['b_sex',  'b_demo_highest_education_categories','b_race_ethnicity_categories',\n",
    "          'b_agemos', 'pub_diff', 'y2_mri_info_deviceserialnumber']\n",
    "\n",
    "# Let's also note which of these are categorical\n",
    "cat_covars = ['y2_mri_info_deviceserialnumber',\n",
    "              'b_demo_highest_education_categories',\n",
    "              'b_race_ethnicity_categories',\n",
    "              'b_sex']\n",
    "\n",
    "# These variables are any which we might want to use\n",
    "# but not directly as input features! E.g., we\n",
    "# might want to use them to inform choice of cross-validation.\n",
    "non_input = ['b_rel_family_id', 'time_diff']\n",
    "\n",
    "# The different imaging features\n",
    "thick = [d for d in list(data) if 'thick' in d]\n",
    "area = [d for d in list(data) if 'smri_area_cort' in d]\n",
    "subcort = [d for d in list(data) if 'smri_vol' in d]\n",
    "dti_fa = [d for d in list(data) if 'dmri_dti_full_fa_' in d]\n",
    "dti_md = [d for d in list(data) if 'dmri_dti_full_md_' in d]\n",
    "brain = thick + area + subcort + dti_fa + dti_md\n",
    "\n",
    "# All to keep\n",
    "to_keep = brain + targets + covars + non_input\n",
    "\n",
    "data = data[to_keep]\n",
    "data.shape"
   ]
  },
  {
   "cell_type": "markdown",
   "id": "editorial-vehicle",
   "metadata": {},
   "source": [
    "Now let's convert from a pandas DataFrame to a BPt Dataset."
   ]
  },
  {
   "cell_type": "code",
   "execution_count": 4,
   "id": "mobile-berlin",
   "metadata": {},
   "outputs": [
    {
     "data": {
      "text/plain": [
       "(2622, 672)"
      ]
     },
     "execution_count": 4,
     "metadata": {},
     "output_type": "execute_result"
    }
   ],
   "source": [
    "data = bp.Dataset(data)\n",
    "\n",
    "# This is optional, to print some extra statements.\n",
    "data.verbose = 1\n",
    "data.shape"
   ]
  },
  {
   "cell_type": "markdown",
   "id": "macro-matrix",
   "metadata": {},
   "source": [
    "Next, we perform some actions specific to the Dataset class. These include specifying which columns are 'target' and 'non input', with any we don't set to one these roles treated as the default role, 'data'."
   ]
  },
  {
   "cell_type": "code",
   "execution_count": 5,
   "id": "random-commissioner",
   "metadata": {},
   "outputs": [
    {
     "name": "stdout",
     "output_type": "stream",
     "text": [
      "Setting NaN threshold to: 1.5\n",
      "Dropped 4 Rows\n"
     ]
    },
    {
     "data": {
      "text/html": [
       "<div style=\"float: left; padding: 10px;\">\n",
       "        <h3>Data</h3><div>\n",
       "<style scoped>\n",
       "    .dataframe tbody tr th:only-of-type {\n",
       "        vertical-align: middle;\n",
       "    }\n",
       "\n",
       "    .dataframe tbody tr th {\n",
       "        vertical-align: top;\n",
       "    }\n",
       "\n",
       "    .dataframe thead th {\n",
       "        text-align: right;\n",
       "    }\n",
       "</style>\n",
       "<table border=\"1\" class=\"dataframe\">\n",
       "  <thead>\n",
       "    <tr style=\"text-align: right;\">\n",
       "      <th></th>\n",
       "      <th>b_agemos</th>\n",
       "      <th>b_demo_highest_education_categories</th>\n",
       "      <th>b_race_ethnicity_categories</th>\n",
       "      <th>b_sex</th>\n",
       "      <th>dmri_dti_full_fa_subcort_aseg_accumbens_area_lh</th>\n",
       "      <th>dmri_dti_full_fa_subcort_aseg_accumbens_area_rh</th>\n",
       "      <th>dmri_dti_full_fa_subcort_aseg_amygdala_lh</th>\n",
       "      <th>dmri_dti_full_fa_subcort_aseg_amygdala_rh</th>\n",
       "      <th>dmri_dti_full_fa_subcort_aseg_caudate_lh</th>\n",
       "      <th>dmri_dti_full_fa_subcort_aseg_caudate_rh</th>\n",
       "      <th>...</th>\n",
       "      <th>smri_vol_scs_suprateialv</th>\n",
       "      <th>smri_vol_scs_tplh</th>\n",
       "      <th>smri_vol_scs_tprh</th>\n",
       "      <th>smri_vol_scs_vedclh</th>\n",
       "      <th>smri_vol_scs_vedcrh</th>\n",
       "      <th>smri_vol_scs_wholeb</th>\n",
       "      <th>smri_vol_scs_wmhint</th>\n",
       "      <th>smri_vol_scs_wmhintlh</th>\n",
       "      <th>smri_vol_scs_wmhintrh</th>\n",
       "      <th>y2_mri_info_deviceserialnumber</th>\n",
       "    </tr>\n",
       "  </thead>\n",
       "  <tbody>\n",
       "    <tr>\n",
       "      <th>0</th>\n",
       "      <td>124</td>\n",
       "      <td>2</td>\n",
       "      <td>2</td>\n",
       "      <td>1</td>\n",
       "      <td>0.00130</td>\n",
       "      <td>0.01091</td>\n",
       "      <td>-0.02198</td>\n",
       "      <td>0.00540</td>\n",
       "      <td>0.01938</td>\n",
       "      <td>0.02625</td>\n",
       "      <td>...</td>\n",
       "      <td>5,349.45748</td>\n",
       "      <td>233.90000</td>\n",
       "      <td>-152.70000</td>\n",
       "      <td>-30.40000</td>\n",
       "      <td>-60.30000</td>\n",
       "      <td>3,806.65748</td>\n",
       "      <td>10.50000</td>\n",
       "      <td>0</td>\n",
       "      <td>0</td>\n",
       "      <td>HASHe4f6957a</td>\n",
       "    </tr>\n",
       "    <tr>\n",
       "      <th>1</th>\n",
       "      <td>114</td>\n",
       "      <td>3</td>\n",
       "      <td>1</td>\n",
       "      <td>1</td>\n",
       "      <td>-0.05736</td>\n",
       "      <td>-0.06722</td>\n",
       "      <td>-0.03989</td>\n",
       "      <td>-0.03279</td>\n",
       "      <td>-0.05530</td>\n",
       "      <td>-0.05565</td>\n",
       "      <td>...</td>\n",
       "      <td>8,612.98668</td>\n",
       "      <td>904.50000</td>\n",
       "      <td>426.10000</td>\n",
       "      <td>-106.20000</td>\n",
       "      <td>-44.60000</td>\n",
       "      <td>8,607.68667</td>\n",
       "      <td>-68.20000</td>\n",
       "      <td>0</td>\n",
       "      <td>0</td>\n",
       "      <td>HASHc3bf3d9c</td>\n",
       "    </tr>\n",
       "    <tr>\n",
       "      <th>2</th>\n",
       "      <td>118</td>\n",
       "      <td>5</td>\n",
       "      <td>2</td>\n",
       "      <td>1</td>\n",
       "      <td>-0.01056</td>\n",
       "      <td>0.00005</td>\n",
       "      <td>0.00111</td>\n",
       "      <td>-0.01210</td>\n",
       "      <td>0.01097</td>\n",
       "      <td>-0.00400</td>\n",
       "      <td>...</td>\n",
       "      <td>-8,676.49078</td>\n",
       "      <td>346.50000</td>\n",
       "      <td>364.40000</td>\n",
       "      <td>-153.30000</td>\n",
       "      <td>-354.10000</td>\n",
       "      <td>-8,363.89077</td>\n",
       "      <td>-186.70000</td>\n",
       "      <td>0</td>\n",
       "      <td>0</td>\n",
       "      <td>HASH5ac2b20b</td>\n",
       "    </tr>\n",
       "    <tr>\n",
       "      <th>3</th>\n",
       "      <td>129</td>\n",
       "      <td>3</td>\n",
       "      <td>3</td>\n",
       "      <td>1</td>\n",
       "      <td>-0.01598</td>\n",
       "      <td>0.01693</td>\n",
       "      <td>0.00801</td>\n",
       "      <td>0.00392</td>\n",
       "      <td>0.01860</td>\n",
       "      <td>-0.00437</td>\n",
       "      <td>...</td>\n",
       "      <td>-2,028.86693</td>\n",
       "      <td>-43.20000</td>\n",
       "      <td>-108.60000</td>\n",
       "      <td>-41.80000</td>\n",
       "      <td>2.60000</td>\n",
       "      <td>-868.16693</td>\n",
       "      <td>153.40000</td>\n",
       "      <td>0</td>\n",
       "      <td>0</td>\n",
       "      <td>HASH1314a204</td>\n",
       "    </tr>\n",
       "    <tr>\n",
       "      <th>4</th>\n",
       "      <td>129</td>\n",
       "      <td>2</td>\n",
       "      <td>3</td>\n",
       "      <td>1</td>\n",
       "      <td>-0.00431</td>\n",
       "      <td>-0.00233</td>\n",
       "      <td>0.00198</td>\n",
       "      <td>0.01399</td>\n",
       "      <td>0.00302</td>\n",
       "      <td>-0.00935</td>\n",
       "      <td>...</td>\n",
       "      <td>-10,946.83612</td>\n",
       "      <td>-428.40000</td>\n",
       "      <td>-959.60000</td>\n",
       "      <td>-367.70000</td>\n",
       "      <td>523.70000</td>\n",
       "      <td>-13,341.83612</td>\n",
       "      <td>-116.00000</td>\n",
       "      <td>0</td>\n",
       "      <td>0</td>\n",
       "      <td>HASH5b0cf1bb</td>\n",
       "    </tr>\n",
       "  </tbody>\n",
       "</table>\n",
       "<p>5 rows × 667 columns</p>\n",
       "</div></div>\n",
       "<div style=\"float: left; padding: 10px;\">\n",
       "        <h3>Targets</h3><div>\n",
       "<style scoped>\n",
       "    .dataframe tbody tr th:only-of-type {\n",
       "        vertical-align: middle;\n",
       "    }\n",
       "\n",
       "    .dataframe tbody tr th {\n",
       "        vertical-align: top;\n",
       "    }\n",
       "\n",
       "    .dataframe thead th {\n",
       "        text-align: right;\n",
       "    }\n",
       "</style>\n",
       "<table border=\"1\" class=\"dataframe\">\n",
       "  <thead>\n",
       "    <tr style=\"text-align: right;\">\n",
       "      <th></th>\n",
       "      <th>b_bmi</th>\n",
       "      <th>bmi_diff</th>\n",
       "      <th>y2_bmi</th>\n",
       "    </tr>\n",
       "  </thead>\n",
       "  <tbody>\n",
       "    <tr>\n",
       "      <th>0</th>\n",
       "      <td>15.17507</td>\n",
       "      <td>1.60560</td>\n",
       "      <td>16.78067</td>\n",
       "    </tr>\n",
       "    <tr>\n",
       "      <th>1</th>\n",
       "      <td>24.43703</td>\n",
       "      <td>7.30913</td>\n",
       "      <td>31.74616</td>\n",
       "    </tr>\n",
       "    <tr>\n",
       "      <th>2</th>\n",
       "      <td>16.09284</td>\n",
       "      <td>-0.65470</td>\n",
       "      <td>15.43814</td>\n",
       "    </tr>\n",
       "    <tr>\n",
       "      <th>3</th>\n",
       "      <td>23.12664</td>\n",
       "      <td>3.93355</td>\n",
       "      <td>27.06019</td>\n",
       "    </tr>\n",
       "    <tr>\n",
       "      <th>4</th>\n",
       "      <td>25.67191</td>\n",
       "      <td>2.10319</td>\n",
       "      <td>27.77510</td>\n",
       "    </tr>\n",
       "  </tbody>\n",
       "</table>\n",
       "</div></div>\n",
       "<div style=\"float: left; padding: 10px;\">\n",
       "        <h3>Non Input</h3><div>\n",
       "<style scoped>\n",
       "    .dataframe tbody tr th:only-of-type {\n",
       "        vertical-align: middle;\n",
       "    }\n",
       "\n",
       "    .dataframe tbody tr th {\n",
       "        vertical-align: top;\n",
       "    }\n",
       "\n",
       "    .dataframe thead th {\n",
       "        text-align: right;\n",
       "    }\n",
       "</style>\n",
       "<table border=\"1\" class=\"dataframe\">\n",
       "  <thead>\n",
       "    <tr style=\"text-align: right;\">\n",
       "      <th></th>\n",
       "      <th>b_rel_family_id</th>\n",
       "      <th>time_diff</th>\n",
       "    </tr>\n",
       "  </thead>\n",
       "  <tbody>\n",
       "    <tr>\n",
       "      <th>0</th>\n",
       "      <td>867</td>\n",
       "      <td>25</td>\n",
       "    </tr>\n",
       "    <tr>\n",
       "      <th>1</th>\n",
       "      <td>206</td>\n",
       "      <td>24</td>\n",
       "    </tr>\n",
       "    <tr>\n",
       "      <th>2</th>\n",
       "      <td>701</td>\n",
       "      <td>24</td>\n",
       "    </tr>\n",
       "    <tr>\n",
       "      <th>3</th>\n",
       "      <td>998</td>\n",
       "      <td>23</td>\n",
       "    </tr>\n",
       "    <tr>\n",
       "      <th>4</th>\n",
       "      <td>118</td>\n",
       "      <td>26</td>\n",
       "    </tr>\n",
       "  </tbody>\n",
       "</table>\n",
       "</div></div>\n"
      ],
      "text/plain": [
       "   smri_thick_cort_destrieux_g_and_s_frontomargin_lh  \\\n",
       "0                                           -0.03000   \n",
       "1                                           -0.14100   \n",
       "2                                            0.30600   \n",
       "3                                           -0.09900   \n",
       "4                                            0.07700   \n",
       "\n",
       "   smri_thick_cort_destrieux_g_and_s_occipital_inf_lh  \\\n",
       "0                                           -0.11600    \n",
       "1                                           -0.32200    \n",
       "2                                           -0.12200    \n",
       "3                                           -0.04200    \n",
       "4                                           -0.07700    \n",
       "\n",
       "   smri_thick_cort_destrieux_g_and_s_paracentral_lh  \\\n",
       "0                                          -0.08600   \n",
       "1                                           0.00600   \n",
       "2                                          -0.29300   \n",
       "3                                          -0.03600   \n",
       "4                                          -0.01100   \n",
       "\n",
       "   smri_thick_cort_destrieux_g_and_s_subcentral_lh  \\\n",
       "0                                          0.00100   \n",
       "1                                          0.21600   \n",
       "2                                          0.07000   \n",
       "3                                         -0.06500   \n",
       "4                                         -0.06700   \n",
       "\n",
       "   smri_thick_cort_destrieux_g_and_s_transv_frontopol_lh  \\\n",
       "0                                           -0.09100       \n",
       "1                                           -0.06400       \n",
       "2                                            0.09700       \n",
       "3                                           -0.11600       \n",
       "4                                            0.01200       \n",
       "\n",
       "   smri_thick_cort_destrieux_g_and_s_cingul_ant_lh  \\\n",
       "0                                         -0.02900   \n",
       "1                                         -0.17100   \n",
       "2                                         -0.35100   \n",
       "3                                         -0.21200   \n",
       "4                                         -0.01100   \n",
       "\n",
       "   smri_thick_cort_destrieux_g_and_s_cingul_mid_ant_lh  \\\n",
       "0                                            0.00500     \n",
       "1                                           -0.11300     \n",
       "2                                           -0.32300     \n",
       "3                                           -0.06000     \n",
       "4                                           -0.04600     \n",
       "\n",
       "   smri_thick_cort_destrieux_g_and_s_cingul_mid_post_lh  \\\n",
       "0                                           -0.04900      \n",
       "1                                           -0.07300      \n",
       "2                                           -0.05400      \n",
       "3                                           -0.04500      \n",
       "4                                           -0.05000      \n",
       "\n",
       "   smri_thick_cort_destrieux_g_cingul_post_dorsal_lh  \\\n",
       "0                                            0.04700   \n",
       "1                                            0.10000   \n",
       "2                                            0.07700   \n",
       "3                                            0.01200   \n",
       "4                                           -0.19700   \n",
       "\n",
       "   smri_thick_cort_destrieux_g_cingul_post_ventral_lh  ...    b_bmi  bmi_diff  \\\n",
       "0                                            0.17500   ... 15.17507   1.60560   \n",
       "1                                           -0.02500   ... 24.43703   7.30913   \n",
       "2                                            0.25300   ... 16.09284  -0.65470   \n",
       "3                                            0.03700   ... 23.12664   3.93355   \n",
       "4                                            0.06200   ... 25.67191   2.10319   \n",
       "\n",
       "   b_sex  b_demo_highest_education_categories  b_race_ethnicity_categories  \\\n",
       "0      1                                    2                            2   \n",
       "1      1                                    3                            1   \n",
       "2      1                                    5                            2   \n",
       "3      1                                    3                            3   \n",
       "4      1                                    2                            3   \n",
       "\n",
       "   b_agemos  pub_diff  y2_mri_info_deviceserialnumber  b_rel_family_id  \\\n",
       "0       124   0.50000                    HASHe4f6957a              867   \n",
       "1       114   0.50000                    HASHc3bf3d9c              206   \n",
       "2       118   0.00000                    HASH5ac2b20b              701   \n",
       "3       129   1.00000                    HASH1314a204              998   \n",
       "4       129   1.00000                    HASH5b0cf1bb              118   \n",
       "\n",
       "   time_diff  \n",
       "0         25  \n",
       "1         24  \n",
       "2         24  \n",
       "3         23  \n",
       "4         26  \n",
       "\n",
       "[5 rows x 672 columns]"
      ]
     },
     "execution_count": 5,
     "metadata": {},
     "output_type": "execute_result"
    }
   ],
   "source": [
    "# Set's targets to target role\n",
    "data = data.set_role(targets, 'target')\n",
    "\n",
    "# Set non input to non input role\n",
    "data = data.set_role(non_input, 'non input')\n",
    "\n",
    "# Drop any missing values in the target variable\n",
    "data = data.drop_subjects_by_nan(scope='target')\n",
    "\n",
    "# We can optional add the categories we made as scopes!\n",
    "data.add_scope(covars, 'covars', inplace=True)\n",
    "data.add_scope(cat_covars, 'cat covars', inplace=True)\n",
    "data.add_scope(thick, 'thick', inplace=True)\n",
    "data.add_scope(area, 'area', inplace=True)\n",
    "data.add_scope(subcort, 'subcort', inplace=True)\n",
    "data.add_scope(dti_fa, 'dti_fa', inplace=True)\n",
    "data.add_scope(dti_md, 'dti_md', inplace=True)\n",
    "data.add_scope(brain, 'brain', inplace=True )\n",
    "\n",
    "# Drop all NaN from any column\n",
    "# Though BPt can generally handle NaN data fine,\n",
    "# it makes certain pieces easier for this example as we don't have to worry\n",
    "# about imputation.\n",
    "data = data.dropna()\n",
    "\n",
    "# Just show the first few rows\n",
    "data.head()"
   ]
  },
  {
   "cell_type": "markdown",
   "id": "civilian-display",
   "metadata": {},
   "source": [
    "The scopes we defined are nice, as it lets use check columns, or compose different scopes together. For example\n",
    "we can check the scope we set 'cat covars' as composed with another variable as:"
   ]
  },
  {
   "cell_type": "code",
   "execution_count": 6,
   "id": "unusual-rental",
   "metadata": {},
   "outputs": [
    {
     "data": {
      "text/plain": [
       "['b_demo_highest_education_categories',\n",
       " 'b_race_ethnicity_categories',\n",
       " 'b_rel_family_id',\n",
       " 'b_sex',\n",
       " 'y2_mri_info_deviceserialnumber']"
      ]
     },
     "execution_count": 6,
     "metadata": {},
     "output_type": "execute_result"
    }
   ],
   "source": [
    "data.get_cols([cat_covars, 'b_rel_family_id'])"
   ]
  },
  {
   "cell_type": "markdown",
   "id": "renewable-correction",
   "metadata": {},
   "source": [
    "These are notably the columns we want to make sure are categorical, so lets ordinalize them, then plot."
   ]
  },
  {
   "cell_type": "code",
   "execution_count": 7,
   "id": "homeless-bahamas",
   "metadata": {},
   "outputs": [
    {
     "name": "stdout",
     "output_type": "stream",
     "text": [
      "b_demo_highest_education_categories: 2592 rows\n"
     ]
    },
    {
     "data": {
      "image/png": "[encoded data removed]",
      "text/plain": [
       "<Figure size 360x360 with 1 Axes>"
      ]
     },
     "metadata": {
      "needs_background": "light"
     },
     "output_type": "display_data"
    },
    {
     "name": "stdout",
     "output_type": "stream",
     "text": [
      "b_race_ethnicity_categories: 2592 rows\n"
     ]
    },
    {
     "data": {
      "image/png": "[encoded data removed]",
      "text/plain": [
       "<Figure size 360x360 with 1 Axes>"
      ]
     },
     "metadata": {
      "needs_background": "light"
     },
     "output_type": "display_data"
    },
    {
     "name": "stdout",
     "output_type": "stream",
     "text": [
      "b_rel_family_id: 2592 rows\n",
      "b_sex: 2592 rows\n"
     ]
    },
    {
     "name": "stderr",
     "output_type": "stream",
     "text": [
      "/home/sage/anaconda3/envs/bpt/lib/python3.9/site-packages/BPt/dataset/helpers.py:167: UserWarning: Skipping plot: b_rel_family_id as >= categories!\n",
      "  warnings.warn(as_str)\n"
     ]
    },
    {
     "data": {
      "image/png": "[encoded data removed]",
      "text/plain": [
       "<Figure size 360x360 with 1 Axes>"
      ]
     },
     "metadata": {
      "needs_background": "light"
     },
     "output_type": "display_data"
    },
    {
     "name": "stdout",
     "output_type": "stream",
     "text": [
      "y2_mri_info_deviceserialnumber: 2592 rows\n"
     ]
    },
    {
     "data": {
      "image/png": "[encoded data removed]",
      "text/plain": [
       "<Figure size 360x360 with 1 Axes>"
      ]
     },
     "metadata": {
      "needs_background": "light"
     },
     "output_type": "display_data"
    }
   ],
   "source": [
    "data = data.ordinalize([cat_covars, 'b_rel_family_id'])\n",
    "\n",
    "# Then plot just the categorical variables\n",
    "data.plot(scope='category', subjects='all', decode_values=True)"
   ]
  },
  {
   "cell_type": "markdown",
   "id": "municipal-worcester",
   "metadata": {},
   "source": [
    "Let's plot the target variables as well."
   ]
  },
  {
   "cell_type": "code",
   "execution_count": 8,
   "id": "thousand-nickname",
   "metadata": {},
   "outputs": [
    {
     "name": "stdout",
     "output_type": "stream",
     "text": [
      "b_bmi: 2592 rows\n"
     ]
    },
    {
     "data": {
      "image/png": "[encoded data removed]",
      "text/plain": [
       "<Figure size 432x288 with 1 Axes>"
      ]
     },
     "metadata": {
      "needs_background": "light"
     },
     "output_type": "display_data"
    },
    {
     "name": "stdout",
     "output_type": "stream",
     "text": [
      "bmi_diff: 2592 rows\n"
     ]
    },
    {
     "data": {
      "image/png": "[encoded data removed]",
      "text/plain": [
       "<Figure size 432x288 with 1 Axes>"
      ]
     },
     "metadata": {
      "needs_background": "light"
     },
     "output_type": "display_data"
    },
    {
     "name": "stdout",
     "output_type": "stream",
     "text": [
      "y2_bmi: 2592 rows\n"
     ]
    },
    {
     "data": {
      "image/png": "[encoded data removed]",
      "text/plain": [
       "<Figure size 432x288 with 1 Axes>"
      ]
     },
     "metadata": {
      "needs_background": "light"
     },
     "output_type": "display_data"
    }
   ],
   "source": [
    "data.plot('target')"
   ]
  },
  {
   "cell_type": "markdown",
   "id": "jewish-short",
   "metadata": {},
   "source": [
    "Okay, we note that there are some extreme outliers ... in bmi_diff and y2_bmi, we can drop these by dropping any data points which are father then 10 standard deviations from the mean."
   ]
  },
  {
   "cell_type": "code",
   "execution_count": 9,
   "id": "numeric-helping",
   "metadata": {},
   "outputs": [
    {
     "name": "stdout",
     "output_type": "stream",
     "text": [
      "Dropped 1 Rows\n"
     ]
    },
    {
     "data": {
      "text/plain": [
       "b_bmi      52.82985\n",
       "bmi_diff   12.04728\n",
       "y2_bmi     46.93467\n",
       "dtype: float64"
      ]
     },
     "execution_count": 9,
     "metadata": {},
     "output_type": "execute_result"
    }
   ],
   "source": [
    "data = data.filter_outliers_by_std(n_std=10, scope='target')\n",
    "data['target'].max()"
   ]
  },
  {
   "cell_type": "code",
   "execution_count": 10,
   "id": "afraid-specialist",
   "metadata": {},
   "outputs": [
    {
     "name": "stdout",
     "output_type": "stream",
     "text": [
      "b_bmi: 2591 rows\n"
     ]
    },
    {
     "data": {
      "image/png": "[encoded data removed]",
      "text/plain": [
       "<Figure size 432x288 with 1 Axes>"
      ]
     },
     "metadata": {
      "needs_background": "light"
     },
     "output_type": "display_data"
    },
    {
     "name": "stdout",
     "output_type": "stream",
     "text": [
      "bmi_diff: 2591 rows\n"
     ]
    },
    {
     "data": {
      "image/png": "[encoded data removed]",
      "text/plain": [
       "<Figure size 432x288 with 1 Axes>"
      ]
     },
     "metadata": {
      "needs_background": "light"
     },
     "output_type": "display_data"
    },
    {
     "name": "stdout",
     "output_type": "stream",
     "text": [
      "y2_bmi: 2591 rows\n"
     ]
    },
    {
     "data": {
      "image/png": "[encoded data removed]",
      "text/plain": [
       "<Figure size 432x288 with 1 Axes>"
      ]
     },
     "metadata": {
      "needs_background": "light"
     },
     "output_type": "display_data"
    }
   ],
   "source": [
    "data.plot('target')"
   ]
  },
  {
   "cell_type": "markdown",
   "id": "comparable-market",
   "metadata": {},
   "source": [
    "Okay those maximum seem much more reasonable. Let's also assume that there may be some extreme values present in the input data as well, and that these represet corrupted data that we therefore want to drop."
   ]
  },
  {
   "cell_type": "code",
   "execution_count": 11,
   "id": "public-office",
   "metadata": {},
   "outputs": [
    {
     "name": "stdout",
     "output_type": "stream",
     "text": [
      "Dropped 62 Rows\n",
      "Dropped 18 Rows\n"
     ]
    }
   ],
   "source": [
    "# Repeat it twice, to deal with outliers at multiple scales\n",
    "data = data.filter_outliers_by_std(n_std=10, scope='float')\n",
    "data = data.filter_outliers_by_std(n_std=10, scope='float')"
   ]
  },
  {
   "cell_type": "markdown",
   "id": "verified-spray",
   "metadata": {},
   "source": [
    "Next, we consider splitting up out data with a global train and test split. This can be useful in some instances. Note that we also define a cv strategy which says to perform the train test split keeping members of the same family in the same fold."
   ]
  },
  {
   "cell_type": "code",
   "execution_count": 12,
   "id": "urban-edinburgh",
   "metadata": {},
   "outputs": [
    {
     "name": "stdout",
     "output_type": "stream",
     "text": [
      "Performing test split on: 2511 subjects.\n",
      "random_state: 5\n",
      "Test split size: 0.2\n",
      "\n",
      "Performed train/test split\n",
      "Train size: 2011\n",
      "Test size:  500\n"
     ]
    },
    {
     "data": {
      "text/html": [
       "<div style=\"float: left; padding: 10px;\">\n",
       "        <h3>Data</h3><div>\n",
       "<style scoped>\n",
       "    .dataframe tbody tr th:only-of-type {\n",
       "        vertical-align: middle;\n",
       "    }\n",
       "\n",
       "    .dataframe tbody tr th {\n",
       "        vertical-align: top;\n",
       "    }\n",
       "\n",
       "    .dataframe thead th {\n",
       "        text-align: right;\n",
       "    }\n",
       "</style>\n",
       "<table border=\"1\" class=\"dataframe\">\n",
       "  <thead>\n",
       "    <tr style=\"text-align: right;\">\n",
       "      <th></th>\n",
       "      <th>b_agemos</th>\n",
       "      <th>b_demo_highest_education_categories</th>\n",
       "      <th>b_race_ethnicity_categories</th>\n",
       "      <th>b_sex</th>\n",
       "      <th>dmri_dti_full_fa_subcort_aseg_accumbens_area_lh</th>\n",
       "      <th>dmri_dti_full_fa_subcort_aseg_accumbens_area_rh</th>\n",
       "      <th>dmri_dti_full_fa_subcort_aseg_amygdala_lh</th>\n",
       "      <th>dmri_dti_full_fa_subcort_aseg_amygdala_rh</th>\n",
       "      <th>dmri_dti_full_fa_subcort_aseg_caudate_lh</th>\n",
       "      <th>dmri_dti_full_fa_subcort_aseg_caudate_rh</th>\n",
       "      <th>...</th>\n",
       "      <th>smri_vol_scs_suprateialv</th>\n",
       "      <th>smri_vol_scs_tplh</th>\n",
       "      <th>smri_vol_scs_tprh</th>\n",
       "      <th>smri_vol_scs_vedclh</th>\n",
       "      <th>smri_vol_scs_vedcrh</th>\n",
       "      <th>smri_vol_scs_wholeb</th>\n",
       "      <th>smri_vol_scs_wmhint</th>\n",
       "      <th>smri_vol_scs_wmhintlh</th>\n",
       "      <th>smri_vol_scs_wmhintrh</th>\n",
       "      <th>y2_mri_info_deviceserialnumber</th>\n",
       "    </tr>\n",
       "  </thead>\n",
       "  <tbody>\n",
       "    <tr>\n",
       "      <th style=\"background: RGBA(249, 121, 93, .25)\">0</th>\n",
       "      <td>124</td>\n",
       "      <td>1</td>\n",
       "      <td>1</td>\n",
       "      <td>0</td>\n",
       "      <td>0.00130</td>\n",
       "      <td>0.01091</td>\n",
       "      <td>-0.02198</td>\n",
       "      <td>0.00540</td>\n",
       "      <td>0.01938</td>\n",
       "      <td>0.02625</td>\n",
       "      <td>...</td>\n",
       "      <td>5,349.45748</td>\n",
       "      <td>233.90000</td>\n",
       "      <td>-152.70000</td>\n",
       "      <td>-30.40000</td>\n",
       "      <td>-60.30000</td>\n",
       "      <td>3,806.65748</td>\n",
       "      <td>10.50000</td>\n",
       "      <td>0</td>\n",
       "      <td>0</td>\n",
       "      <td>25</td>\n",
       "    </tr>\n",
       "    <tr>\n",
       "      <th style=\"background: RGBA(176, 224, 230, .25)\">1</th>\n",
       "      <td>114</td>\n",
       "      <td>2</td>\n",
       "      <td>0</td>\n",
       "      <td>0</td>\n",
       "      <td>-0.05736</td>\n",
       "      <td>-0.06722</td>\n",
       "      <td>-0.03989</td>\n",
       "      <td>-0.03279</td>\n",
       "      <td>-0.05530</td>\n",
       "      <td>-0.05565</td>\n",
       "      <td>...</td>\n",
       "      <td>8,612.98668</td>\n",
       "      <td>904.50000</td>\n",
       "      <td>426.10000</td>\n",
       "      <td>-106.20000</td>\n",
       "      <td>-44.60000</td>\n",
       "      <td>8,607.68667</td>\n",
       "      <td>-68.20000</td>\n",
       "      <td>0</td>\n",
       "      <td>0</td>\n",
       "      <td>20</td>\n",
       "    </tr>\n",
       "    <tr>\n",
       "      <th style=\"background: RGBA(176, 224, 230, .25)\">2</th>\n",
       "      <td>118</td>\n",
       "      <td>4</td>\n",
       "      <td>1</td>\n",
       "      <td>0</td>\n",
       "      <td>-0.01056</td>\n",
       "      <td>0.00005</td>\n",
       "      <td>0.00111</td>\n",
       "      <td>-0.01210</td>\n",
       "      <td>0.01097</td>\n",
       "      <td>-0.00400</td>\n",
       "      <td>...</td>\n",
       "      <td>-8,676.49078</td>\n",
       "      <td>346.50000</td>\n",
       "      <td>364.40000</td>\n",
       "      <td>-153.30000</td>\n",
       "      <td>-354.10000</td>\n",
       "      <td>-8,363.89077</td>\n",
       "      <td>-186.70000</td>\n",
       "      <td>0</td>\n",
       "      <td>0</td>\n",
       "      <td>9</td>\n",
       "    </tr>\n",
       "    <tr>\n",
       "      <th style=\"background: RGBA(176, 224, 230, .25)\">3</th>\n",
       "      <td>129</td>\n",
       "      <td>2</td>\n",
       "      <td>2</td>\n",
       "      <td>0</td>\n",
       "      <td>-0.01598</td>\n",
       "      <td>0.01693</td>\n",
       "      <td>0.00801</td>\n",
       "      <td>0.00392</td>\n",
       "      <td>0.01860</td>\n",
       "      <td>-0.00437</td>\n",
       "      <td>...</td>\n",
       "      <td>-2,028.86693</td>\n",
       "      <td>-43.20000</td>\n",
       "      <td>-108.60000</td>\n",
       "      <td>-41.80000</td>\n",
       "      <td>2.60000</td>\n",
       "      <td>-868.16693</td>\n",
       "      <td>153.40000</td>\n",
       "      <td>0</td>\n",
       "      <td>0</td>\n",
       "      <td>2</td>\n",
       "    </tr>\n",
       "    <tr>\n",
       "      <th style=\"background: RGBA(176, 224, 230, .25)\">4</th>\n",
       "      <td>129</td>\n",
       "      <td>1</td>\n",
       "      <td>2</td>\n",
       "      <td>0</td>\n",
       "      <td>-0.00431</td>\n",
       "      <td>-0.00233</td>\n",
       "      <td>0.00198</td>\n",
       "      <td>0.01399</td>\n",
       "      <td>0.00302</td>\n",
       "      <td>-0.00935</td>\n",
       "      <td>...</td>\n",
       "      <td>-10,946.83612</td>\n",
       "      <td>-428.40000</td>\n",
       "      <td>-959.60000</td>\n",
       "      <td>-367.70000</td>\n",
       "      <td>523.70000</td>\n",
       "      <td>-13,341.83612</td>\n",
       "      <td>-116.00000</td>\n",
       "      <td>0</td>\n",
       "      <td>0</td>\n",
       "      <td>10</td>\n",
       "    </tr>\n",
       "    <tr>\n",
       "      <th>...</th>\n",
       "      <td>...</td>\n",
       "      <td>...</td>\n",
       "      <td>...</td>\n",
       "      <td>...</td>\n",
       "      <td>...</td>\n",
       "      <td>...</td>\n",
       "      <td>...</td>\n",
       "      <td>...</td>\n",
       "      <td>...</td>\n",
       "      <td>...</td>\n",
       "      <td>...</td>\n",
       "      <td>...</td>\n",
       "      <td>...</td>\n",
       "      <td>...</td>\n",
       "      <td>...</td>\n",
       "      <td>...</td>\n",
       "      <td>...</td>\n",
       "      <td>...</td>\n",
       "      <td>...</td>\n",
       "      <td>...</td>\n",
       "      <td>...</td>\n",
       "    </tr>\n",
       "    <tr>\n",
       "      <th style=\"background: RGBA(176, 224, 230, .25)\">2617</th>\n",
       "      <td>116</td>\n",
       "      <td>4</td>\n",
       "      <td>0</td>\n",
       "      <td>1</td>\n",
       "      <td>0.01832</td>\n",
       "      <td>0.01805</td>\n",
       "      <td>-0.01115</td>\n",
       "      <td>-0.01464</td>\n",
       "      <td>-0.00121</td>\n",
       "      <td>0.00636</td>\n",
       "      <td>...</td>\n",
       "      <td>28,667.74480</td>\n",
       "      <td>222.10000</td>\n",
       "      <td>-81.30000</td>\n",
       "      <td>75.10000</td>\n",
       "      <td>-179.90000</td>\n",
       "      <td>30,634.24480</td>\n",
       "      <td>-488.40000</td>\n",
       "      <td>0</td>\n",
       "      <td>0</td>\n",
       "      <td>9</td>\n",
       "    </tr>\n",
       "    <tr>\n",
       "      <th style=\"background: RGBA(176, 224, 230, .25)\">2618</th>\n",
       "      <td>121</td>\n",
       "      <td>4</td>\n",
       "      <td>0</td>\n",
       "      <td>0</td>\n",
       "      <td>0.00590</td>\n",
       "      <td>0.01706</td>\n",
       "      <td>0.01344</td>\n",
       "      <td>-0.01547</td>\n",
       "      <td>0.05446</td>\n",
       "      <td>0.00473</td>\n",
       "      <td>...</td>\n",
       "      <td>29,291.49896</td>\n",
       "      <td>622.10000</td>\n",
       "      <td>1,192.90000</td>\n",
       "      <td>178.50000</td>\n",
       "      <td>-172.30000</td>\n",
       "      <td>35,063.49896</td>\n",
       "      <td>-328.20000</td>\n",
       "      <td>0</td>\n",
       "      <td>0</td>\n",
       "      <td>6</td>\n",
       "    </tr>\n",
       "    <tr>\n",
       "      <th style=\"background: RGBA(176, 224, 230, .25)\">2619</th>\n",
       "      <td>115</td>\n",
       "      <td>4</td>\n",
       "      <td>0</td>\n",
       "      <td>1</td>\n",
       "      <td>0.01052</td>\n",
       "      <td>-0.00480</td>\n",
       "      <td>-0.01075</td>\n",
       "      <td>0.00413</td>\n",
       "      <td>0.00617</td>\n",
       "      <td>-0.00796</td>\n",
       "      <td>...</td>\n",
       "      <td>-2,472.94550</td>\n",
       "      <td>188.60000</td>\n",
       "      <td>296.00000</td>\n",
       "      <td>-80.00000</td>\n",
       "      <td>-93.40000</td>\n",
       "      <td>125.15450</td>\n",
       "      <td>-111.00000</td>\n",
       "      <td>0</td>\n",
       "      <td>0</td>\n",
       "      <td>3</td>\n",
       "    </tr>\n",
       "    <tr>\n",
       "      <th style=\"background: RGBA(176, 224, 230, .25)\">2620</th>\n",
       "      <td>122</td>\n",
       "      <td>3</td>\n",
       "      <td>4</td>\n",
       "      <td>1</td>\n",
       "      <td>-0.00367</td>\n",
       "      <td>-0.02230</td>\n",
       "      <td>-0.02573</td>\n",
       "      <td>0.00112</td>\n",
       "      <td>-0.01337</td>\n",
       "      <td>0.00052</td>\n",
       "      <td>...</td>\n",
       "      <td>-5,554.60274</td>\n",
       "      <td>92.20000</td>\n",
       "      <td>115.10000</td>\n",
       "      <td>27.90000</td>\n",
       "      <td>59.10000</td>\n",
       "      <td>-6,407.10274</td>\n",
       "      <td>-239.70000</td>\n",
       "      <td>0</td>\n",
       "      <td>0</td>\n",
       "      <td>14</td>\n",
       "    </tr>\n",
       "    <tr>\n",
       "      <th style=\"background: RGBA(176, 224, 230, .25)\">2621</th>\n",
       "      <td>108</td>\n",
       "      <td>2</td>\n",
       "      <td>1</td>\n",
       "      <td>0</td>\n",
       "      <td>0.01437</td>\n",
       "      <td>-0.00121</td>\n",
       "      <td>-0.00540</td>\n",
       "      <td>-0.00305</td>\n",
       "      <td>-0.00761</td>\n",
       "      <td>0.00312</td>\n",
       "      <td>...</td>\n",
       "      <td>3,299.19185</td>\n",
       "      <td>-276.20000</td>\n",
       "      <td>107.10000</td>\n",
       "      <td>281.90000</td>\n",
       "      <td>191.00000</td>\n",
       "      <td>2,199.19185</td>\n",
       "      <td>-278.20000</td>\n",
       "      <td>0</td>\n",
       "      <td>0</td>\n",
       "      <td>0</td>\n",
       "    </tr>\n",
       "  </tbody>\n",
       "</table>\n",
       "<p>2511 rows × 667 columns</p>\n",
       "<p style=\"margin-top: .35em\"><span style=\"background: RGBA(176, 224, 230, .25)\">2011 rows × 667 columns - Train Set </span></p><p style=\"margin-top: .35em\"><span style=\"background: RGBA(249, 121, 93, .25)\">500 rows × 667 columns - Test Set </span></p></div></div>\n",
       "<div style=\"float: left; padding: 10px;\">\n",
       "        <h3>Targets</h3><div>\n",
       "<style scoped>\n",
       "    .dataframe tbody tr th:only-of-type {\n",
       "        vertical-align: middle;\n",
       "    }\n",
       "\n",
       "    .dataframe tbody tr th {\n",
       "        vertical-align: top;\n",
       "    }\n",
       "\n",
       "    .dataframe thead th {\n",
       "        text-align: right;\n",
       "    }\n",
       "</style>\n",
       "<table border=\"1\" class=\"dataframe\">\n",
       "  <thead>\n",
       "    <tr style=\"text-align: right;\">\n",
       "      <th></th>\n",
       "      <th>b_bmi</th>\n",
       "      <th>bmi_diff</th>\n",
       "      <th>y2_bmi</th>\n",
       "    </tr>\n",
       "  </thead>\n",
       "  <tbody>\n",
       "    <tr>\n",
       "      <th style=\"background: RGBA(249, 121, 93, .25)\">0</th>\n",
       "      <td>15.17507</td>\n",
       "      <td>1.60560</td>\n",
       "      <td>16.78067</td>\n",
       "    </tr>\n",
       "    <tr>\n",
       "      <th style=\"background: RGBA(176, 224, 230, .25)\">1</th>\n",
       "      <td>24.43703</td>\n",
       "      <td>7.30913</td>\n",
       "      <td>31.74616</td>\n",
       "    </tr>\n",
       "    <tr>\n",
       "      <th style=\"background: RGBA(176, 224, 230, .25)\">2</th>\n",
       "      <td>16.09284</td>\n",
       "      <td>-0.65470</td>\n",
       "      <td>15.43814</td>\n",
       "    </tr>\n",
       "    <tr>\n",
       "      <th style=\"background: RGBA(176, 224, 230, .25)\">3</th>\n",
       "      <td>23.12664</td>\n",
       "      <td>3.93355</td>\n",
       "      <td>27.06019</td>\n",
       "    </tr>\n",
       "    <tr>\n",
       "      <th style=\"background: RGBA(176, 224, 230, .25)\">4</th>\n",
       "      <td>25.67191</td>\n",
       "      <td>2.10319</td>\n",
       "      <td>27.77510</td>\n",
       "    </tr>\n",
       "    <tr>\n",
       "      <th>...</th>\n",
       "      <td>...</td>\n",
       "      <td>...</td>\n",
       "      <td>...</td>\n",
       "    </tr>\n",
       "    <tr>\n",
       "      <th style=\"background: RGBA(176, 224, 230, .25)\">2617</th>\n",
       "      <td>16.39614</td>\n",
       "      <td>2.08329</td>\n",
       "      <td>18.47943</td>\n",
       "    </tr>\n",
       "    <tr>\n",
       "      <th style=\"background: RGBA(176, 224, 230, .25)\">2618</th>\n",
       "      <td>19.46738</td>\n",
       "      <td>2.84646</td>\n",
       "      <td>22.31384</td>\n",
       "    </tr>\n",
       "    <tr>\n",
       "      <th style=\"background: RGBA(176, 224, 230, .25)\">2619</th>\n",
       "      <td>16.84454</td>\n",
       "      <td>0.32319</td>\n",
       "      <td>17.16773</td>\n",
       "    </tr>\n",
       "    <tr>\n",
       "      <th style=\"background: RGBA(176, 224, 230, .25)\">2620</th>\n",
       "      <td>14.79673</td>\n",
       "      <td>1.22506</td>\n",
       "      <td>16.02180</td>\n",
       "    </tr>\n",
       "    <tr>\n",
       "      <th style=\"background: RGBA(176, 224, 230, .25)\">2621</th>\n",
       "      <td>14.19771</td>\n",
       "      <td>0.49346</td>\n",
       "      <td>14.69117</td>\n",
       "    </tr>\n",
       "  </tbody>\n",
       "</table>\n",
       "<p>2511 rows × 3 columns</p>\n",
       "<p style=\"margin-top: .35em\"><span style=\"background: RGBA(176, 224, 230, .25)\">2011 rows × 3 columns - Train Set </span></p><p style=\"margin-top: .35em\"><span style=\"background: RGBA(249, 121, 93, .25)\">500 rows × 3 columns - Test Set </span></p></div></div>\n",
       "<div style=\"float: left; padding: 10px;\">\n",
       "        <h3>Non Input</h3><div>\n",
       "<style scoped>\n",
       "    .dataframe tbody tr th:only-of-type {\n",
       "        vertical-align: middle;\n",
       "    }\n",
       "\n",
       "    .dataframe tbody tr th {\n",
       "        vertical-align: top;\n",
       "    }\n",
       "\n",
       "    .dataframe thead th {\n",
       "        text-align: right;\n",
       "    }\n",
       "</style>\n",
       "<table border=\"1\" class=\"dataframe\">\n",
       "  <thead>\n",
       "    <tr style=\"text-align: right;\">\n",
       "      <th></th>\n",
       "      <th>b_rel_family_id</th>\n",
       "      <th>time_diff</th>\n",
       "    </tr>\n",
       "  </thead>\n",
       "  <tbody>\n",
       "    <tr>\n",
       "      <th style=\"background: RGBA(249, 121, 93, .25)\">0</th>\n",
       "      <td>789</td>\n",
       "      <td>25</td>\n",
       "    </tr>\n",
       "    <tr>\n",
       "      <th style=\"background: RGBA(176, 224, 230, .25)\">1</th>\n",
       "      <td>188</td>\n",
       "      <td>24</td>\n",
       "    </tr>\n",
       "    <tr>\n",
       "      <th style=\"background: RGBA(176, 224, 230, .25)\">2</th>\n",
       "      <td>636</td>\n",
       "      <td>24</td>\n",
       "    </tr>\n",
       "    <tr>\n",
       "      <th style=\"background: RGBA(176, 224, 230, .25)\">3</th>\n",
       "      <td>908</td>\n",
       "      <td>23</td>\n",
       "    </tr>\n",
       "    <tr>\n",
       "      <th style=\"background: RGBA(176, 224, 230, .25)\">4</th>\n",
       "      <td>107</td>\n",
       "      <td>26</td>\n",
       "    </tr>\n",
       "    <tr>\n",
       "      <th>...</th>\n",
       "      <td>...</td>\n",
       "      <td>...</td>\n",
       "    </tr>\n",
       "    <tr>\n",
       "      <th style=\"background: RGBA(176, 224, 230, .25)\">2617</th>\n",
       "      <td>191</td>\n",
       "      <td>24</td>\n",
       "    </tr>\n",
       "    <tr>\n",
       "      <th style=\"background: RGBA(176, 224, 230, .25)\">2618</th>\n",
       "      <td>645</td>\n",
       "      <td>23</td>\n",
       "    </tr>\n",
       "    <tr>\n",
       "      <th style=\"background: RGBA(176, 224, 230, .25)\">2619</th>\n",
       "      <td>572</td>\n",
       "      <td>21</td>\n",
       "    </tr>\n",
       "    <tr>\n",
       "      <th style=\"background: RGBA(176, 224, 230, .25)\">2620</th>\n",
       "      <td>903</td>\n",
       "      <td>24</td>\n",
       "    </tr>\n",
       "    <tr>\n",
       "      <th style=\"background: RGBA(176, 224, 230, .25)\">2621</th>\n",
       "      <td>705</td>\n",
       "      <td>22</td>\n",
       "    </tr>\n",
       "  </tbody>\n",
       "</table>\n",
       "<p>2511 rows × 2 columns</p>\n",
       "<p style=\"margin-top: .35em\"><span style=\"background: RGBA(176, 224, 230, .25)\">2011 rows × 2 columns - Train Set </span></p><p style=\"margin-top: .35em\"><span style=\"background: RGBA(249, 121, 93, .25)\">500 rows × 2 columns - Test Set </span></p></div></div>\n"
      ],
      "text/plain": [
       "      smri_thick_cort_destrieux_g_and_s_frontomargin_lh  \\\n",
       "0                                              -0.03000   \n",
       "1                                              -0.14100   \n",
       "2                                               0.30600   \n",
       "3                                              -0.09900   \n",
       "4                                               0.07700   \n",
       "...                                                 ...   \n",
       "2617                                            0.57700   \n",
       "2618                                            0.14800   \n",
       "2619                                           -0.05100   \n",
       "2620                                            0.08300   \n",
       "2621                                           -0.00900   \n",
       "\n",
       "      smri_thick_cort_destrieux_g_and_s_occipital_inf_lh  \\\n",
       "0                                              -0.11600    \n",
       "1                                              -0.32200    \n",
       "2                                              -0.12200    \n",
       "3                                              -0.04200    \n",
       "4                                              -0.07700    \n",
       "...                                                 ...    \n",
       "2617                                            0.09200    \n",
       "2618                                           -0.04600    \n",
       "2619                                           -0.07300    \n",
       "2620                                           -0.10700    \n",
       "2621                                           -0.06500    \n",
       "\n",
       "      smri_thick_cort_destrieux_g_and_s_paracentral_lh  \\\n",
       "0                                             -0.08600   \n",
       "1                                              0.00600   \n",
       "2                                             -0.29300   \n",
       "3                                             -0.03600   \n",
       "4                                             -0.01100   \n",
       "...                                                ...   \n",
       "2617                                           0.13100   \n",
       "2618                                          -0.17100   \n",
       "2619                                          -0.02000   \n",
       "2620                                           0.14400   \n",
       "2621                                          -0.03800   \n",
       "\n",
       "      smri_thick_cort_destrieux_g_and_s_subcentral_lh  \\\n",
       "0                                             0.00100   \n",
       "1                                             0.21600   \n",
       "2                                             0.07000   \n",
       "3                                            -0.06500   \n",
       "4                                            -0.06700   \n",
       "...                                               ...   \n",
       "2617                                          0.10400   \n",
       "2618                                          0.02800   \n",
       "2619                                         -0.08000   \n",
       "2620                                          0.00900   \n",
       "2621                                         -0.16600   \n",
       "\n",
       "      smri_thick_cort_destrieux_g_and_s_transv_frontopol_lh  \\\n",
       "0                                              -0.09100       \n",
       "1                                              -0.06400       \n",
       "2                                               0.09700       \n",
       "3                                              -0.11600       \n",
       "4                                               0.01200       \n",
       "...                                                 ...       \n",
       "2617                                            0.79000       \n",
       "2618                                            0.16700       \n",
       "2619                                           -0.02600       \n",
       "2620                                           -0.26200       \n",
       "2621                                            0.01700       \n",
       "\n",
       "      smri_thick_cort_destrieux_g_and_s_cingul_ant_lh  \\\n",
       "0                                            -0.02900   \n",
       "1                                            -0.17100   \n",
       "2                                            -0.35100   \n",
       "3                                            -0.21200   \n",
       "4                                            -0.01100   \n",
       "...                                               ...   \n",
       "2617                                          0.02700   \n",
       "2618                                          0.03000   \n",
       "2619                                         -0.01100   \n",
       "2620                                         -0.19900   \n",
       "2621                                         -0.07400   \n",
       "\n",
       "      smri_thick_cort_destrieux_g_and_s_cingul_mid_ant_lh  \\\n",
       "0                                               0.00500     \n",
       "1                                              -0.11300     \n",
       "2                                              -0.32300     \n",
       "3                                              -0.06000     \n",
       "4                                              -0.04600     \n",
       "...                                                 ...     \n",
       "2617                                           -0.03300     \n",
       "2618                                           -0.02200     \n",
       "2619                                           -0.12500     \n",
       "2620                                           -0.08900     \n",
       "2621                                           -0.00200     \n",
       "\n",
       "      smri_thick_cort_destrieux_g_and_s_cingul_mid_post_lh  \\\n",
       "0                                              -0.04900      \n",
       "1                                              -0.07300      \n",
       "2                                              -0.05400      \n",
       "3                                              -0.04500      \n",
       "4                                              -0.05000      \n",
       "...                                                 ...      \n",
       "2617                                           -0.19800      \n",
       "2618                                            0.02500      \n",
       "2619                                           -0.14500      \n",
       "2620                                            0.10100      \n",
       "2621                                           -0.03900      \n",
       "\n",
       "      smri_thick_cort_destrieux_g_cingul_post_dorsal_lh  \\\n",
       "0                                               0.04700   \n",
       "1                                               0.10000   \n",
       "2                                               0.07700   \n",
       "3                                               0.01200   \n",
       "4                                              -0.19700   \n",
       "...                                                 ...   \n",
       "2617                                           -0.20400   \n",
       "2618                                            0.01400   \n",
       "2619                                           -0.08700   \n",
       "2620                                           -0.04600   \n",
       "2621                                           -0.00400   \n",
       "\n",
       "      smri_thick_cort_destrieux_g_cingul_post_ventral_lh  ...    b_bmi  \\\n",
       "0                                               0.17500   ... 15.17507   \n",
       "1                                              -0.02500   ... 24.43703   \n",
       "2                                               0.25300   ... 16.09284   \n",
       "3                                               0.03700   ... 23.12664   \n",
       "4                                               0.06200   ... 25.67191   \n",
       "...                                                 ...   ...      ...   \n",
       "2617                                           -0.66100   ... 16.39614   \n",
       "2618                                            0.40500   ... 19.46738   \n",
       "2619                                           -0.60000   ... 16.84454   \n",
       "2620                                           -0.21000   ... 14.79673   \n",
       "2621                                           -0.32900   ... 14.19771   \n",
       "\n",
       "      bmi_diff  b_sex  b_demo_highest_education_categories  \\\n",
       "0      1.60560      0                                    1   \n",
       "1      7.30913      0                                    2   \n",
       "2     -0.65470      0                                    4   \n",
       "3      3.93355      0                                    2   \n",
       "4      2.10319      0                                    1   \n",
       "...        ...    ...                                  ...   \n",
       "2617   2.08329      1                                    4   \n",
       "2618   2.84646      0                                    4   \n",
       "2619   0.32319      1                                    4   \n",
       "2620   1.22506      1                                    3   \n",
       "2621   0.49346      0                                    2   \n",
       "\n",
       "      b_race_ethnicity_categories  b_agemos  pub_diff  \\\n",
       "0                               1       124   0.50000   \n",
       "1                               0       114   0.50000   \n",
       "2                               1       118   0.00000   \n",
       "3                               2       129   1.00000   \n",
       "4                               2       129   1.00000   \n",
       "...                           ...       ...       ...   \n",
       "2617                            0       116   0.50000   \n",
       "2618                            0       121   1.00000   \n",
       "2619                            0       115   0.00000   \n",
       "2620                            4       122   0.00000   \n",
       "2621                            1       108  -1.00000   \n",
       "\n",
       "      y2_mri_info_deviceserialnumber  b_rel_family_id  time_diff  \n",
       "0                                 25              789         25  \n",
       "1                                 20              188         24  \n",
       "2                                  9              636         24  \n",
       "3                                  2              908         23  \n",
       "4                                 10              107         26  \n",
       "...                              ...              ...        ...  \n",
       "2617                               9              191         24  \n",
       "2618                               6              645         23  \n",
       "2619                               3              572         21  \n",
       "2620                              14              903         24  \n",
       "2621                               0              705         22  \n",
       "\n",
       "[2511 rows x 672 columns]"
      ]
     },
     "execution_count": 12,
     "metadata": {},
     "output_type": "execute_result"
    }
   ],
   "source": [
    "# Let's say we want to keep family members in the same train or test split\n",
    "cv_strategy = bp.CVStrategy(groups='b_rel_family_id')\n",
    "\n",
    "# Test split\n",
    "data = data.set_test_split(.2, random_state=5, cv_strategy=cv_strategy)\n",
    "data"
   ]
  },
  {
   "cell_type": "markdown",
   "id": "enormous-construction",
   "metadata": {},
   "source": [
    "## Single Training Set Evaluation"
   ]
  },
  {
   "cell_type": "markdown",
   "id": "composed-inquiry",
   "metadata": {},
   "source": [
    "Our Dataset is now fully prepared. We can now define and evaluate a machine learning pipeline.\n",
    "We will start by considering a pipeline which a few steps, these are:\n",
    "\n",
    "1. Winsorize just the brain data.\n",
    "2. Perform Robust Scaling on any 'float' type columns, 'brain' or 'covars'\n",
    "3. One Hot Encode any categorical features\n",
    "4. Fit an Elastic-Net Regression with nested random hyper-parameter search\n",
    "\n",
    "Let's use one other feature of the toolbox, that is a custom cross-validation strategy. This is the same idea that we used when defining the train-test split, but now we want it to apply both during the evaluation and during the splits made when evaluating hyper-parameters."
   ]
  },
  {
   "cell_type": "code",
   "execution_count": 13,
   "id": "collect-tribe",
   "metadata": {},
   "outputs": [
    {
     "data": {
      "text/plain": [
       "Pipeline(steps=[Scaler(extra_params={'quantile_range': (2, 98)}, obj='winsorize', scope='brain'), Scaler(obj='standard'), Transformer(obj='one hot encoder', scope='category'), Model(obj='elastic', param_search=ParamSearch(cv=CV(cv_strategy=CVStrategy(groups='b_rel_family_id')), n_iter=60), params=1)])"
      ]
     },
     "execution_count": 13,
     "metadata": {},
     "output_type": "execute_result"
    }
   ],
   "source": [
    "#1\n",
    "w_scaler = bp.Scaler('winsorize', quantile_range=(2, 98), scope='brain')\n",
    "\n",
    "#2\n",
    "s_scaler = bp.Scaler('standard', scope='float')\n",
    "\n",
    "#3\n",
    "ohe = bp.Transformer('one hot encoder', scope='category')\n",
    "\n",
    "#4\n",
    "param_search=bp.ParamSearch('RandomSearch', n_iter=60,\n",
    "                            cv=bp.CV(splits=3, cv_strategy=cv_strategy))\n",
    "elastic = bp.Model('elastic', params=1,\n",
    "                   param_search=param_search)\n",
    "\n",
    "# Now we can actually defined the pipeline\n",
    "pipe = bp.Pipeline(steps=[w_scaler, s_scaler, ohe, elastic])\n",
    "pipe"
   ]
  },
  {
   "cell_type": "markdown",
   "id": "ancient-ancient",
   "metadata": {},
   "source": [
    "Let's say we want to use a 5-fold CV to evaluate this model on just the training set. We can first define the cv, the same as for the param_search above, but this time with splits=5. "
   ]
  },
  {
   "cell_type": "code",
   "execution_count": 14,
   "id": "executive-infrastructure",
   "metadata": {},
   "outputs": [
    {
     "data": {
      "text/plain": [
       "CV(cv_strategy=CVStrategy(groups='b_rel_family_id'), splits=5)"
      ]
     },
     "execution_count": 14,
     "metadata": {},
     "output_type": "execute_result"
    }
   ],
   "source": [
    "cv=bp.CV(splits=5, n_repeats=1, cv_strategy=cv_strategy)\n",
    "cv"
   ]
  },
  {
   "cell_type": "markdown",
   "id": "elect-necklace",
   "metadata": {},
   "source": [
    "And we will make a problem_spec to store some common params. In this case the random state for reproducibility of results and the number of jobs to use."
   ]
  },
  {
   "cell_type": "code",
   "execution_count": 15,
   "id": "cultural-logic",
   "metadata": {},
   "outputs": [
    {
     "data": {
      "text/plain": [
       "ProblemSpec(n_jobs=8, random_state=10)"
      ]
     },
     "execution_count": 15,
     "metadata": {},
     "output_type": "execute_result"
    }
   ],
   "source": [
    "# Use problem spec just to store n jobs and random state\n",
    "ps = bp.ProblemSpec(n_jobs=8, random_state=10)\n",
    "ps"
   ]
  },
  {
   "cell_type": "markdown",
   "id": "wired-charleston",
   "metadata": {},
   "source": [
    "Now we are ready to evaluate this pipeline, let's check an example using the function evaluate.\n",
    "\n",
    "We will set a few specific parameters, which can be set in evaluate or fixed in problem_spec, these are:\n",
    "\n",
    "```\n",
    "target='y2_bmi'\n",
    "scope='brain'\n",
    "subjects='train'\n",
    "```\n",
    "\n",
    "These set:\n",
    "\n",
    "1. Our target variable to predict as year 2 BMI.\n",
    "\n",
    "2. Our input features as just the brain features (i.e., not the co-variates)\n",
    "\n",
    "3. Only use as our subjects the train data\n",
    "\n"
   ]
  },
  {
   "cell_type": "code",
   "execution_count": 16,
   "id": "pleased-panic",
   "metadata": {},
   "outputs": [
    {
     "data": {
      "application/vnd.jupyter.widget-view+json": {
       "model_id": "40685a3e74f04503b0a1bb6887feef0d",
       "version_major": 2,
       "version_minor": 0
      },
      "text/plain": [
       "Folds:   0%|          | 0/5 [00:00<?, ?it/s]"
      ]
     },
     "metadata": {},
     "output_type": "display_data"
    },
    {
     "data": {
      "text/plain": [
       "BPtEvaluator\n",
       "------------\n",
       "mean_scores = {'explained_variance': 0.021253554418295285, 'neg_mean_squared_error': -19.97986420907407}\n",
       "std_scores = {'explained_variance': 0.011864902647698555, 'neg_mean_squared_error': 1.657340479412642}\n",
       "\n",
       "Saved Attributes: ['estimators', 'preds', 'timing', 'train_indices', 'val_indices', 'feat_names', 'ps', 'mean_scores', 'std_scores', 'weighted_mean_scores', 'scores', 'fis_', 'coef_']\n",
       "\n",
       "Avaliable Methods: ['get_preds_dfs', 'get_fis', 'get_coef_', 'permutation_importance']\n",
       "\n",
       "Evaluated with:\n",
       "ProblemSpec(n_jobs=8, problem_type='regression', random_state=10, scope='brain', scorer={'explained_variance': make_scorer(explained_variance_score), 'neg_mean_squared_error': make_scorer(mean_squared_error, greater_is_better=False)}, subjects='train', target='y2_bmi')"
      ]
     },
     "execution_count": 16,
     "metadata": {},
     "output_type": "execute_result"
    }
   ],
   "source": [
    "evaluator = bp.evaluate(pipeline=pipe,\n",
    "                        dataset=data,\n",
    "                        problem_spec=ps,\n",
    "                        target='y2_bmi',\n",
    "                        scope='brain',\n",
    "                        subjects='train', \n",
    "                        cv=cv)\n",
    "evaluator"
   ]
  },
  {
   "cell_type": "markdown",
   "id": "virgin-battlefield",
   "metadata": {},
   "source": [
    "## How to employ Test Set?"
   ]
  },
  {
   "cell_type": "markdown",
   "id": "sorted-attitude",
   "metadata": {},
   "source": [
    "Next, we will discuss briefly two methods of evaluating on the test set.\n",
    "\n",
    "1. There is a notion in some of the literature that the test set should be used to evaluate an existing estimator. In this case, that would consist of selecting from the 5 trained models we evaluated on the train set, and testing the one which performed best.\n",
    "\n",
    "2. On the otherhand, we could instead re-train an estimator on the full training set and then test that on the test set. This is actually the reccomended strategy, but its still worth comparing both below.\n",
    "\n",
    "Let's first do strategy 1."
   ]
  },
  {
   "cell_type": "code",
   "execution_count": 17,
   "id": "heated-break",
   "metadata": {},
   "outputs": [
    {
     "name": "stdout",
     "output_type": "stream",
     "text": [
      "0.019468179192349444\n"
     ]
    }
   ],
   "source": [
    "# Get best model\n",
    "best_model_ind = np.argmax(evaluator.scores['explained_variance'])\n",
    "best_model = evaluator.estimators[best_model_ind]\n",
    "\n",
    "# Get the correct test data - setting the problem spec\n",
    "# as the problem spec saved when running this evaluator\n",
    "X_test, y_test = data.get_Xy(problem_spec=evaluator.ps,\n",
    "                             subjects='test')\n",
    "\n",
    "# Score\n",
    "score = best_model.score(X_test, y_test)\n",
    "print(score)"
   ]
  },
  {
   "cell_type": "markdown",
   "id": "three-invitation",
   "metadata": {},
   "source": [
    "Next, lets compare that with re-training our model on the full training set, then testing. "
   ]
  },
  {
   "cell_type": "code",
   "execution_count": 18,
   "id": "affiliated-blues",
   "metadata": {},
   "outputs": [
    {
     "data": {
      "application/vnd.jupyter.widget-view+json": {
       "model_id": "e091ac0cf8a34742bc1586064fdfef42",
       "version_major": 2,
       "version_minor": 0
      },
      "text/plain": [
       "Folds:   0%|          | 0/1 [00:00<?, ?it/s]"
      ]
     },
     "metadata": {},
     "output_type": "display_data"
    },
    {
     "data": {
      "text/plain": [
       "BPtEvaluator\n",
       "------------\n",
       "mean_scores = {'explained_variance': 0.020264832058070947, 'neg_mean_squared_error': -17.06958371478156}\n",
       "std_scores = {'explained_variance': 0.0, 'neg_mean_squared_error': 0.0}\n",
       "\n",
       "Saved Attributes: ['estimators', 'preds', 'timing', 'train_indices', 'val_indices', 'feat_names', 'ps', 'mean_scores', 'std_scores', 'weighted_mean_scores', 'scores', 'fis_', 'coef_']\n",
       "\n",
       "Avaliable Methods: ['get_preds_dfs', 'get_fis', 'get_coef_', 'permutation_importance']\n",
       "\n",
       "Evaluated with:\n",
       "ProblemSpec(n_jobs=8, problem_type='regression', random_state=10, scope='brain', scorer={'explained_variance': make_scorer(explained_variance_score), 'neg_mean_squared_error': make_scorer(mean_squared_error, greater_is_better=False)}, target='y2_bmi')"
      ]
     },
     "execution_count": 18,
     "metadata": {},
     "output_type": "execute_result"
    }
   ],
   "source": [
    "evaluator = bp.evaluate(pipeline=pipe,\n",
    "                        dataset=data,\n",
    "                        problem_spec=ps,\n",
    "                        target='y2_bmi', \n",
    "                        scope='brain',\n",
    "                        subjects='all',\n",
    "                        cv='test')\n",
    "\n",
    "evaluator"
   ]
  },
  {
   "cell_type": "markdown",
   "id": "competent-psychiatry",
   "metadata": {},
   "source": [
    "We can see that the results difer, though not hugely. One explanation is that at these sample sizes we still get boosts in performance from sample size, which means we expect our final model trained on the full and larger training set to do better. Another contributing factor is that by selecting from the 5-folds the model which does 'best' we may actually be choosing an overfit model which happened to do better on its corresponding validation set. We therefore reccomend the latter strategy.\n",
    "\n",
    "In fact, we can formalize this intution, and test it on just the training set. We can do this because really the first method is just a type of meta-estimator. What it does is just in an internal nesting step, trains five models and selects the best one. We can formalize this as a custom model and compare it below.\n",
    "\n",
    "We will also change the pipeline being compared a little bit for simplicity, replacing the elastic net we made via BPt with the ElasticNetCV object from scikit-learn."
   ]
  },
  {
   "cell_type": "code",
   "execution_count": 19,
   "id": "veterinary-irrigation",
   "metadata": {},
   "outputs": [],
   "source": [
    "from sklearn.model_selection import cross_validate\n",
    "from sklearn.linear_model import ElasticNetCV\n",
    "from sklearn.base import BaseEstimator\n",
    "\n",
    "class BestOfModel(BaseEstimator):\n",
    "    \n",
    "    def __init__(self, estimator, cv=5):\n",
    "        \n",
    "        self.estimator = estimator\n",
    "        self.cv = cv\n",
    "        \n",
    "    def fit(self, X, y):\n",
    "        \n",
    "        scores = cross_validate(self.estimator, X, y, cv=self.cv,\n",
    "                                return_estimator=True)\n",
    "        \n",
    "        best_ind = np.argmax(scores['test_score'])\n",
    "        self.estimator_ = scores['estimator'][best_ind]\n",
    "        \n",
    "    def predict(self, X):\n",
    "        \n",
    "        return self.estimator_.predict(X)\n",
    "\n",
    "\n",
    "# The new elastic net cv to use\n",
    "new_elastic = ElasticNetCV()\n",
    "\n",
    "# The best of model\n",
    "best_of_model = bp.Model(\n",
    "    BestOfModel(estimator=new_elastic, cv=5))\n",
    "\n",
    "# The static model\n",
    "static_model = bp.Model(new_elastic)\n",
    "\n",
    "# Use the same initial steps as before, but now with the best of model and the static models\n",
    "best_of_pipe = bp.Pipeline(steps=[w_scaler, s_scaler, ohe, best_of_model])\n",
    "static_pipe = bp.Pipeline(steps=[w_scaler, s_scaler, ohe, static_model])"
   ]
  },
  {
   "cell_type": "markdown",
   "id": "peripheral-trial",
   "metadata": {},
   "source": [
    "Let's try the best of model first, evaluating it on the training set with 5-fold CV.\n",
    "\n",
    "Note: This is going to be a bit slow as each time a model is trained in one of the 5-folds it needs to internally train 5 models. So it should take roughly 5x longer to evaluate then it's static counterpart."
   ]
  },
  {
   "cell_type": "code",
   "execution_count": 20,
   "id": "responsible-circus",
   "metadata": {},
   "outputs": [
    {
     "data": {
      "application/vnd.jupyter.widget-view+json": {
       "model_id": "3c57a715c7374b5a946e7970f77f3f01",
       "version_major": 2,
       "version_minor": 0
      },
      "text/plain": [
       "Folds:   0%|          | 0/5 [00:00<?, ?it/s]"
      ]
     },
     "metadata": {},
     "output_type": "display_data"
    },
    {
     "ename": "KeyboardInterrupt",
     "evalue": "",
     "output_type": "error",
     "traceback": [
      "\u001b[0;31m---------------------------------------------------------------------------\u001b[0m",
      "\u001b[0;31mKeyboardInterrupt\u001b[0m                         Traceback (most recent call last)",
      "\u001b[0;32m<ipython-input-20-e0dffbf54ffc>\u001b[0m in \u001b[0;36m<module>\u001b[0;34m\u001b[0m\n\u001b[0;32m----> 1\u001b[0;31m evaluator = bp.evaluate(pipeline=best_of_pipe,\n\u001b[0m\u001b[1;32m      2\u001b[0m                         \u001b[0mdataset\u001b[0m\u001b[0;34m=\u001b[0m\u001b[0mdata\u001b[0m\u001b[0;34m,\u001b[0m\u001b[0;34m\u001b[0m\u001b[0;34m\u001b[0m\u001b[0m\n\u001b[1;32m      3\u001b[0m                         \u001b[0mproblem_spec\u001b[0m\u001b[0;34m=\u001b[0m\u001b[0mps\u001b[0m\u001b[0;34m,\u001b[0m\u001b[0;34m\u001b[0m\u001b[0;34m\u001b[0m\u001b[0m\n\u001b[1;32m      4\u001b[0m                         \u001b[0mtarget\u001b[0m\u001b[0;34m=\u001b[0m\u001b[0;34m'y2_bmi'\u001b[0m\u001b[0;34m,\u001b[0m\u001b[0;34m\u001b[0m\u001b[0;34m\u001b[0m\u001b[0m\n\u001b[1;32m      5\u001b[0m                         \u001b[0mscope\u001b[0m\u001b[0;34m=\u001b[0m\u001b[0;34m'brain'\u001b[0m\u001b[0;34m,\u001b[0m\u001b[0;34m\u001b[0m\u001b[0;34m\u001b[0m\u001b[0m\n",
      "\u001b[0;32m~/anaconda3/envs/bpt/lib/python3.9/site-packages/BPt/main/funcs.py\u001b[0m in \u001b[0;36mevaluate\u001b[0;34m(pipeline, dataset, problem_spec, cv, progress_bar, store_preds, store_estimators, store_timing, decode_feat_names, eval_verbose, progress_loc, **extra_params)\u001b[0m\n\u001b[1;32m   1039\u001b[0m     \u001b[0;32mif\u001b[0m \u001b[0;32mnot\u001b[0m \u001b[0misinstance\u001b[0m\u001b[0;34m(\u001b[0m\u001b[0mestimator_ps\u001b[0m\u001b[0;34m,\u001b[0m \u001b[0mCompareDict\u001b[0m\u001b[0;34m)\u001b[0m\u001b[0;34m:\u001b[0m\u001b[0;34m\u001b[0m\u001b[0;34m\u001b[0m\u001b[0m\n\u001b[1;32m   1040\u001b[0m         \u001b[0mestimator\u001b[0m\u001b[0;34m,\u001b[0m \u001b[0mps\u001b[0m \u001b[0;34m=\u001b[0m \u001b[0mestimator_ps\u001b[0m\u001b[0;34m\u001b[0m\u001b[0;34m\u001b[0m\u001b[0m\n\u001b[0;32m-> 1041\u001b[0;31m         \u001b[0;32mreturn\u001b[0m \u001b[0m_evaluate\u001b[0m\u001b[0;34m(\u001b[0m\u001b[0mestimator\u001b[0m\u001b[0;34m=\u001b[0m\u001b[0mestimator\u001b[0m\u001b[0;34m,\u001b[0m \u001b[0mdataset\u001b[0m\u001b[0;34m=\u001b[0m\u001b[0mdataset\u001b[0m\u001b[0;34m,\u001b[0m \u001b[0mps\u001b[0m\u001b[0;34m=\u001b[0m\u001b[0mps\u001b[0m\u001b[0;34m,\u001b[0m \u001b[0;34m**\u001b[0m\u001b[0mparams\u001b[0m\u001b[0;34m)\u001b[0m\u001b[0;34m\u001b[0m\u001b[0;34m\u001b[0m\u001b[0m\n\u001b[0m\u001b[1;32m   1042\u001b[0m \u001b[0;34m\u001b[0m\u001b[0m\n\u001b[1;32m   1043\u001b[0m     \u001b[0;31m# Set at start to number of runs\u001b[0m\u001b[0;34m\u001b[0m\u001b[0;34m\u001b[0m\u001b[0;34m\u001b[0m\u001b[0m\n",
      "\u001b[0;32m~/anaconda3/envs/bpt/lib/python3.9/site-packages/BPt/main/funcs.py\u001b[0m in \u001b[0;36m_evaluate\u001b[0;34m(estimator, dataset, ps, cv, decode_feat_names, compare_bars, **verbose_args)\u001b[0m\n\u001b[1;32m   1099\u001b[0m \u001b[0;34m\u001b[0m\u001b[0m\n\u001b[1;32m   1100\u001b[0m     \u001b[0;31m# Call eval on the evaluator\u001b[0m\u001b[0;34m\u001b[0m\u001b[0;34m\u001b[0m\u001b[0;34m\u001b[0m\u001b[0m\n\u001b[0;32m-> 1101\u001b[0;31m     \u001b[0mevaluator\u001b[0m\u001b[0;34m.\u001b[0m\u001b[0m_eval\u001b[0m\u001b[0;34m(\u001b[0m\u001b[0mX\u001b[0m\u001b[0;34m,\u001b[0m \u001b[0my\u001b[0m\u001b[0;34m,\u001b[0m \u001b[0msk_cv\u001b[0m\u001b[0;34m)\u001b[0m\u001b[0;34m\u001b[0m\u001b[0;34m\u001b[0m\u001b[0m\n\u001b[0m\u001b[1;32m   1102\u001b[0m \u001b[0;34m\u001b[0m\u001b[0m\n\u001b[1;32m   1103\u001b[0m     \u001b[0;31m# Return the BPtEvaluator object\u001b[0m\u001b[0;34m\u001b[0m\u001b[0;34m\u001b[0m\u001b[0;34m\u001b[0m\u001b[0m\n",
      "\u001b[0;32m~/anaconda3/envs/bpt/lib/python3.9/site-packages/BPt/main/BPtEvaluator.py\u001b[0m in \u001b[0;36m_eval\u001b[0;34m(self, X, y, cv)\u001b[0m\n\u001b[1;32m    357\u001b[0m         \u001b[0;31m# Otherwise, base behavior\u001b[0m\u001b[0;34m\u001b[0m\u001b[0;34m\u001b[0m\u001b[0;34m\u001b[0m\u001b[0m\n\u001b[1;32m    358\u001b[0m         \u001b[0;32melse\u001b[0m\u001b[0;34m:\u001b[0m\u001b[0;34m\u001b[0m\u001b[0;34m\u001b[0m\u001b[0m\n\u001b[0;32m--> 359\u001b[0;31m             \u001b[0mself\u001b[0m\u001b[0;34m.\u001b[0m\u001b[0m_evaluate\u001b[0m\u001b[0;34m(\u001b[0m\u001b[0mX\u001b[0m\u001b[0;34m,\u001b[0m \u001b[0my\u001b[0m\u001b[0;34m,\u001b[0m \u001b[0mcv\u001b[0m\u001b[0;34m)\u001b[0m\u001b[0;34m\u001b[0m\u001b[0;34m\u001b[0m\u001b[0m\n\u001b[0m\u001b[1;32m    360\u001b[0m \u001b[0;34m\u001b[0m\u001b[0m\n\u001b[1;32m    361\u001b[0m     \u001b[0;32mdef\u001b[0m \u001b[0m_evaluate\u001b[0m\u001b[0;34m(\u001b[0m\u001b[0mself\u001b[0m\u001b[0;34m,\u001b[0m \u001b[0mX\u001b[0m\u001b[0;34m,\u001b[0m \u001b[0my\u001b[0m\u001b[0;34m,\u001b[0m \u001b[0mcv\u001b[0m\u001b[0;34m)\u001b[0m\u001b[0;34m:\u001b[0m\u001b[0;34m\u001b[0m\u001b[0;34m\u001b[0m\u001b[0m\n",
      "\u001b[0;32m~/anaconda3/envs/bpt/lib/python3.9/site-packages/BPt/main/BPtEvaluator.py\u001b[0m in \u001b[0;36m_evaluate\u001b[0;34m(self, X, y, cv)\u001b[0m\n\u001b[1;32m    395\u001b[0m \u001b[0;34m\u001b[0m\u001b[0m\n\u001b[1;32m    396\u001b[0m             \u001b[0;31m# Eval\u001b[0m\u001b[0;34m\u001b[0m\u001b[0;34m\u001b[0m\u001b[0;34m\u001b[0m\u001b[0m\n\u001b[0;32m--> 397\u001b[0;31m             self._eval_fold(X.iloc[train_inds], y.iloc[train_inds],\n\u001b[0m\u001b[1;32m    398\u001b[0m                             X.iloc[val_inds], y.iloc[val_inds])\n\u001b[1;32m    399\u001b[0m \u001b[0;34m\u001b[0m\u001b[0m\n",
      "\u001b[0;32m~/anaconda3/envs/bpt/lib/python3.9/site-packages/BPt/main/BPtEvaluator.py\u001b[0m in \u001b[0;36m_eval_fold\u001b[0;34m(self, X_tr, y_tr, X_val, y_val)\u001b[0m\n\u001b[1;32m    533\u001b[0m         \u001b[0mstart_time\u001b[0m \u001b[0;34m=\u001b[0m \u001b[0mtime\u001b[0m\u001b[0;34m.\u001b[0m\u001b[0mtime\u001b[0m\u001b[0;34m(\u001b[0m\u001b[0;34m)\u001b[0m\u001b[0;34m\u001b[0m\u001b[0;34m\u001b[0m\u001b[0m\n\u001b[1;32m    534\u001b[0m \u001b[0;34m\u001b[0m\u001b[0m\n\u001b[0;32m--> 535\u001b[0;31m         \u001b[0mestimator_\u001b[0m\u001b[0;34m.\u001b[0m\u001b[0mfit\u001b[0m\u001b[0;34m(\u001b[0m\u001b[0mX\u001b[0m\u001b[0;34m=\u001b[0m\u001b[0mX_tr\u001b[0m\u001b[0;34m,\u001b[0m \u001b[0my\u001b[0m\u001b[0;34m=\u001b[0m\u001b[0mnp\u001b[0m\u001b[0;34m.\u001b[0m\u001b[0marray\u001b[0m\u001b[0;34m(\u001b[0m\u001b[0my_tr\u001b[0m\u001b[0;34m)\u001b[0m\u001b[0;34m)\u001b[0m\u001b[0;34m\u001b[0m\u001b[0;34m\u001b[0m\u001b[0m\n\u001b[0m\u001b[1;32m    536\u001b[0m         \u001b[0mfit_time\u001b[0m \u001b[0;34m=\u001b[0m \u001b[0mtime\u001b[0m\u001b[0;34m.\u001b[0m\u001b[0mtime\u001b[0m\u001b[0;34m(\u001b[0m\u001b[0;34m)\u001b[0m \u001b[0;34m-\u001b[0m \u001b[0mstart_time\u001b[0m\u001b[0;34m\u001b[0m\u001b[0;34m\u001b[0m\u001b[0m\n\u001b[1;32m    537\u001b[0m         \u001b[0mself\u001b[0m\u001b[0;34m.\u001b[0m\u001b[0m_print\u001b[0m\u001b[0;34m(\u001b[0m\u001b[0;34mf'Fit fold in {fit_time:.3f} seconds.'\u001b[0m\u001b[0;34m,\u001b[0m \u001b[0mlevel\u001b[0m\u001b[0;34m=\u001b[0m\u001b[0;36m1\u001b[0m\u001b[0;34m)\u001b[0m\u001b[0;34m\u001b[0m\u001b[0;34m\u001b[0m\u001b[0m\n",
      "\u001b[0;32m~/anaconda3/envs/bpt/lib/python3.9/site-packages/BPt/pipeline/BPtPipeline.py\u001b[0m in \u001b[0;36mfit\u001b[0;34m(self, X, y, mapping, fit_index, **fit_params)\u001b[0m\n\u001b[1;32m    192\u001b[0m \u001b[0;34m\u001b[0m\u001b[0m\n\u001b[1;32m    193\u001b[0m                 \u001b[0;31m# Fit the final estimator\u001b[0m\u001b[0;34m\u001b[0m\u001b[0;34m\u001b[0m\u001b[0;34m\u001b[0m\u001b[0m\n\u001b[0;32m--> 194\u001b[0;31m                 \u001b[0mself\u001b[0m\u001b[0;34m.\u001b[0m\u001b[0m_final_estimator\u001b[0m\u001b[0;34m.\u001b[0m\u001b[0mfit\u001b[0m\u001b[0;34m(\u001b[0m\u001b[0mXt\u001b[0m\u001b[0;34m,\u001b[0m \u001b[0my\u001b[0m\u001b[0;34m,\u001b[0m \u001b[0;34m**\u001b[0m\u001b[0mfit_params_last_step\u001b[0m\u001b[0;34m)\u001b[0m\u001b[0;34m\u001b[0m\u001b[0;34m\u001b[0m\u001b[0m\n\u001b[0m\u001b[1;32m    195\u001b[0m \u001b[0;34m\u001b[0m\u001b[0m\n\u001b[1;32m    196\u001b[0m         \u001b[0;31m# If cache fit enabled, hash fitted pipe here\u001b[0m\u001b[0;34m\u001b[0m\u001b[0;34m\u001b[0m\u001b[0;34m\u001b[0m\u001b[0m\n",
      "\u001b[0;32m~/anaconda3/envs/bpt/lib/python3.9/site-packages/BPt/pipeline/ScopeObjs.py\u001b[0m in \u001b[0;36mfit\u001b[0;34m(self, X, y, mapping, fit_index, **fit_params)\u001b[0m\n\u001b[1;32m    157\u001b[0m \u001b[0;34m\u001b[0m\u001b[0m\n\u001b[1;32m    158\u001b[0m         \u001b[0;31m# Fit actual estimator with or without caching\u001b[0m\u001b[0;34m\u001b[0m\u001b[0;34m\u001b[0m\u001b[0;34m\u001b[0m\u001b[0m\n\u001b[0;32m--> 159\u001b[0;31m         \u001b[0mself\u001b[0m\u001b[0;34m.\u001b[0m\u001b[0m_fit\u001b[0m\u001b[0;34m(\u001b[0m\u001b[0mX\u001b[0m\u001b[0;34m=\u001b[0m\u001b[0mX\u001b[0m\u001b[0;34m,\u001b[0m \u001b[0my\u001b[0m\u001b[0;34m=\u001b[0m\u001b[0my\u001b[0m\u001b[0;34m,\u001b[0m \u001b[0;34m**\u001b[0m\u001b[0mpass_fit_params\u001b[0m\u001b[0;34m)\u001b[0m\u001b[0;34m\u001b[0m\u001b[0;34m\u001b[0m\u001b[0m\n\u001b[0m\u001b[1;32m    160\u001b[0m \u001b[0;34m\u001b[0m\u001b[0m\n\u001b[1;32m    161\u001b[0m         \u001b[0;31m# Set as fitted\u001b[0m\u001b[0;34m\u001b[0m\u001b[0;34m\u001b[0m\u001b[0;34m\u001b[0m\u001b[0m\n",
      "\u001b[0;32m~/anaconda3/envs/bpt/lib/python3.9/site-packages/BPt/pipeline/ScopeObjs.py\u001b[0m in \u001b[0;36m_fit\u001b[0;34m(self, X, y, **fit_params)\u001b[0m\n\u001b[1;32m     75\u001b[0m \u001b[0;34m\u001b[0m\u001b[0m\n\u001b[1;32m     76\u001b[0m         \u001b[0;31m# Fit the estimator\u001b[0m\u001b[0;34m\u001b[0m\u001b[0;34m\u001b[0m\u001b[0;34m\u001b[0m\u001b[0m\n\u001b[0;32m---> 77\u001b[0;31m         self.estimator_ = _fit_estimator_c(estimator=self.estimator_,\n\u001b[0m\u001b[1;32m     78\u001b[0m                                            \u001b[0mX\u001b[0m\u001b[0;34m=\u001b[0m\u001b[0mX\u001b[0m\u001b[0;34m[\u001b[0m\u001b[0;34m:\u001b[0m\u001b[0;34m,\u001b[0m \u001b[0mself\u001b[0m\u001b[0;34m.\u001b[0m\u001b[0minds_\u001b[0m\u001b[0;34m]\u001b[0m\u001b[0;34m,\u001b[0m\u001b[0;34m\u001b[0m\u001b[0;34m\u001b[0m\u001b[0m\n\u001b[1;32m     79\u001b[0m                                            y=y, **fit_params)\n",
      "\u001b[0;32m~/anaconda3/envs/bpt/lib/python3.9/site-packages/BPt/pipeline/ScopeObjs.py\u001b[0m in \u001b[0;36m_fit_estimator\u001b[0;34m(estimator, X, y, **fit_params)\u001b[0m\n\u001b[1;32m     10\u001b[0m \u001b[0;32mdef\u001b[0m \u001b[0m_fit_estimator\u001b[0m\u001b[0;34m(\u001b[0m\u001b[0mestimator\u001b[0m\u001b[0;34m,\u001b[0m \u001b[0mX\u001b[0m\u001b[0;34m,\u001b[0m \u001b[0my\u001b[0m\u001b[0;34m=\u001b[0m\u001b[0;32mNone\u001b[0m\u001b[0;34m,\u001b[0m \u001b[0;34m**\u001b[0m\u001b[0mfit_params\u001b[0m\u001b[0;34m)\u001b[0m\u001b[0;34m:\u001b[0m\u001b[0;34m\u001b[0m\u001b[0;34m\u001b[0m\u001b[0m\n\u001b[1;32m     11\u001b[0m \u001b[0;34m\u001b[0m\u001b[0m\n\u001b[0;32m---> 12\u001b[0;31m     \u001b[0mestimator\u001b[0m\u001b[0;34m.\u001b[0m\u001b[0mfit\u001b[0m\u001b[0;34m(\u001b[0m\u001b[0mX\u001b[0m\u001b[0;34m=\u001b[0m\u001b[0mX\u001b[0m\u001b[0;34m,\u001b[0m \u001b[0my\u001b[0m\u001b[0;34m=\u001b[0m\u001b[0my\u001b[0m\u001b[0;34m,\u001b[0m \u001b[0;34m**\u001b[0m\u001b[0mfit_params\u001b[0m\u001b[0;34m)\u001b[0m\u001b[0;34m\u001b[0m\u001b[0;34m\u001b[0m\u001b[0m\n\u001b[0m\u001b[1;32m     13\u001b[0m     \u001b[0;32mreturn\u001b[0m \u001b[0mestimator\u001b[0m\u001b[0;34m\u001b[0m\u001b[0;34m\u001b[0m\u001b[0m\n\u001b[1;32m     14\u001b[0m \u001b[0;34m\u001b[0m\u001b[0m\n",
      "\u001b[0;32m<ipython-input-19-e48eb710ea4d>\u001b[0m in \u001b[0;36mfit\u001b[0;34m(self, X, y)\u001b[0m\n\u001b[1;32m     12\u001b[0m     \u001b[0;32mdef\u001b[0m \u001b[0mfit\u001b[0m\u001b[0;34m(\u001b[0m\u001b[0mself\u001b[0m\u001b[0;34m,\u001b[0m \u001b[0mX\u001b[0m\u001b[0;34m,\u001b[0m \u001b[0my\u001b[0m\u001b[0;34m)\u001b[0m\u001b[0;34m:\u001b[0m\u001b[0;34m\u001b[0m\u001b[0;34m\u001b[0m\u001b[0m\n\u001b[1;32m     13\u001b[0m \u001b[0;34m\u001b[0m\u001b[0m\n\u001b[0;32m---> 14\u001b[0;31m         scores = cross_validate(self.estimator, X, y, cv=self.cv,\n\u001b[0m\u001b[1;32m     15\u001b[0m                                 return_estimator=True)\n\u001b[1;32m     16\u001b[0m \u001b[0;34m\u001b[0m\u001b[0m\n",
      "\u001b[0;32m~/anaconda3/envs/bpt/lib/python3.9/site-packages/sklearn/utils/validation.py\u001b[0m in \u001b[0;36minner_f\u001b[0;34m(*args, **kwargs)\u001b[0m\n\u001b[1;32m     61\u001b[0m             \u001b[0mextra_args\u001b[0m \u001b[0;34m=\u001b[0m \u001b[0mlen\u001b[0m\u001b[0;34m(\u001b[0m\u001b[0margs\u001b[0m\u001b[0;34m)\u001b[0m \u001b[0;34m-\u001b[0m \u001b[0mlen\u001b[0m\u001b[0;34m(\u001b[0m\u001b[0mall_args\u001b[0m\u001b[0;34m)\u001b[0m\u001b[0;34m\u001b[0m\u001b[0;34m\u001b[0m\u001b[0m\n\u001b[1;32m     62\u001b[0m             \u001b[0;32mif\u001b[0m \u001b[0mextra_args\u001b[0m \u001b[0;34m<=\u001b[0m \u001b[0;36m0\u001b[0m\u001b[0;34m:\u001b[0m\u001b[0;34m\u001b[0m\u001b[0;34m\u001b[0m\u001b[0m\n\u001b[0;32m---> 63\u001b[0;31m                 \u001b[0;32mreturn\u001b[0m \u001b[0mf\u001b[0m\u001b[0;34m(\u001b[0m\u001b[0;34m*\u001b[0m\u001b[0margs\u001b[0m\u001b[0;34m,\u001b[0m \u001b[0;34m**\u001b[0m\u001b[0mkwargs\u001b[0m\u001b[0;34m)\u001b[0m\u001b[0;34m\u001b[0m\u001b[0;34m\u001b[0m\u001b[0m\n\u001b[0m\u001b[1;32m     64\u001b[0m \u001b[0;34m\u001b[0m\u001b[0m\n\u001b[1;32m     65\u001b[0m             \u001b[0;31m# extra_args > 0\u001b[0m\u001b[0;34m\u001b[0m\u001b[0;34m\u001b[0m\u001b[0;34m\u001b[0m\u001b[0m\n",
      "\u001b[0;32m~/anaconda3/envs/bpt/lib/python3.9/site-packages/sklearn/model_selection/_validation.py\u001b[0m in \u001b[0;36mcross_validate\u001b[0;34m(estimator, X, y, groups, scoring, cv, n_jobs, verbose, fit_params, pre_dispatch, return_train_score, return_estimator, error_score)\u001b[0m\n\u001b[1;32m    244\u001b[0m     parallel = Parallel(n_jobs=n_jobs, verbose=verbose,\n\u001b[1;32m    245\u001b[0m                         pre_dispatch=pre_dispatch)\n\u001b[0;32m--> 246\u001b[0;31m     results = parallel(\n\u001b[0m\u001b[1;32m    247\u001b[0m         delayed(_fit_and_score)(\n\u001b[1;32m    248\u001b[0m             \u001b[0mclone\u001b[0m\u001b[0;34m(\u001b[0m\u001b[0mestimator\u001b[0m\u001b[0;34m)\u001b[0m\u001b[0;34m,\u001b[0m \u001b[0mX\u001b[0m\u001b[0;34m,\u001b[0m \u001b[0my\u001b[0m\u001b[0;34m,\u001b[0m \u001b[0mscorers\u001b[0m\u001b[0;34m,\u001b[0m \u001b[0mtrain\u001b[0m\u001b[0;34m,\u001b[0m \u001b[0mtest\u001b[0m\u001b[0;34m,\u001b[0m \u001b[0mverbose\u001b[0m\u001b[0;34m,\u001b[0m \u001b[0;32mNone\u001b[0m\u001b[0;34m,\u001b[0m\u001b[0;34m\u001b[0m\u001b[0;34m\u001b[0m\u001b[0m\n",
      "\u001b[0;32m~/anaconda3/envs/bpt/lib/python3.9/site-packages/joblib/parallel.py\u001b[0m in \u001b[0;36m__call__\u001b[0;34m(self, iterable)\u001b[0m\n\u001b[1;32m   1039\u001b[0m             \u001b[0;31m# remaining jobs.\u001b[0m\u001b[0;34m\u001b[0m\u001b[0;34m\u001b[0m\u001b[0;34m\u001b[0m\u001b[0m\n\u001b[1;32m   1040\u001b[0m             \u001b[0mself\u001b[0m\u001b[0;34m.\u001b[0m\u001b[0m_iterating\u001b[0m \u001b[0;34m=\u001b[0m \u001b[0;32mFalse\u001b[0m\u001b[0;34m\u001b[0m\u001b[0;34m\u001b[0m\u001b[0m\n\u001b[0;32m-> 1041\u001b[0;31m             \u001b[0;32mif\u001b[0m \u001b[0mself\u001b[0m\u001b[0;34m.\u001b[0m\u001b[0mdispatch_one_batch\u001b[0m\u001b[0;34m(\u001b[0m\u001b[0miterator\u001b[0m\u001b[0;34m)\u001b[0m\u001b[0;34m:\u001b[0m\u001b[0;34m\u001b[0m\u001b[0;34m\u001b[0m\u001b[0m\n\u001b[0m\u001b[1;32m   1042\u001b[0m                 \u001b[0mself\u001b[0m\u001b[0;34m.\u001b[0m\u001b[0m_iterating\u001b[0m \u001b[0;34m=\u001b[0m \u001b[0mself\u001b[0m\u001b[0;34m.\u001b[0m\u001b[0m_original_iterator\u001b[0m \u001b[0;32mis\u001b[0m \u001b[0;32mnot\u001b[0m \u001b[0;32mNone\u001b[0m\u001b[0;34m\u001b[0m\u001b[0;34m\u001b[0m\u001b[0m\n\u001b[1;32m   1043\u001b[0m \u001b[0;34m\u001b[0m\u001b[0m\n",
      "\u001b[0;32m~/anaconda3/envs/bpt/lib/python3.9/site-packages/joblib/parallel.py\u001b[0m in \u001b[0;36mdispatch_one_batch\u001b[0;34m(self, iterator)\u001b[0m\n\u001b[1;32m    857\u001b[0m                 \u001b[0;32mreturn\u001b[0m \u001b[0;32mFalse\u001b[0m\u001b[0;34m\u001b[0m\u001b[0;34m\u001b[0m\u001b[0m\n\u001b[1;32m    858\u001b[0m             \u001b[0;32melse\u001b[0m\u001b[0;34m:\u001b[0m\u001b[0;34m\u001b[0m\u001b[0;34m\u001b[0m\u001b[0m\n\u001b[0;32m--> 859\u001b[0;31m                 \u001b[0mself\u001b[0m\u001b[0;34m.\u001b[0m\u001b[0m_dispatch\u001b[0m\u001b[0;34m(\u001b[0m\u001b[0mtasks\u001b[0m\u001b[0;34m)\u001b[0m\u001b[0;34m\u001b[0m\u001b[0;34m\u001b[0m\u001b[0m\n\u001b[0m\u001b[1;32m    860\u001b[0m                 \u001b[0;32mreturn\u001b[0m \u001b[0;32mTrue\u001b[0m\u001b[0;34m\u001b[0m\u001b[0;34m\u001b[0m\u001b[0m\n\u001b[1;32m    861\u001b[0m \u001b[0;34m\u001b[0m\u001b[0m\n",
      "\u001b[0;32m~/anaconda3/envs/bpt/lib/python3.9/site-packages/joblib/parallel.py\u001b[0m in \u001b[0;36m_dispatch\u001b[0;34m(self, batch)\u001b[0m\n\u001b[1;32m    775\u001b[0m         \u001b[0;32mwith\u001b[0m \u001b[0mself\u001b[0m\u001b[0;34m.\u001b[0m\u001b[0m_lock\u001b[0m\u001b[0;34m:\u001b[0m\u001b[0;34m\u001b[0m\u001b[0;34m\u001b[0m\u001b[0m\n\u001b[1;32m    776\u001b[0m             \u001b[0mjob_idx\u001b[0m \u001b[0;34m=\u001b[0m \u001b[0mlen\u001b[0m\u001b[0;34m(\u001b[0m\u001b[0mself\u001b[0m\u001b[0;34m.\u001b[0m\u001b[0m_jobs\u001b[0m\u001b[0;34m)\u001b[0m\u001b[0;34m\u001b[0m\u001b[0;34m\u001b[0m\u001b[0m\n\u001b[0;32m--> 777\u001b[0;31m             \u001b[0mjob\u001b[0m \u001b[0;34m=\u001b[0m \u001b[0mself\u001b[0m\u001b[0;34m.\u001b[0m\u001b[0m_backend\u001b[0m\u001b[0;34m.\u001b[0m\u001b[0mapply_async\u001b[0m\u001b[0;34m(\u001b[0m\u001b[0mbatch\u001b[0m\u001b[0;34m,\u001b[0m \u001b[0mcallback\u001b[0m\u001b[0;34m=\u001b[0m\u001b[0mcb\u001b[0m\u001b[0;34m)\u001b[0m\u001b[0;34m\u001b[0m\u001b[0;34m\u001b[0m\u001b[0m\n\u001b[0m\u001b[1;32m    778\u001b[0m             \u001b[0;31m# A job can complete so quickly than its callback is\u001b[0m\u001b[0;34m\u001b[0m\u001b[0;34m\u001b[0m\u001b[0;34m\u001b[0m\u001b[0m\n\u001b[1;32m    779\u001b[0m             \u001b[0;31m# called before we get here, causing self._jobs to\u001b[0m\u001b[0;34m\u001b[0m\u001b[0;34m\u001b[0m\u001b[0;34m\u001b[0m\u001b[0m\n",
      "\u001b[0;32m~/anaconda3/envs/bpt/lib/python3.9/site-packages/joblib/_parallel_backends.py\u001b[0m in \u001b[0;36mapply_async\u001b[0;34m(self, func, callback)\u001b[0m\n\u001b[1;32m    206\u001b[0m     \u001b[0;32mdef\u001b[0m \u001b[0mapply_async\u001b[0m\u001b[0;34m(\u001b[0m\u001b[0mself\u001b[0m\u001b[0;34m,\u001b[0m \u001b[0mfunc\u001b[0m\u001b[0;34m,\u001b[0m \u001b[0mcallback\u001b[0m\u001b[0;34m=\u001b[0m\u001b[0;32mNone\u001b[0m\u001b[0;34m)\u001b[0m\u001b[0;34m:\u001b[0m\u001b[0;34m\u001b[0m\u001b[0;34m\u001b[0m\u001b[0m\n\u001b[1;32m    207\u001b[0m         \u001b[0;34m\"\"\"Schedule a func to be run\"\"\"\u001b[0m\u001b[0;34m\u001b[0m\u001b[0;34m\u001b[0m\u001b[0m\n\u001b[0;32m--> 208\u001b[0;31m         \u001b[0mresult\u001b[0m \u001b[0;34m=\u001b[0m \u001b[0mImmediateResult\u001b[0m\u001b[0;34m(\u001b[0m\u001b[0mfunc\u001b[0m\u001b[0;34m)\u001b[0m\u001b[0;34m\u001b[0m\u001b[0;34m\u001b[0m\u001b[0m\n\u001b[0m\u001b[1;32m    209\u001b[0m         \u001b[0;32mif\u001b[0m \u001b[0mcallback\u001b[0m\u001b[0;34m:\u001b[0m\u001b[0;34m\u001b[0m\u001b[0;34m\u001b[0m\u001b[0m\n\u001b[1;32m    210\u001b[0m             \u001b[0mcallback\u001b[0m\u001b[0;34m(\u001b[0m\u001b[0mresult\u001b[0m\u001b[0;34m)\u001b[0m\u001b[0;34m\u001b[0m\u001b[0;34m\u001b[0m\u001b[0m\n",
      "\u001b[0;32m~/anaconda3/envs/bpt/lib/python3.9/site-packages/joblib/_parallel_backends.py\u001b[0m in \u001b[0;36m__init__\u001b[0;34m(self, batch)\u001b[0m\n\u001b[1;32m    570\u001b[0m         \u001b[0;31m# Don't delay the application, to avoid keeping the input\u001b[0m\u001b[0;34m\u001b[0m\u001b[0;34m\u001b[0m\u001b[0;34m\u001b[0m\u001b[0m\n\u001b[1;32m    571\u001b[0m         \u001b[0;31m# arguments in memory\u001b[0m\u001b[0;34m\u001b[0m\u001b[0;34m\u001b[0m\u001b[0;34m\u001b[0m\u001b[0m\n\u001b[0;32m--> 572\u001b[0;31m         \u001b[0mself\u001b[0m\u001b[0;34m.\u001b[0m\u001b[0mresults\u001b[0m \u001b[0;34m=\u001b[0m \u001b[0mbatch\u001b[0m\u001b[0;34m(\u001b[0m\u001b[0;34m)\u001b[0m\u001b[0;34m\u001b[0m\u001b[0;34m\u001b[0m\u001b[0m\n\u001b[0m\u001b[1;32m    573\u001b[0m \u001b[0;34m\u001b[0m\u001b[0m\n\u001b[1;32m    574\u001b[0m     \u001b[0;32mdef\u001b[0m \u001b[0mget\u001b[0m\u001b[0;34m(\u001b[0m\u001b[0mself\u001b[0m\u001b[0;34m)\u001b[0m\u001b[0;34m:\u001b[0m\u001b[0;34m\u001b[0m\u001b[0;34m\u001b[0m\u001b[0m\n",
      "\u001b[0;32m~/anaconda3/envs/bpt/lib/python3.9/site-packages/joblib/parallel.py\u001b[0m in \u001b[0;36m__call__\u001b[0;34m(self)\u001b[0m\n\u001b[1;32m    260\u001b[0m         \u001b[0;31m# change the default number of processes to -1\u001b[0m\u001b[0;34m\u001b[0m\u001b[0;34m\u001b[0m\u001b[0;34m\u001b[0m\u001b[0m\n\u001b[1;32m    261\u001b[0m         \u001b[0;32mwith\u001b[0m \u001b[0mparallel_backend\u001b[0m\u001b[0;34m(\u001b[0m\u001b[0mself\u001b[0m\u001b[0;34m.\u001b[0m\u001b[0m_backend\u001b[0m\u001b[0;34m,\u001b[0m \u001b[0mn_jobs\u001b[0m\u001b[0;34m=\u001b[0m\u001b[0mself\u001b[0m\u001b[0;34m.\u001b[0m\u001b[0m_n_jobs\u001b[0m\u001b[0;34m)\u001b[0m\u001b[0;34m:\u001b[0m\u001b[0;34m\u001b[0m\u001b[0;34m\u001b[0m\u001b[0m\n\u001b[0;32m--> 262\u001b[0;31m             return [func(*args, **kwargs)\n\u001b[0m\u001b[1;32m    263\u001b[0m                     for func, args, kwargs in self.items]\n\u001b[1;32m    264\u001b[0m \u001b[0;34m\u001b[0m\u001b[0m\n",
      "\u001b[0;32m~/anaconda3/envs/bpt/lib/python3.9/site-packages/joblib/parallel.py\u001b[0m in \u001b[0;36m<listcomp>\u001b[0;34m(.0)\u001b[0m\n\u001b[1;32m    260\u001b[0m         \u001b[0;31m# change the default number of processes to -1\u001b[0m\u001b[0;34m\u001b[0m\u001b[0;34m\u001b[0m\u001b[0;34m\u001b[0m\u001b[0m\n\u001b[1;32m    261\u001b[0m         \u001b[0;32mwith\u001b[0m \u001b[0mparallel_backend\u001b[0m\u001b[0;34m(\u001b[0m\u001b[0mself\u001b[0m\u001b[0;34m.\u001b[0m\u001b[0m_backend\u001b[0m\u001b[0;34m,\u001b[0m \u001b[0mn_jobs\u001b[0m\u001b[0;34m=\u001b[0m\u001b[0mself\u001b[0m\u001b[0;34m.\u001b[0m\u001b[0m_n_jobs\u001b[0m\u001b[0;34m)\u001b[0m\u001b[0;34m:\u001b[0m\u001b[0;34m\u001b[0m\u001b[0;34m\u001b[0m\u001b[0m\n\u001b[0;32m--> 262\u001b[0;31m             return [func(*args, **kwargs)\n\u001b[0m\u001b[1;32m    263\u001b[0m                     for func, args, kwargs in self.items]\n\u001b[1;32m    264\u001b[0m \u001b[0;34m\u001b[0m\u001b[0m\n",
      "\u001b[0;32m~/anaconda3/envs/bpt/lib/python3.9/site-packages/sklearn/utils/fixes.py\u001b[0m in \u001b[0;36m__call__\u001b[0;34m(self, *args, **kwargs)\u001b[0m\n\u001b[1;32m    220\u001b[0m     \u001b[0;32mdef\u001b[0m \u001b[0m__call__\u001b[0m\u001b[0;34m(\u001b[0m\u001b[0mself\u001b[0m\u001b[0;34m,\u001b[0m \u001b[0;34m*\u001b[0m\u001b[0margs\u001b[0m\u001b[0;34m,\u001b[0m \u001b[0;34m**\u001b[0m\u001b[0mkwargs\u001b[0m\u001b[0;34m)\u001b[0m\u001b[0;34m:\u001b[0m\u001b[0;34m\u001b[0m\u001b[0;34m\u001b[0m\u001b[0m\n\u001b[1;32m    221\u001b[0m         \u001b[0;32mwith\u001b[0m \u001b[0mconfig_context\u001b[0m\u001b[0;34m(\u001b[0m\u001b[0;34m**\u001b[0m\u001b[0mself\u001b[0m\u001b[0;34m.\u001b[0m\u001b[0mconfig\u001b[0m\u001b[0;34m)\u001b[0m\u001b[0;34m:\u001b[0m\u001b[0;34m\u001b[0m\u001b[0;34m\u001b[0m\u001b[0m\n\u001b[0;32m--> 222\u001b[0;31m             \u001b[0;32mreturn\u001b[0m \u001b[0mself\u001b[0m\u001b[0;34m.\u001b[0m\u001b[0mfunction\u001b[0m\u001b[0;34m(\u001b[0m\u001b[0;34m*\u001b[0m\u001b[0margs\u001b[0m\u001b[0;34m,\u001b[0m \u001b[0;34m**\u001b[0m\u001b[0mkwargs\u001b[0m\u001b[0;34m)\u001b[0m\u001b[0;34m\u001b[0m\u001b[0;34m\u001b[0m\u001b[0m\n\u001b[0m",
      "\u001b[0;32m~/anaconda3/envs/bpt/lib/python3.9/site-packages/sklearn/model_selection/_validation.py\u001b[0m in \u001b[0;36m_fit_and_score\u001b[0;34m(estimator, X, y, scorer, train, test, verbose, parameters, fit_params, return_train_score, return_parameters, return_n_test_samples, return_times, return_estimator, split_progress, candidate_progress, error_score)\u001b[0m\n\u001b[1;32m    591\u001b[0m             \u001b[0mestimator\u001b[0m\u001b[0;34m.\u001b[0m\u001b[0mfit\u001b[0m\u001b[0;34m(\u001b[0m\u001b[0mX_train\u001b[0m\u001b[0;34m,\u001b[0m \u001b[0;34m**\u001b[0m\u001b[0mfit_params\u001b[0m\u001b[0;34m)\u001b[0m\u001b[0;34m\u001b[0m\u001b[0;34m\u001b[0m\u001b[0m\n\u001b[1;32m    592\u001b[0m         \u001b[0;32melse\u001b[0m\u001b[0;34m:\u001b[0m\u001b[0;34m\u001b[0m\u001b[0;34m\u001b[0m\u001b[0m\n\u001b[0;32m--> 593\u001b[0;31m             \u001b[0mestimator\u001b[0m\u001b[0;34m.\u001b[0m\u001b[0mfit\u001b[0m\u001b[0;34m(\u001b[0m\u001b[0mX_train\u001b[0m\u001b[0;34m,\u001b[0m \u001b[0my_train\u001b[0m\u001b[0;34m,\u001b[0m \u001b[0;34m**\u001b[0m\u001b[0mfit_params\u001b[0m\u001b[0;34m)\u001b[0m\u001b[0;34m\u001b[0m\u001b[0;34m\u001b[0m\u001b[0m\n\u001b[0m\u001b[1;32m    594\u001b[0m \u001b[0;34m\u001b[0m\u001b[0m\n\u001b[1;32m    595\u001b[0m     \u001b[0;32mexcept\u001b[0m \u001b[0mException\u001b[0m \u001b[0;32mas\u001b[0m \u001b[0me\u001b[0m\u001b[0;34m:\u001b[0m\u001b[0;34m\u001b[0m\u001b[0;34m\u001b[0m\u001b[0m\n",
      "\u001b[0;32m~/anaconda3/envs/bpt/lib/python3.9/site-packages/sklearn/linear_model/_coordinate_descent.py\u001b[0m in \u001b[0;36mfit\u001b[0;34m(self, X, y)\u001b[0m\n\u001b[1;32m   1312\u001b[0m                 \u001b[0;32mfor\u001b[0m \u001b[0mthis_l1_ratio\u001b[0m\u001b[0;34m,\u001b[0m \u001b[0mthis_alphas\u001b[0m \u001b[0;32min\u001b[0m \u001b[0mzip\u001b[0m\u001b[0;34m(\u001b[0m\u001b[0ml1_ratios\u001b[0m\u001b[0;34m,\u001b[0m \u001b[0malphas\u001b[0m\u001b[0;34m)\u001b[0m\u001b[0;34m\u001b[0m\u001b[0;34m\u001b[0m\u001b[0m\n\u001b[1;32m   1313\u001b[0m                 for train, test in folds)\n\u001b[0;32m-> 1314\u001b[0;31m         mse_paths = Parallel(n_jobs=self.n_jobs, verbose=self.verbose,\n\u001b[0m\u001b[1;32m   1315\u001b[0m                              **_joblib_parallel_args(prefer=\"threads\"))(jobs)\n\u001b[1;32m   1316\u001b[0m         \u001b[0mmse_paths\u001b[0m \u001b[0;34m=\u001b[0m \u001b[0mnp\u001b[0m\u001b[0;34m.\u001b[0m\u001b[0mreshape\u001b[0m\u001b[0;34m(\u001b[0m\u001b[0mmse_paths\u001b[0m\u001b[0;34m,\u001b[0m \u001b[0;34m(\u001b[0m\u001b[0mn_l1_ratio\u001b[0m\u001b[0;34m,\u001b[0m \u001b[0mlen\u001b[0m\u001b[0;34m(\u001b[0m\u001b[0mfolds\u001b[0m\u001b[0;34m)\u001b[0m\u001b[0;34m,\u001b[0m \u001b[0;34m-\u001b[0m\u001b[0;36m1\u001b[0m\u001b[0;34m)\u001b[0m\u001b[0;34m)\u001b[0m\u001b[0;34m\u001b[0m\u001b[0;34m\u001b[0m\u001b[0m\n",
      "\u001b[0;32m~/anaconda3/envs/bpt/lib/python3.9/site-packages/joblib/parallel.py\u001b[0m in \u001b[0;36m__call__\u001b[0;34m(self, iterable)\u001b[0m\n\u001b[1;32m   1042\u001b[0m                 \u001b[0mself\u001b[0m\u001b[0;34m.\u001b[0m\u001b[0m_iterating\u001b[0m \u001b[0;34m=\u001b[0m \u001b[0mself\u001b[0m\u001b[0;34m.\u001b[0m\u001b[0m_original_iterator\u001b[0m \u001b[0;32mis\u001b[0m \u001b[0;32mnot\u001b[0m \u001b[0;32mNone\u001b[0m\u001b[0;34m\u001b[0m\u001b[0;34m\u001b[0m\u001b[0m\n\u001b[1;32m   1043\u001b[0m \u001b[0;34m\u001b[0m\u001b[0m\n\u001b[0;32m-> 1044\u001b[0;31m             \u001b[0;32mwhile\u001b[0m \u001b[0mself\u001b[0m\u001b[0;34m.\u001b[0m\u001b[0mdispatch_one_batch\u001b[0m\u001b[0;34m(\u001b[0m\u001b[0miterator\u001b[0m\u001b[0;34m)\u001b[0m\u001b[0;34m:\u001b[0m\u001b[0;34m\u001b[0m\u001b[0;34m\u001b[0m\u001b[0m\n\u001b[0m\u001b[1;32m   1045\u001b[0m                 \u001b[0;32mpass\u001b[0m\u001b[0;34m\u001b[0m\u001b[0;34m\u001b[0m\u001b[0m\n\u001b[1;32m   1046\u001b[0m \u001b[0;34m\u001b[0m\u001b[0m\n",
      "\u001b[0;32m~/anaconda3/envs/bpt/lib/python3.9/site-packages/joblib/parallel.py\u001b[0m in \u001b[0;36mdispatch_one_batch\u001b[0;34m(self, iterator)\u001b[0m\n\u001b[1;32m    857\u001b[0m                 \u001b[0;32mreturn\u001b[0m \u001b[0;32mFalse\u001b[0m\u001b[0;34m\u001b[0m\u001b[0;34m\u001b[0m\u001b[0m\n\u001b[1;32m    858\u001b[0m             \u001b[0;32melse\u001b[0m\u001b[0;34m:\u001b[0m\u001b[0;34m\u001b[0m\u001b[0;34m\u001b[0m\u001b[0m\n\u001b[0;32m--> 859\u001b[0;31m                 \u001b[0mself\u001b[0m\u001b[0;34m.\u001b[0m\u001b[0m_dispatch\u001b[0m\u001b[0;34m(\u001b[0m\u001b[0mtasks\u001b[0m\u001b[0;34m)\u001b[0m\u001b[0;34m\u001b[0m\u001b[0;34m\u001b[0m\u001b[0m\n\u001b[0m\u001b[1;32m    860\u001b[0m                 \u001b[0;32mreturn\u001b[0m \u001b[0;32mTrue\u001b[0m\u001b[0;34m\u001b[0m\u001b[0;34m\u001b[0m\u001b[0m\n\u001b[1;32m    861\u001b[0m \u001b[0;34m\u001b[0m\u001b[0m\n",
      "\u001b[0;32m~/anaconda3/envs/bpt/lib/python3.9/site-packages/joblib/parallel.py\u001b[0m in \u001b[0;36m_dispatch\u001b[0;34m(self, batch)\u001b[0m\n\u001b[1;32m    775\u001b[0m         \u001b[0;32mwith\u001b[0m \u001b[0mself\u001b[0m\u001b[0;34m.\u001b[0m\u001b[0m_lock\u001b[0m\u001b[0;34m:\u001b[0m\u001b[0;34m\u001b[0m\u001b[0;34m\u001b[0m\u001b[0m\n\u001b[1;32m    776\u001b[0m             \u001b[0mjob_idx\u001b[0m \u001b[0;34m=\u001b[0m \u001b[0mlen\u001b[0m\u001b[0;34m(\u001b[0m\u001b[0mself\u001b[0m\u001b[0;34m.\u001b[0m\u001b[0m_jobs\u001b[0m\u001b[0;34m)\u001b[0m\u001b[0;34m\u001b[0m\u001b[0;34m\u001b[0m\u001b[0m\n\u001b[0;32m--> 777\u001b[0;31m             \u001b[0mjob\u001b[0m \u001b[0;34m=\u001b[0m \u001b[0mself\u001b[0m\u001b[0;34m.\u001b[0m\u001b[0m_backend\u001b[0m\u001b[0;34m.\u001b[0m\u001b[0mapply_async\u001b[0m\u001b[0;34m(\u001b[0m\u001b[0mbatch\u001b[0m\u001b[0;34m,\u001b[0m \u001b[0mcallback\u001b[0m\u001b[0;34m=\u001b[0m\u001b[0mcb\u001b[0m\u001b[0;34m)\u001b[0m\u001b[0;34m\u001b[0m\u001b[0;34m\u001b[0m\u001b[0m\n\u001b[0m\u001b[1;32m    778\u001b[0m             \u001b[0;31m# A job can complete so quickly than its callback is\u001b[0m\u001b[0;34m\u001b[0m\u001b[0;34m\u001b[0m\u001b[0;34m\u001b[0m\u001b[0m\n\u001b[1;32m    779\u001b[0m             \u001b[0;31m# called before we get here, causing self._jobs to\u001b[0m\u001b[0;34m\u001b[0m\u001b[0;34m\u001b[0m\u001b[0;34m\u001b[0m\u001b[0m\n",
      "\u001b[0;32m~/anaconda3/envs/bpt/lib/python3.9/site-packages/joblib/_parallel_backends.py\u001b[0m in \u001b[0;36mapply_async\u001b[0;34m(self, func, callback)\u001b[0m\n\u001b[1;32m    206\u001b[0m     \u001b[0;32mdef\u001b[0m \u001b[0mapply_async\u001b[0m\u001b[0;34m(\u001b[0m\u001b[0mself\u001b[0m\u001b[0;34m,\u001b[0m \u001b[0mfunc\u001b[0m\u001b[0;34m,\u001b[0m \u001b[0mcallback\u001b[0m\u001b[0;34m=\u001b[0m\u001b[0;32mNone\u001b[0m\u001b[0;34m)\u001b[0m\u001b[0;34m:\u001b[0m\u001b[0;34m\u001b[0m\u001b[0;34m\u001b[0m\u001b[0m\n\u001b[1;32m    207\u001b[0m         \u001b[0;34m\"\"\"Schedule a func to be run\"\"\"\u001b[0m\u001b[0;34m\u001b[0m\u001b[0;34m\u001b[0m\u001b[0m\n\u001b[0;32m--> 208\u001b[0;31m         \u001b[0mresult\u001b[0m \u001b[0;34m=\u001b[0m \u001b[0mImmediateResult\u001b[0m\u001b[0;34m(\u001b[0m\u001b[0mfunc\u001b[0m\u001b[0;34m)\u001b[0m\u001b[0;34m\u001b[0m\u001b[0;34m\u001b[0m\u001b[0m\n\u001b[0m\u001b[1;32m    209\u001b[0m         \u001b[0;32mif\u001b[0m \u001b[0mcallback\u001b[0m\u001b[0;34m:\u001b[0m\u001b[0;34m\u001b[0m\u001b[0;34m\u001b[0m\u001b[0m\n\u001b[1;32m    210\u001b[0m             \u001b[0mcallback\u001b[0m\u001b[0;34m(\u001b[0m\u001b[0mresult\u001b[0m\u001b[0;34m)\u001b[0m\u001b[0;34m\u001b[0m\u001b[0;34m\u001b[0m\u001b[0m\n",
      "\u001b[0;32m~/anaconda3/envs/bpt/lib/python3.9/site-packages/joblib/_parallel_backends.py\u001b[0m in \u001b[0;36m__init__\u001b[0;34m(self, batch)\u001b[0m\n\u001b[1;32m    570\u001b[0m         \u001b[0;31m# Don't delay the application, to avoid keeping the input\u001b[0m\u001b[0;34m\u001b[0m\u001b[0;34m\u001b[0m\u001b[0;34m\u001b[0m\u001b[0m\n\u001b[1;32m    571\u001b[0m         \u001b[0;31m# arguments in memory\u001b[0m\u001b[0;34m\u001b[0m\u001b[0;34m\u001b[0m\u001b[0;34m\u001b[0m\u001b[0m\n\u001b[0;32m--> 572\u001b[0;31m         \u001b[0mself\u001b[0m\u001b[0;34m.\u001b[0m\u001b[0mresults\u001b[0m \u001b[0;34m=\u001b[0m \u001b[0mbatch\u001b[0m\u001b[0;34m(\u001b[0m\u001b[0;34m)\u001b[0m\u001b[0;34m\u001b[0m\u001b[0;34m\u001b[0m\u001b[0m\n\u001b[0m\u001b[1;32m    573\u001b[0m \u001b[0;34m\u001b[0m\u001b[0m\n\u001b[1;32m    574\u001b[0m     \u001b[0;32mdef\u001b[0m \u001b[0mget\u001b[0m\u001b[0;34m(\u001b[0m\u001b[0mself\u001b[0m\u001b[0;34m)\u001b[0m\u001b[0;34m:\u001b[0m\u001b[0;34m\u001b[0m\u001b[0;34m\u001b[0m\u001b[0m\n",
      "\u001b[0;32m~/anaconda3/envs/bpt/lib/python3.9/site-packages/joblib/parallel.py\u001b[0m in \u001b[0;36m__call__\u001b[0;34m(self)\u001b[0m\n\u001b[1;32m    260\u001b[0m         \u001b[0;31m# change the default number of processes to -1\u001b[0m\u001b[0;34m\u001b[0m\u001b[0;34m\u001b[0m\u001b[0;34m\u001b[0m\u001b[0m\n\u001b[1;32m    261\u001b[0m         \u001b[0;32mwith\u001b[0m \u001b[0mparallel_backend\u001b[0m\u001b[0;34m(\u001b[0m\u001b[0mself\u001b[0m\u001b[0;34m.\u001b[0m\u001b[0m_backend\u001b[0m\u001b[0;34m,\u001b[0m \u001b[0mn_jobs\u001b[0m\u001b[0;34m=\u001b[0m\u001b[0mself\u001b[0m\u001b[0;34m.\u001b[0m\u001b[0m_n_jobs\u001b[0m\u001b[0;34m)\u001b[0m\u001b[0;34m:\u001b[0m\u001b[0;34m\u001b[0m\u001b[0;34m\u001b[0m\u001b[0m\n\u001b[0;32m--> 262\u001b[0;31m             return [func(*args, **kwargs)\n\u001b[0m\u001b[1;32m    263\u001b[0m                     for func, args, kwargs in self.items]\n\u001b[1;32m    264\u001b[0m \u001b[0;34m\u001b[0m\u001b[0m\n",
      "\u001b[0;32m~/anaconda3/envs/bpt/lib/python3.9/site-packages/joblib/parallel.py\u001b[0m in \u001b[0;36m<listcomp>\u001b[0;34m(.0)\u001b[0m\n\u001b[1;32m    260\u001b[0m         \u001b[0;31m# change the default number of processes to -1\u001b[0m\u001b[0;34m\u001b[0m\u001b[0;34m\u001b[0m\u001b[0;34m\u001b[0m\u001b[0m\n\u001b[1;32m    261\u001b[0m         \u001b[0;32mwith\u001b[0m \u001b[0mparallel_backend\u001b[0m\u001b[0;34m(\u001b[0m\u001b[0mself\u001b[0m\u001b[0;34m.\u001b[0m\u001b[0m_backend\u001b[0m\u001b[0;34m,\u001b[0m \u001b[0mn_jobs\u001b[0m\u001b[0;34m=\u001b[0m\u001b[0mself\u001b[0m\u001b[0;34m.\u001b[0m\u001b[0m_n_jobs\u001b[0m\u001b[0;34m)\u001b[0m\u001b[0;34m:\u001b[0m\u001b[0;34m\u001b[0m\u001b[0;34m\u001b[0m\u001b[0m\n\u001b[0;32m--> 262\u001b[0;31m             return [func(*args, **kwargs)\n\u001b[0m\u001b[1;32m    263\u001b[0m                     for func, args, kwargs in self.items]\n\u001b[1;32m    264\u001b[0m \u001b[0;34m\u001b[0m\u001b[0m\n",
      "\u001b[0;32m~/anaconda3/envs/bpt/lib/python3.9/site-packages/sklearn/utils/fixes.py\u001b[0m in \u001b[0;36m__call__\u001b[0;34m(self, *args, **kwargs)\u001b[0m\n\u001b[1;32m    220\u001b[0m     \u001b[0;32mdef\u001b[0m \u001b[0m__call__\u001b[0m\u001b[0;34m(\u001b[0m\u001b[0mself\u001b[0m\u001b[0;34m,\u001b[0m \u001b[0;34m*\u001b[0m\u001b[0margs\u001b[0m\u001b[0;34m,\u001b[0m \u001b[0;34m**\u001b[0m\u001b[0mkwargs\u001b[0m\u001b[0;34m)\u001b[0m\u001b[0;34m:\u001b[0m\u001b[0;34m\u001b[0m\u001b[0;34m\u001b[0m\u001b[0m\n\u001b[1;32m    221\u001b[0m         \u001b[0;32mwith\u001b[0m \u001b[0mconfig_context\u001b[0m\u001b[0;34m(\u001b[0m\u001b[0;34m**\u001b[0m\u001b[0mself\u001b[0m\u001b[0;34m.\u001b[0m\u001b[0mconfig\u001b[0m\u001b[0;34m)\u001b[0m\u001b[0;34m:\u001b[0m\u001b[0;34m\u001b[0m\u001b[0;34m\u001b[0m\u001b[0m\n\u001b[0;32m--> 222\u001b[0;31m             \u001b[0;32mreturn\u001b[0m \u001b[0mself\u001b[0m\u001b[0;34m.\u001b[0m\u001b[0mfunction\u001b[0m\u001b[0;34m(\u001b[0m\u001b[0;34m*\u001b[0m\u001b[0margs\u001b[0m\u001b[0;34m,\u001b[0m \u001b[0;34m**\u001b[0m\u001b[0mkwargs\u001b[0m\u001b[0;34m)\u001b[0m\u001b[0;34m\u001b[0m\u001b[0;34m\u001b[0m\u001b[0m\n\u001b[0m",
      "\u001b[0;32m~/anaconda3/envs/bpt/lib/python3.9/site-packages/sklearn/linear_model/_coordinate_descent.py\u001b[0m in \u001b[0;36m_path_residuals\u001b[0;34m(X, y, train, test, path, path_params, alphas, l1_ratio, X_order, dtype)\u001b[0m\n\u001b[1;32m   1125\u001b[0m     X_train = check_array(X_train, accept_sparse='csc', dtype=dtype,\n\u001b[1;32m   1126\u001b[0m                           order=X_order)\n\u001b[0;32m-> 1127\u001b[0;31m     \u001b[0malphas\u001b[0m\u001b[0;34m,\u001b[0m \u001b[0mcoefs\u001b[0m\u001b[0;34m,\u001b[0m \u001b[0m_\u001b[0m \u001b[0;34m=\u001b[0m \u001b[0mpath\u001b[0m\u001b[0;34m(\u001b[0m\u001b[0mX_train\u001b[0m\u001b[0;34m,\u001b[0m \u001b[0my_train\u001b[0m\u001b[0;34m,\u001b[0m \u001b[0;34m**\u001b[0m\u001b[0mpath_params\u001b[0m\u001b[0;34m)\u001b[0m\u001b[0;34m\u001b[0m\u001b[0;34m\u001b[0m\u001b[0m\n\u001b[0m\u001b[1;32m   1128\u001b[0m     \u001b[0;32mdel\u001b[0m \u001b[0mX_train\u001b[0m\u001b[0;34m,\u001b[0m \u001b[0my_train\u001b[0m\u001b[0;34m\u001b[0m\u001b[0;34m\u001b[0m\u001b[0m\n\u001b[1;32m   1129\u001b[0m \u001b[0;34m\u001b[0m\u001b[0m\n",
      "\u001b[0;32m~/anaconda3/envs/bpt/lib/python3.9/site-packages/sklearn/utils/validation.py\u001b[0m in \u001b[0;36minner_f\u001b[0;34m(*args, **kwargs)\u001b[0m\n\u001b[1;32m     61\u001b[0m             \u001b[0mextra_args\u001b[0m \u001b[0;34m=\u001b[0m \u001b[0mlen\u001b[0m\u001b[0;34m(\u001b[0m\u001b[0margs\u001b[0m\u001b[0;34m)\u001b[0m \u001b[0;34m-\u001b[0m \u001b[0mlen\u001b[0m\u001b[0;34m(\u001b[0m\u001b[0mall_args\u001b[0m\u001b[0;34m)\u001b[0m\u001b[0;34m\u001b[0m\u001b[0;34m\u001b[0m\u001b[0m\n\u001b[1;32m     62\u001b[0m             \u001b[0;32mif\u001b[0m \u001b[0mextra_args\u001b[0m \u001b[0;34m<=\u001b[0m \u001b[0;36m0\u001b[0m\u001b[0;34m:\u001b[0m\u001b[0;34m\u001b[0m\u001b[0;34m\u001b[0m\u001b[0m\n\u001b[0;32m---> 63\u001b[0;31m                 \u001b[0;32mreturn\u001b[0m \u001b[0mf\u001b[0m\u001b[0;34m(\u001b[0m\u001b[0;34m*\u001b[0m\u001b[0margs\u001b[0m\u001b[0;34m,\u001b[0m \u001b[0;34m**\u001b[0m\u001b[0mkwargs\u001b[0m\u001b[0;34m)\u001b[0m\u001b[0;34m\u001b[0m\u001b[0;34m\u001b[0m\u001b[0m\n\u001b[0m\u001b[1;32m     64\u001b[0m \u001b[0;34m\u001b[0m\u001b[0m\n\u001b[1;32m     65\u001b[0m             \u001b[0;31m# extra_args > 0\u001b[0m\u001b[0;34m\u001b[0m\u001b[0;34m\u001b[0m\u001b[0;34m\u001b[0m\u001b[0m\n",
      "\u001b[0;32m~/anaconda3/envs/bpt/lib/python3.9/site-packages/sklearn/linear_model/_coordinate_descent.py\u001b[0m in \u001b[0;36menet_path\u001b[0;34m(X, y, l1_ratio, eps, n_alphas, alphas, precompute, Xy, copy_X, coef_init, verbose, return_n_iter, positive, check_input, **params)\u001b[0m\n\u001b[1;32m    524\u001b[0m                 precompute = check_array(precompute, dtype=X.dtype.type,\n\u001b[1;32m    525\u001b[0m                                          order='C')\n\u001b[0;32m--> 526\u001b[0;31m             model = cd_fast.enet_coordinate_descent_gram(\n\u001b[0m\u001b[1;32m    527\u001b[0m                 \u001b[0mcoef_\u001b[0m\u001b[0;34m,\u001b[0m \u001b[0ml1_reg\u001b[0m\u001b[0;34m,\u001b[0m \u001b[0ml2_reg\u001b[0m\u001b[0;34m,\u001b[0m \u001b[0mprecompute\u001b[0m\u001b[0;34m,\u001b[0m \u001b[0mXy\u001b[0m\u001b[0;34m,\u001b[0m \u001b[0my\u001b[0m\u001b[0;34m,\u001b[0m \u001b[0mmax_iter\u001b[0m\u001b[0;34m,\u001b[0m\u001b[0;34m\u001b[0m\u001b[0;34m\u001b[0m\u001b[0m\n\u001b[1;32m    528\u001b[0m                 tol, rng, random, positive)\n",
      "\u001b[0;32msklearn/linear_model/_cd_fast.pyx\u001b[0m in \u001b[0;36msklearn.linear_model._cd_fast.enet_coordinate_descent_gram\u001b[0;34m()\u001b[0m\n",
      "\u001b[0;31mKeyboardInterrupt\u001b[0m: "
     ]
    }
   ],
   "source": [
    "evaluator = bp.evaluate(pipeline=best_of_pipe,\n",
    "                        dataset=data,\n",
    "                        problem_spec=ps,\n",
    "                        target='y2_bmi', \n",
    "                        scope='brain', \n",
    "                        subjects='train', \n",
    "                        cv=cv)\n",
    "\n",
    "evaluator"
   ]
  },
  {
   "cell_type": "markdown",
   "id": "external-dependence",
   "metadata": {},
   "source": [
    "Next, let's run its corresponding 'static' counterpart."
   ]
  },
  {
   "cell_type": "code",
   "execution_count": 21,
   "id": "assigned-helena",
   "metadata": {},
   "outputs": [
    {
     "data": {
      "application/vnd.jupyter.widget-view+json": {
       "model_id": "f74236e59d0348d68a6daefbfca4e191",
       "version_major": 2,
       "version_minor": 0
      },
      "text/plain": [
       "Folds:   0%|          | 0/5 [00:00<?, ?it/s]"
      ]
     },
     "metadata": {},
     "output_type": "display_data"
    },
    {
     "data": {
      "text/plain": [
       "BPtEvaluator\n",
       "------------\n",
       "mean_scores = {'explained_variance': 0.016566885756014837, 'neg_mean_squared_error': -20.079838071255505}\n",
       "std_scores = {'explained_variance': 0.008471508641454718, 'neg_mean_squared_error': 1.680294535454177}\n",
       "\n",
       "Saved Attributes: ['estimators', 'preds', 'timing', 'train_indices', 'val_indices', 'feat_names', 'ps', 'mean_scores', 'std_scores', 'weighted_mean_scores', 'scores', 'fis_', 'coef_']\n",
       "\n",
       "Avaliable Methods: ['get_preds_dfs', 'get_fis', 'get_coef_', 'permutation_importance']\n",
       "\n",
       "Evaluated with:\n",
       "ProblemSpec(n_jobs=8, problem_type='regression', random_state=10, scope='brain', scorer={'explained_variance': make_scorer(explained_variance_score), 'neg_mean_squared_error': make_scorer(mean_squared_error, greater_is_better=False)}, subjects='train', target='y2_bmi')"
      ]
     },
     "execution_count": 21,
     "metadata": {},
     "output_type": "execute_result"
    }
   ],
   "source": [
    "evaluator = bp.evaluate(pipeline=static_pipe,\n",
    "                        dataset=data,\n",
    "                        problem_spec=ps,\n",
    "                        target='y2_bmi', \n",
    "                        scope='brain', \n",
    "                        subjects='train',\n",
    "                        cv=cv)\n",
    "\n",
    "evaluator"
   ]
  },
  {
   "cell_type": "markdown",
   "id": "demonstrated-adventure",
   "metadata": {},
   "source": [
    "## Using the LinearResidualizer"
   ]
  },
  {
   "cell_type": "markdown",
   "id": "indie-profession",
   "metadata": {},
   "source": [
    "BPt has an object in the extensions library designed for performing properly nested residualization on input features. This is sometimes used in the literature, though the merit of this approach is still unclear."
   ]
  },
  {
   "cell_type": "code",
   "execution_count": 22,
   "id": "literary-practice",
   "metadata": {},
   "outputs": [],
   "source": [
    "# We can import this object from extensions as\n",
    "from BPt.extensions import LinearResidualizer"
   ]
  },
  {
   "cell_type": "code",
   "execution_count": 23,
   "id": "incorporate-principle",
   "metadata": {},
   "outputs": [
    {
     "data": {
      "text/plain": [
       "LinearResidualizer(to_resid_df=    time_diff\n",
       "0   25       \n",
       "..  ..       \n",
       "\n",
       "[2511 rows x 1 columns])"
      ]
     },
     "execution_count": 23,
     "metadata": {},
     "output_type": "execute_result"
    }
   ],
   "source": [
    "# We can make the object itself first, residualizing for time_diff\n",
    "resid = LinearResidualizer(to_resid_df=data[['time_diff']])\n",
    "resid"
   ]
  },
  {
   "cell_type": "markdown",
   "id": "abstract-flower",
   "metadata": {},
   "source": [
    "This object is itself a sklearn compliant transformer. We can use it in the pipeline by setting it as a scaler. Note that we set scope='brain', as we only want to residualize the brain variables."
   ]
  },
  {
   "cell_type": "code",
   "execution_count": 24,
   "id": "cordless-carry",
   "metadata": {},
   "outputs": [
    {
     "data": {
      "text/plain": [
       "Scaler(obj=LinearResidualizer(to_resid_df=    time_diff\n",
       "0   25       \n",
       "..  ..       \n",
       "\n",
       "[2511 rows x 1 columns]), scope='brain')"
      ]
     },
     "execution_count": 24,
     "metadata": {},
     "output_type": "execute_result"
    }
   ],
   "source": [
    "resid_scaler = bp.Scaler(resid, scope='brain')\n",
    "resid_scaler "
   ]
  },
  {
   "cell_type": "markdown",
   "id": "stainless-distance",
   "metadata": {},
   "source": [
    "Now let's integrate it with our other pipeline."
   ]
  },
  {
   "cell_type": "code",
   "execution_count": 25,
   "id": "velvet-lesbian",
   "metadata": {},
   "outputs": [
    {
     "name": "stdout",
     "output_type": "stream",
     "text": [
      "original steps: [Scaler(extra_params={'quantile_range': (2, 98)}, obj='winsorize', scope='brain'), Scaler(obj='standard'), Transformer(obj='one hot encoder', scope='category'), Model(obj='elastic', param_search=ParamSearch(cv=CV(cv_strategy=CVStrategy(groups='b_rel_family_id')), n_iter=60), params=1)]\n",
      "resid steps: [Scaler(extra_params={'quantile_range': (2, 98)}, obj='winsorize', scope='brain'), Scaler(obj='standard'), Transformer(obj='one hot encoder', scope='category'), Scaler(obj=LinearResidualizer(to_resid_df=    time_diff\n",
      "0   25       \n",
      "..  ..       \n",
      "\n",
      "[2511 rows x 1 columns]), scope='brain'), Model(obj='elastic', param_search=ParamSearch(cv=CV(cv_strategy=CVStrategy(groups='b_rel_family_id')), n_iter=60), params=1)]\n"
     ]
    }
   ],
   "source": [
    "# Original steps\n",
    "print('original steps:', pipe.steps)\n",
    "\n",
    "# New steps\n",
    "resid_pipe = pipe.copy()\n",
    "resid_pipe.steps = resid_pipe.steps[:-1] + [resid_scaler] + [resid_pipe.steps[-1]]\n",
    "\n",
    "print('resid steps:', resid_pipe.steps)"
   ]
  },
  {
   "cell_type": "code",
   "execution_count": 26,
   "id": "blocked-circus",
   "metadata": {
    "scrolled": true
   },
   "outputs": [
    {
     "data": {
      "application/vnd.jupyter.widget-view+json": {
       "model_id": "ca81485a96b6453b879fcabef97adbb2",
       "version_major": 2,
       "version_minor": 0
      },
      "text/plain": [
       "Folds:   0%|          | 0/1 [00:00<?, ?it/s]"
      ]
     },
     "metadata": {},
     "output_type": "display_data"
    },
    {
     "data": {
      "text/plain": [
       "BPtEvaluator\n",
       "------------\n",
       "mean_scores = {'explained_variance': 0.02062763589724137, 'neg_mean_squared_error': -17.06324050542408}\n",
       "std_scores = {'explained_variance': 0.0, 'neg_mean_squared_error': 0.0}\n",
       "\n",
       "Saved Attributes: ['estimators', 'preds', 'timing', 'train_indices', 'val_indices', 'feat_names', 'ps', 'mean_scores', 'std_scores', 'weighted_mean_scores', 'scores', 'fis_', 'coef_']\n",
       "\n",
       "Avaliable Methods: ['get_preds_dfs', 'get_fis', 'get_coef_', 'permutation_importance']\n",
       "\n",
       "Evaluated with:\n",
       "ProblemSpec(n_jobs=8, problem_type='regression', random_state=10, scope='brain', scorer={'explained_variance': make_scorer(explained_variance_score), 'neg_mean_squared_error': make_scorer(mean_squared_error, greater_is_better=False)}, target='y2_bmi')"
      ]
     },
     "execution_count": 26,
     "metadata": {},
     "output_type": "execute_result"
    }
   ],
   "source": [
    "# Same evaluate as before\n",
    "evaluator = bp.evaluate(pipeline=resid_pipe,\n",
    "                        dataset=data,\n",
    "                        problem_spec=ps,\n",
    "                        target='y2_bmi', \n",
    "                        scope='brain',\n",
    "                        subjects='all',\n",
    "                        cv='test')\n",
    "\n",
    "evaluator"
   ]
  },
  {
   "cell_type": "markdown",
   "id": "necessary-academy",
   "metadata": {},
   "source": [
    "## Compare & Evaluate"
   ]
  },
  {
   "cell_type": "markdown",
   "id": "elder-intention",
   "metadata": {},
   "source": [
    "Let's now try out a newer feature the input class Compare. We can also use another parameter Option to make the results easier to work with after. Let's define two different things to Compare here first."
   ]
  },
  {
   "cell_type": "code",
   "execution_count": 27,
   "id": "literary-edition",
   "metadata": {},
   "outputs": [],
   "source": [
    "# Two choices of Pipeline, compare or not.\n",
    "compare_pipes = bp.Compare([bp.Option(pipe, name='base'),\n",
    "                            bp.Option(resid_pipe, name='resid')])\n",
    "\n",
    "# No need to set name's here since the value itself is a good name\n",
    "compare_scopes = bp.Compare(['covars', 'brain', 'all'])"
   ]
  },
  {
   "cell_type": "code",
   "execution_count": 28,
   "id": "voluntary-typing",
   "metadata": {},
   "outputs": [
    {
     "data": {
      "application/vnd.jupyter.widget-view+json": {
       "model_id": "dbb0cf8bfcf54945963a7299951f69ee",
       "version_major": 2,
       "version_minor": 0
      },
      "text/plain": [
       "Compare:   0%|          | 0/6 [00:00<?, ?it/s]"
      ]
     },
     "metadata": {},
     "output_type": "display_data"
    },
    {
     "data": {
      "application/vnd.jupyter.widget-view+json": {
       "model_id": "58c42f414298487f8e6c1810ef8e5d55",
       "version_major": 2,
       "version_minor": 0
      },
      "text/plain": [
       "Folds:   0%|          | 0/5 [00:00<?, ?it/s]"
      ]
     },
     "metadata": {},
     "output_type": "display_data"
    }
   ],
   "source": [
    "evaluators = bp.evaluate(pipeline=compare_pipes, # So choice of pipeline and scope are now Compare\n",
    "                         scope=compare_scopes,\n",
    "                         dataset=data,\n",
    "                         problem_spec=ps,\n",
    "                         target='y2_bmi', # Note we still have y2_bmi fixed as the target\n",
    "                         subjects='train', # and train subjects only\n",
    "                         cv=cv, # CV still out custom CV.\n",
    "                         eval_verbose=0)"
   ]
  },
  {
   "cell_type": "code",
   "execution_count": 29,
   "id": "controversial-plymouth",
   "metadata": {},
   "outputs": [
    {
     "data": {
      "text/html": [
       "<div>\n",
       "<style scoped>\n",
       "    .dataframe tbody tr th:only-of-type {\n",
       "        vertical-align: middle;\n",
       "    }\n",
       "\n",
       "    .dataframe tbody tr th {\n",
       "        vertical-align: top;\n",
       "    }\n",
       "\n",
       "    .dataframe thead th {\n",
       "        text-align: right;\n",
       "    }\n",
       "</style>\n",
       "<table border=\"1\" class=\"dataframe\">\n",
       "  <thead>\n",
       "    <tr style=\"text-align: right;\">\n",
       "      <th></th>\n",
       "      <th></th>\n",
       "      <th>mean_scores_explained_variance</th>\n",
       "      <th>mean_scores_neg_mean_squared_error</th>\n",
       "      <th>std_scores_explained_variance</th>\n",
       "      <th>std_scores_neg_mean_squared_error</th>\n",
       "      <th>mean_timing_fit</th>\n",
       "      <th>mean_timing_score</th>\n",
       "    </tr>\n",
       "    <tr>\n",
       "      <th>pipeline</th>\n",
       "      <th>scope</th>\n",
       "      <th></th>\n",
       "      <th></th>\n",
       "      <th></th>\n",
       "      <th></th>\n",
       "      <th></th>\n",
       "      <th></th>\n",
       "    </tr>\n",
       "  </thead>\n",
       "  <tbody>\n",
       "    <tr>\n",
       "      <th rowspan=\"3\" valign=\"top\">base</th>\n",
       "      <th>covars</th>\n",
       "      <td>0.08750</td>\n",
       "      <td>-18.63043</td>\n",
       "      <td>0.02043</td>\n",
       "      <td>1.60705</td>\n",
       "      <td>2.73271</td>\n",
       "      <td>0.03996</td>\n",
       "    </tr>\n",
       "    <tr>\n",
       "      <th>brain</th>\n",
       "      <td>0.02125</td>\n",
       "      <td>-19.97986</td>\n",
       "      <td>0.01186</td>\n",
       "      <td>1.65734</td>\n",
       "      <td>8.76483</td>\n",
       "      <td>0.04266</td>\n",
       "    </tr>\n",
       "    <tr>\n",
       "      <th>all</th>\n",
       "      <td>0.06004</td>\n",
       "      <td>-19.18665</td>\n",
       "      <td>0.01530</td>\n",
       "      <td>1.59740</td>\n",
       "      <td>8.20863</td>\n",
       "      <td>0.03392</td>\n",
       "    </tr>\n",
       "    <tr>\n",
       "      <th rowspan=\"3\" valign=\"top\">resid</th>\n",
       "      <th>covars</th>\n",
       "      <td>0.08750</td>\n",
       "      <td>-18.63043</td>\n",
       "      <td>0.02043</td>\n",
       "      <td>1.60705</td>\n",
       "      <td>2.81915</td>\n",
       "      <td>0.03498</td>\n",
       "    </tr>\n",
       "    <tr>\n",
       "      <th>brain</th>\n",
       "      <td>0.02201</td>\n",
       "      <td>-19.96367</td>\n",
       "      <td>0.01203</td>\n",
       "      <td>1.65617</td>\n",
       "      <td>8.27503</td>\n",
       "      <td>0.06246</td>\n",
       "    </tr>\n",
       "    <tr>\n",
       "      <th>all</th>\n",
       "      <td>0.06033</td>\n",
       "      <td>-19.17940</td>\n",
       "      <td>0.01569</td>\n",
       "      <td>1.59423</td>\n",
       "      <td>8.39014</td>\n",
       "      <td>0.07557</td>\n",
       "    </tr>\n",
       "  </tbody>\n",
       "</table>\n",
       "</div>"
      ],
      "text/plain": [
       "                 mean_scores_explained_variance  \\\n",
       "pipeline scope                                    \n",
       "base     covars                         0.08750   \n",
       "         brain                          0.02125   \n",
       "         all                            0.06004   \n",
       "resid    covars                         0.08750   \n",
       "         brain                          0.02201   \n",
       "         all                            0.06033   \n",
       "\n",
       "                 mean_scores_neg_mean_squared_error  \\\n",
       "pipeline scope                                        \n",
       "base     covars                           -18.63043   \n",
       "         brain                            -19.97986   \n",
       "         all                              -19.18665   \n",
       "resid    covars                           -18.63043   \n",
       "         brain                            -19.96367   \n",
       "         all                              -19.17940   \n",
       "\n",
       "                 std_scores_explained_variance  \\\n",
       "pipeline scope                                   \n",
       "base     covars                        0.02043   \n",
       "         brain                         0.01186   \n",
       "         all                           0.01530   \n",
       "resid    covars                        0.02043   \n",
       "         brain                         0.01203   \n",
       "         all                           0.01569   \n",
       "\n",
       "                 std_scores_neg_mean_squared_error  mean_timing_fit  \\\n",
       "pipeline scope                                                        \n",
       "base     covars                            1.60705          2.73271   \n",
       "         brain                             1.65734          8.76483   \n",
       "         all                               1.59740          8.20863   \n",
       "resid    covars                            1.60705          2.81915   \n",
       "         brain                             1.65617          8.27503   \n",
       "         all                               1.59423          8.39014   \n",
       "\n",
       "                 mean_timing_score  \n",
       "pipeline scope                      \n",
       "base     covars            0.03996  \n",
       "         brain             0.04266  \n",
       "         all               0.03392  \n",
       "resid    covars            0.03498  \n",
       "         brain             0.06246  \n",
       "         all               0.07557  "
      ]
     },
     "execution_count": 29,
     "metadata": {},
     "output_type": "execute_result"
    }
   ],
   "source": [
    "# Look at a summary of the results - note this option is only avaliable after a call to evaluate with\n",
    "# Compare's has been made!\n",
    "evaluators.summary()"
   ]
  },
  {
   "cell_type": "markdown",
   "id": "whole-mason",
   "metadata": {},
   "source": [
    "We can also try another method avaliable which will run a pairwise model ttest comparison between all options"
   ]
  },
  {
   "cell_type": "code",
   "execution_count": 31,
   "id": "entertaining-beaver",
   "metadata": {},
   "outputs": [
    {
     "data": {
      "text/html": [
       "<div>\n",
       "<style scoped>\n",
       "    .dataframe tbody tr th:only-of-type {\n",
       "        vertical-align: middle;\n",
       "    }\n",
       "\n",
       "    .dataframe tbody tr th {\n",
       "        vertical-align: top;\n",
       "    }\n",
       "\n",
       "    .dataframe thead th {\n",
       "        text-align: right;\n",
       "    }\n",
       "</style>\n",
       "<table border=\"1\" class=\"dataframe\">\n",
       "  <thead>\n",
       "    <tr style=\"text-align: right;\">\n",
       "      <th></th>\n",
       "      <th>pipeline (1)</th>\n",
       "      <th>scope (1)</th>\n",
       "      <th>pipeline (2)</th>\n",
       "      <th>scope (2)</th>\n",
       "      <th>t_stat</th>\n",
       "      <th>p_val</th>\n",
       "    </tr>\n",
       "  </thead>\n",
       "  <tbody>\n",
       "    <tr>\n",
       "      <th>0</th>\n",
       "      <td>base</td>\n",
       "      <td>covars</td>\n",
       "      <td>base</td>\n",
       "      <td>brain</td>\n",
       "      <td>6.59395</td>\n",
       "      <td>0.02055</td>\n",
       "    </tr>\n",
       "    <tr>\n",
       "      <th>1</th>\n",
       "      <td>base</td>\n",
       "      <td>covars</td>\n",
       "      <td>base</td>\n",
       "      <td>all</td>\n",
       "      <td>4.04477</td>\n",
       "      <td>0.11657</td>\n",
       "    </tr>\n",
       "    <tr>\n",
       "      <th>2</th>\n",
       "      <td>base</td>\n",
       "      <td>covars</td>\n",
       "      <td>resid</td>\n",
       "      <td>brain</td>\n",
       "      <td>6.63327</td>\n",
       "      <td>0.02010</td>\n",
       "    </tr>\n",
       "    <tr>\n",
       "      <th>3</th>\n",
       "      <td>base</td>\n",
       "      <td>covars</td>\n",
       "      <td>resid</td>\n",
       "      <td>all</td>\n",
       "      <td>3.99660</td>\n",
       "      <td>0.12132</td>\n",
       "    </tr>\n",
       "    <tr>\n",
       "      <th>4</th>\n",
       "      <td>base</td>\n",
       "      <td>brain</td>\n",
       "      <td>base</td>\n",
       "      <td>all</td>\n",
       "      <td>-7.60785</td>\n",
       "      <td>0.01202</td>\n",
       "    </tr>\n",
       "    <tr>\n",
       "      <th>5</th>\n",
       "      <td>base</td>\n",
       "      <td>brain</td>\n",
       "      <td>resid</td>\n",
       "      <td>covars</td>\n",
       "      <td>-6.59395</td>\n",
       "      <td>0.02055</td>\n",
       "    </tr>\n",
       "    <tr>\n",
       "      <th>6</th>\n",
       "      <td>base</td>\n",
       "      <td>brain</td>\n",
       "      <td>resid</td>\n",
       "      <td>brain</td>\n",
       "      <td>-2.41288</td>\n",
       "      <td>0.54995</td>\n",
       "    </tr>\n",
       "    <tr>\n",
       "      <th>7</th>\n",
       "      <td>base</td>\n",
       "      <td>brain</td>\n",
       "      <td>resid</td>\n",
       "      <td>all</td>\n",
       "      <td>-7.34386</td>\n",
       "      <td>0.01373</td>\n",
       "    </tr>\n",
       "    <tr>\n",
       "      <th>8</th>\n",
       "      <td>base</td>\n",
       "      <td>all</td>\n",
       "      <td>resid</td>\n",
       "      <td>covars</td>\n",
       "      <td>-4.04477</td>\n",
       "      <td>0.11657</td>\n",
       "    </tr>\n",
       "    <tr>\n",
       "      <th>9</th>\n",
       "      <td>base</td>\n",
       "      <td>all</td>\n",
       "      <td>resid</td>\n",
       "      <td>brain</td>\n",
       "      <td>7.91573</td>\n",
       "      <td>0.01034</td>\n",
       "    </tr>\n",
       "    <tr>\n",
       "      <th>10</th>\n",
       "      <td>base</td>\n",
       "      <td>all</td>\n",
       "      <td>resid</td>\n",
       "      <td>all</td>\n",
       "      <td>-1.06086</td>\n",
       "      <td>1.00000</td>\n",
       "    </tr>\n",
       "    <tr>\n",
       "      <th>11</th>\n",
       "      <td>resid</td>\n",
       "      <td>covars</td>\n",
       "      <td>resid</td>\n",
       "      <td>brain</td>\n",
       "      <td>6.63327</td>\n",
       "      <td>0.02010</td>\n",
       "    </tr>\n",
       "    <tr>\n",
       "      <th>12</th>\n",
       "      <td>resid</td>\n",
       "      <td>covars</td>\n",
       "      <td>resid</td>\n",
       "      <td>all</td>\n",
       "      <td>3.99660</td>\n",
       "      <td>0.12132</td>\n",
       "    </tr>\n",
       "    <tr>\n",
       "      <th>13</th>\n",
       "      <td>resid</td>\n",
       "      <td>brain</td>\n",
       "      <td>resid</td>\n",
       "      <td>all</td>\n",
       "      <td>-7.62646</td>\n",
       "      <td>0.01190</td>\n",
       "    </tr>\n",
       "  </tbody>\n",
       "</table>\n",
       "</div>"
      ],
      "text/plain": [
       "   pipeline (1) scope (1) pipeline (2) scope (2)   t_stat   p_val\n",
       "0          base    covars         base     brain  6.59395 0.02055\n",
       "1          base    covars         base       all  4.04477 0.11657\n",
       "2          base    covars        resid     brain  6.63327 0.02010\n",
       "3          base    covars        resid       all  3.99660 0.12132\n",
       "4          base     brain         base       all -7.60785 0.01202\n",
       "5          base     brain        resid    covars -6.59395 0.02055\n",
       "6          base     brain        resid     brain -2.41288 0.54995\n",
       "7          base     brain        resid       all -7.34386 0.01373\n",
       "8          base       all        resid    covars -4.04477 0.11657\n",
       "9          base       all        resid     brain  7.91573 0.01034\n",
       "10         base       all        resid       all -1.06086 1.00000\n",
       "11        resid    covars        resid     brain  6.63327 0.02010\n",
       "12        resid    covars        resid       all  3.99660 0.12132\n",
       "13        resid     brain        resid       all -7.62646 0.01190"
      ]
     },
     "execution_count": 31,
     "metadata": {},
     "output_type": "execute_result"
    }
   ],
   "source": [
    "evaluators.pairwise_t_stats(metric='explained_variance')"
   ]
  },
  {
   "cell_type": "markdown",
   "id": "announced-dodge",
   "metadata": {},
   "source": [
    "We can also explicitly compare two evaluators"
   ]
  },
  {
   "cell_type": "code",
   "execution_count": 47,
   "id": "peaceful-florence",
   "metadata": {},
   "outputs": [
    {
     "name": "stdout",
     "output_type": "stream",
     "text": [
      "        In the case that the sizes of the training and validation sets\n",
      "        at each fold vary dramatically, it is unclear if this\n",
      "        statistics are still valid.\n",
      "        In that case, the mean train size and mean validation sizes\n",
      "        are employed when computing statistics.\n",
      "\n",
      "        Comparisons are made as self versus other, i.e., self - other.\n",
      "\n",
      "        Parameters\n",
      "        ------------\n",
      "        other : :class:`BPtEvaluator`\n",
      "\n",
      "\n",
      "        rope_interval : list or dict of\n",
      "            In the case that a dict is passed, the dictionary\n",
      "            keys should correspond to the name of scorers / metrics.\n",
      "        \n",
      "\n"
     ]
    },
    {
     "data": {
      "text/html": [
       "<div>\n",
       "<style scoped>\n",
       "    .dataframe tbody tr th:only-of-type {\n",
       "        vertical-align: middle;\n",
       "    }\n",
       "\n",
       "    .dataframe tbody tr th {\n",
       "        vertical-align: top;\n",
       "    }\n",
       "\n",
       "    .dataframe thead th {\n",
       "        text-align: right;\n",
       "    }\n",
       "</style>\n",
       "<table border=\"1\" class=\"dataframe\">\n",
       "  <thead>\n",
       "    <tr style=\"text-align: right;\">\n",
       "      <th></th>\n",
       "      <th>mean_diff</th>\n",
       "      <th>std_diff</th>\n",
       "      <th>t_stat</th>\n",
       "      <th>p_val</th>\n",
       "      <th>better_prob</th>\n",
       "      <th>worse_prob</th>\n",
       "      <th>rope_prob</th>\n",
       "    </tr>\n",
       "  </thead>\n",
       "  <tbody>\n",
       "    <tr>\n",
       "      <th>neg_mean_squared_error</th>\n",
       "      <td>1.34943</td>\n",
       "      <td>-0.05030</td>\n",
       "      <td>6.16829</td>\n",
       "      <td>0.00175</td>\n",
       "      <td>0.99820</td>\n",
       "      <td>0.00171</td>\n",
       "      <td>0.00010</td>\n",
       "    </tr>\n",
       "    <tr>\n",
       "      <th>explained_variance</th>\n",
       "      <td>0.06625</td>\n",
       "      <td>0.00856</td>\n",
       "      <td>6.59395</td>\n",
       "      <td>0.00137</td>\n",
       "      <td>0.99750</td>\n",
       "      <td>0.00081</td>\n",
       "      <td>0.00169</td>\n",
       "    </tr>\n",
       "  </tbody>\n",
       "</table>\n",
       "</div>"
      ],
      "text/plain": [
       "                        mean_diff  std_diff  t_stat   p_val  better_prob  \\\n",
       "neg_mean_squared_error    1.34943  -0.05030 6.16829 0.00175      0.99820   \n",
       "explained_variance        0.06625   0.00856 6.59395 0.00137      0.99750   \n",
       "\n",
       "                        worse_prob  rope_prob  \n",
       "neg_mean_squared_error     0.00171    0.00010  \n",
       "explained_variance         0.00081    0.00169  "
      ]
     },
     "execution_count": 47,
     "metadata": {},
     "output_type": "execute_result"
    }
   ],
   "source": [
    "e1 = evaluators['pipeline=base, scope=covars']\n",
    "e2 = evaluators['pipeline=base, scope=brain']\n",
    "\n",
    "# Look at function docstring\n",
    "print('       ', e1.compare.__doc__)\n",
    "print()\n",
    "\n",
    "e1.compare(e2)"
   ]
  },
  {
   "cell_type": "markdown",
   "id": "sufficient-poker",
   "metadata": {},
   "source": [
    "Okay so it looks like it ran all the different combinations, but how do we look at each indivudal evaluator / the full results?? There are few different ways to index the object storing the different evaluators, but its essentially a dictionary. We can index one run as follows:"
   ]
  },
  {
   "cell_type": "code",
   "execution_count": 34,
   "id": "increasing-throw",
   "metadata": {},
   "outputs": [
    {
     "data": {
      "text/plain": [
       "[      predict   y_true\n",
       " 4    22.71660 27.77510\n",
       " 5    19.52105 19.72230\n",
       " 9    19.24147 19.04280\n",
       " 10   19.36510 19.75324\n",
       " 18   19.32277 16.83360\n",
       " ...       ...      ...\n",
       " 2598 21.15328 26.23569\n",
       " 2608 20.61308 16.11975\n",
       " 2610 21.90605 29.99017\n",
       " 2611 18.59519 19.38944\n",
       " 2618 19.53818 22.31384\n",
       " \n",
       " [410 rows x 2 columns],\n",
       "       predict   y_true\n",
       " 1    20.47874 31.74616\n",
       " 8    22.58232 19.94162\n",
       " 11   20.01606 19.90839\n",
       " 19   19.32685 19.17211\n",
       " 22   22.23390 25.16647\n",
       " ...       ...      ...\n",
       " 2604 22.30865 20.13920\n",
       " 2606 18.78347 16.48343\n",
       " 2612 18.87883 22.72568\n",
       " 2617 19.16807 18.47943\n",
       " 2620 20.47948 16.02180\n",
       " \n",
       " [390 rows x 2 columns],\n",
       "       predict   y_true\n",
       " 3    22.47628 27.06019\n",
       " 7    20.56891 16.03695\n",
       " 24   21.87997 17.26178\n",
       " 28   18.70522 15.71670\n",
       " 30   18.87968 22.88707\n",
       " ...       ...      ...\n",
       " 2588 20.46326 18.02737\n",
       " 2600 19.94709 17.57168\n",
       " 2602 21.89065 18.19466\n",
       " 2613 22.02695 31.89111\n",
       " 2619 18.88894 17.16773\n",
       " \n",
       " [422 rows x 2 columns],\n",
       "       predict   y_true\n",
       " 12   22.56190 16.96662\n",
       " 14   23.17608 27.55931\n",
       " 27   20.25155 19.88263\n",
       " 43   23.21785 19.30627\n",
       " 44   19.24908 28.49177\n",
       " ...       ...      ...\n",
       " 2603 22.81647 30.71170\n",
       " 2614 20.23413 15.36605\n",
       " 2615 19.10702 21.69966\n",
       " 2616 18.77701 17.86247\n",
       " 2621 22.26887 14.69117\n",
       " \n",
       " [402 rows x 2 columns],\n",
       "       predict   y_true\n",
       " 2    20.67172 15.43814\n",
       " 13   20.54514 19.98009\n",
       " 16   21.40429 23.14630\n",
       " 17   18.69716 19.72230\n",
       " 31   19.71986 18.88125\n",
       " ...       ...      ...\n",
       " 2591 19.00897 16.11975\n",
       " 2594 20.09941 17.60978\n",
       " 2595 18.56864 16.22966\n",
       " 2596 21.63014 22.28154\n",
       " 2601 21.56255 26.12474\n",
       " \n",
       " [387 rows x 2 columns]]"
      ]
     },
     "execution_count": 34,
     "metadata": {},
     "output_type": "execute_result"
    }
   ],
   "source": [
    "evaluators['pipeline=base, scope=covars']"
   ]
  },
  {
   "cell_type": "code",
   "execution_count": null,
   "id": "informational-honolulu",
   "metadata": {},
   "outputs": [],
   "source": [
    "# Note, with get_fis, if mean=True it will return\n",
    "# the mean and only non-null, and non-zero features directly.\n",
    "evaluators['pipeline=base, scope=covars'].get_fis(mean=True)"
   ]
  },
  {
   "cell_type": "markdown",
   "id": "suburban-corner",
   "metadata": {},
   "source": [
    "Warning: This doesn't mean that this mean features were selected! Remember this is the average over training 5 models, so it means that if a feature shows up it was selected at least once in one of the models!"
   ]
  },
  {
   "cell_type": "code",
   "execution_count": null,
   "id": "sexual-biodiversity",
   "metadata": {},
   "outputs": [],
   "source": [
    "# These are the different options\n",
    "evaluators.keys()"
   ]
  },
  {
   "cell_type": "markdown",
   "id": "capable-guinea",
   "metadata": {},
   "source": [
    "We can index multiple like this ..."
   ]
  },
  {
   "cell_type": "code",
   "execution_count": null,
   "id": "technical-action",
   "metadata": {},
   "outputs": [],
   "source": [
    "evaluators['covars']"
   ]
  },
  {
   "cell_type": "code",
   "execution_count": null,
   "id": "fitted-bristol",
   "metadata": {},
   "outputs": [],
   "source": [
    "# Or get a summary of just this subset\n",
    "evaluators['covars'].summary()"
   ]
  },
  {
   "cell_type": "markdown",
   "id": "dietary-ecuador",
   "metadata": {},
   "source": [
    "Note the resid_pipeline just covars and normal pipeline did the same... this is good, since they are exactly the same.\n",
    "\n",
    "That will end this example."
   ]
  }
 ],
 "metadata": {
  "kernelspec": {
   "display_name": "Python 3.9.1 64-bit ('bpt': conda)",
   "language": "python",
   "name": "python39164bitbptconda7805b3f5d58e4b658b79cb94739371e6"
  },
  "language_info": {
   "codemirror_mode": {
    "name": "ipython",
    "version": 3
   },
   "file_extension": ".py",
   "mimetype": "text/x-python",
   "name": "python",
   "nbconvert_exporter": "python",
   "pygments_lexer": "ipython3",
   "version": "3.9.1"
  }
 },
 "nbformat": 4,
 "nbformat_minor": 5
}
