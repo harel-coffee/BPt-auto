{
 "cells": [
  {
   "cell_type": "markdown",
   "metadata": {},
   "source": [
    "# Predicting Substance Dependence from Multi-Site Data\n",
    "\n",
    "This notebook explores an example using data from the ENIGMA Addiction Consortium. Within this notebook we will be trying to predict between participants with any drug dependence (alcohol, cocaine, etc...), vs. healthy controls. The data for this is sources from a number of individual studies from all around the world and with different scanners etc... making this a challenging problem with its own unique considerations. Structural FreeSurfer ROIs are used. The raw data cannot be made available due to data use agreements.\n",
    "\n",
    "The key idea explored in this notebook is a particular tricky problem introduced by case-only sites, which are subject's data from site's with only case's. This introduces a confound where you cannot easily tell if the classifier is learning to predict site or the dependence status of interest.\n",
    "\n",
    "Featured in this notebook as well are some helpful\n",
    "code snippets for converting from BPt versions earlier than BPt 2.0 to valid BPt 2.0+ code."
   ]
  },
  {
   "cell_type": "code",
   "execution_count": 1,
   "metadata": {},
   "outputs": [
    {
     "name": "stderr",
     "output_type": "stream",
     "text": [
      "/home/sage/anaconda3/envs/bpt/lib/python3.9/site-packages/nilearn/datasets/__init__.py:93: FutureWarning: Fetchers from the nilearn.datasets module will be updated in version 0.9 to return python strings instead of bytes and Pandas dataframes instead of Numpy arrays.\n",
      "  warn(\"Fetchers from the nilearn.datasets module will be \"\n"
     ]
    }
   ],
   "source": [
    "import pandas as pd\n",
    "import BPt as bp\n",
    "import numpy as np\n",
    "import matplotlib.pyplot as plt\n",
    "\n",
    "from warnings import simplefilter\n",
    "from sklearn.exceptions import ConvergenceWarning\n",
    "simplefilter(\"ignore\", category=ConvergenceWarning)"
   ]
  },
  {
   "cell_type": "markdown",
   "metadata": {},
   "source": [
    "### Loading / Preparing Data"
   ]
  },
  {
   "cell_type": "markdown",
   "metadata": {},
   "source": [
    "As a general tip it can be useful to wrap something like a series of steps that load multiple DataFrames and merge them into a function. That said, it is often useful when first writing the function to try it taking advantage of the interactive-ness of the jupyter-notebook."
   ]
  },
  {
   "cell_type": "code",
   "execution_count": 2,
   "metadata": {},
   "outputs": [],
   "source": [
    "def load_base_df():\n",
    "    '''Loads and merges a DataFrame from multiple raw files'''\n",
    "    \n",
    "    na_vals = [' ', '  ', 'nan', 'NaN']\n",
    "    \n",
    "    # Load first part of data\n",
    "    d1 = pd.read_excel('/home/sage/Downloads/e1.xlsx', na_values=na_vals)\n",
    "    d2 = pd.read_excel('/home/sage/Downloads/e2.xlsx', na_values=na_vals)\n",
    "    df = pd.concat([d1, d2])\n",
    "\n",
    "    df['Subject'] = df['Subject'].astype('str')\n",
    "    df.rename({'Subject': 'subject'}, axis=1, inplace=True)\n",
    "    df.set_index('subject', inplace=True)\n",
    "\n",
    "    # Load second part\n",
    "    df2 = pd.read_excel('/home/sage/Downloads/e3.xlsx', na_values=na_vals)\n",
    "    df2['Subject ID'] = df2['Subject ID'].astype('str')\n",
    "    df2.rename({'Subject ID': 'subject'}, axis=1, inplace=True)\n",
    "    df2.set_index('subject', inplace=True)\n",
    "\n",
    "    # Merge\n",
    "    data = df2.merge(df, on='subject', how='outer')\n",
    "    \n",
    "    # Rename age and sex\n",
    "    data = data.rename({'Sex_y': 'Sex', 'Age_y': 'Age'}, axis=1)\n",
    "    \n",
    "    # Remove subject name to obsficate\n",
    "    data.index = list(range(len(data.index)))\n",
    "    \n",
    "    return data"
   ]
  },
  {
   "cell_type": "code",
   "execution_count": 3,
   "metadata": {},
   "outputs": [
    {
     "data": {
      "text/plain": [
       "(3525, 224)"
      ]
     },
     "execution_count": 3,
     "metadata": {},
     "output_type": "execute_result"
    }
   ],
   "source": [
    "df = load_base_df()\n",
    "df.shape"
   ]
  },
  {
   "cell_type": "code",
   "execution_count": 4,
   "metadata": {
    "scrolled": true
   },
   "outputs": [
    {
     "name": "stdout",
     "output_type": "stream",
     "text": [
      "Setting NaN threshold to: 1762.5\n",
      "Dropped 20 Columns\n",
      "Dropped 3 Columns\n",
      "Dropped 36 Columns\n",
      "Num. categorical variables in dataset: 3\n",
      "to binary cols: ['Dependent any drug', 'Handedness', 'Sex']\n",
      "Dropped 479 Rows\n",
      "scope covars =  ['Age', 'Education', 'Handedness', 'ICV', 'Sex']\n",
      "Setting NaN threshold to: 82.5\n",
      "Dropped 38 Rows\n",
      "Dropped 5 Rows\n"
     ]
    }
   ],
   "source": [
    "# Cast to dataset\n",
    "data = bp.Dataset(df)\n",
    "data.verbose = 1\n",
    "\n",
    "# Drop non relevant columns\n",
    "data.drop_cols_by_nan(threshold=.5, inplace=True)\n",
    "data.drop_cols(scope='Dependent', inclusions='any drug', inplace=True)\n",
    "data.drop_cols(exclusions=['Half', '30 days', 'Site ',\n",
    "                           'Sex_', 'Age_', 'Primary Drug', 'ICV.'], inplace=True)\n",
    "\n",
    "# Set binary vars as categorical\n",
    "data.auto_detect_categorical(inplace=True)\n",
    "data.to_binary(scope='category', inplace=True)\n",
    "print('to binary cols:', data.get_cols('category'))\n",
    "\n",
    "# Set target and drop any NaNs\n",
    "data.set_role('Dependent any drug', 'target', inplace=True)\n",
    "data.drop_nan_subjects('target', inplace=True)\n",
    "\n",
    "# Save this set of vars under scope covars\n",
    "data = data.add_scope(['ICV', 'Sex', 'Age', 'Education', 'Handedness'], 'covars')\n",
    "print('scope covars = ', data.get_cols('covars'))\n",
    "\n",
    "# Set site as non input\n",
    "data = data.set_role('Site', 'non input')\n",
    "data = data.ordinalize(scope='non input')\n",
    "\n",
    "# Drop subjects with too many NaN's and big outliers\n",
    "data.drop_subjects_by_nan(threshold=.5, scope='all', inplace=True)\n",
    "data.filter_outliers_by_std(n_std=10, scope='float', inplace=True)"
   ]
  },
  {
   "cell_type": "markdown",
   "metadata": {},
   "source": [
    "**Legacy Equivilent pre BPt 2.0 loading code**\n",
    "\n",
    "```\n",
    "ML = BPt_ML('Enigma_Alc',\n",
    "             log_dr = None,\n",
    "             n_jobs = 8)\n",
    "             \n",
    "ML.Set_Default_Load_Params(subject_id = 'subject',\n",
    "                           na_values = [' ', '  ', 'nan', 'NaN'],\n",
    "                           drop_na = .5)\n",
    "                           \n",
    "ML.Load_Data(df=df,\n",
    "             drop_keys = ['Unnamed:', 'Site', 'Half', 'PI', 'Dependent',\n",
    "                          'Surface Area', 'Thickness', 'ICV', 'Subcortical',\n",
    "                          'Sex', 'Age', 'Primary Drug', 'Education', 'Handedness'],\n",
    "             inclusion_keys=None,\n",
    "             unique_val_warn=None,\n",
    "             clear_existing=True)\n",
    "\n",
    "ML.Load_Targets(df=df,\n",
    "                col_name = 'Dependent any drug',\n",
    "                data_type = 'b')\n",
    "\n",
    "ML.Load_Covars(df=df,\n",
    "               col_name = ['ICV', 'Sex', 'Age'],\n",
    "               drop_na = False,\n",
    "               data_type = ['f', 'b', 'f'])\n",
    "\n",
    "ML.Load_Covars(df = df,\n",
    "               col_name = ['Education', 'Handedness'],\n",
    "               data_type = ['f', 'b'],\n",
    "               drop_na = False,\n",
    "               filter_outlier_std = 10)\n",
    "\n",
    "ML.Load_Strat(df=df,\n",
    "              col_name=['Sex', 'Site'],\n",
    "              binary_col=[True, False]\n",
    "              )\n",
    "\n",
    "ML.Prepare_All_Data()\n",
    "```"
   ]
  },
  {
   "cell_type": "markdown",
   "metadata": {},
   "source": [
    "Let's take a look at what we prepared. We can see that visually the Dataset is grouped by role."
   ]
  },
  {
   "cell_type": "markdown",
   "metadata": {},
   "source": [
    "Let's plot some variables of interest"
   ]
  },
  {
   "cell_type": "code",
   "execution_count": 5,
   "metadata": {},
   "outputs": [
    {
     "name": "stdout",
     "output_type": "stream",
     "text": [
      "Dependent any drug: 3003 rows\n"
     ]
    },
    {
     "data": {
      "image/png": "[encoded data removed]",
      "text/plain": [
       "<Figure size 360x360 with 1 Axes>"
      ]
     },
     "metadata": {
      "needs_background": "light"
     },
     "output_type": "display_data"
    }
   ],
   "source": [
    "data.plot('target')"
   ]
  },
  {
   "cell_type": "code",
   "execution_count": 6,
   "metadata": {},
   "outputs": [
    {
     "name": "stdout",
     "output_type": "stream",
     "text": [
      "Site: 3003 rows\n"
     ]
    },
    {
     "data": {
      "image/png": "[encoded data removed]",
      "text/plain": [
       "<Figure size 360x360 with 1 Axes>"
      ]
     },
     "metadata": {
      "needs_background": "light"
     },
     "output_type": "display_data"
    }
   ],
   "source": [
    "data.plot('Site')"
   ]
  },
  {
   "cell_type": "code",
   "execution_count": 7,
   "metadata": {},
   "outputs": [
    {
     "name": "stdout",
     "output_type": "stream",
     "text": [
      "Site: 3003 rows\n",
      "Dependent any drug: 3003 rows\n",
      "Plotting 3003 overlap valid subjects.\n"
     ]
    },
    {
     "data": {
      "image/png": "[encoded data removed]",
      "text/plain": [
       "<Figure size 432x288 with 2 Axes>"
      ]
     },
     "metadata": {
      "needs_background": "light"
     },
     "output_type": "display_data"
    }
   ],
   "source": [
    "data.plot_bivar('Site', 'Dependent any drug')"
   ]
  },
  {
   "cell_type": "markdown",
   "metadata": {},
   "source": [
    "That bi-variate plot is a little hard to read... we can make it bigger though easy enough. Let's say we also wanted to save it (we need to add show=False)"
   ]
  },
  {
   "cell_type": "code",
   "execution_count": 8,
   "metadata": {},
   "outputs": [
    {
     "name": "stdout",
     "output_type": "stream",
     "text": [
      "Site: 3003 rows\n",
      "Dependent any drug: 3003 rows\n",
      "Plotting 3003 overlap valid subjects.\n"
     ]
    },
    {
     "data": {
      "image/png": "[encoded data removed]",
      "text/plain": [
       "<Figure size 720x720 with 2 Axes>"
      ]
     },
     "metadata": {
      "needs_background": "light"
     },
     "output_type": "display_data"
    }
   ],
   "source": [
    "plt.figure(figsize=(10, 10))\n",
    "data.plot_bivar('Site', 'Dependent any drug', show=False)\n",
    "plt.savefig('site_by_drug.png', dpi=200)"
   ]
  },
  {
   "cell_type": "markdown",
   "metadata": {},
   "source": [
    "Okay next, we are going to define a custom validation strategy to use, which is essentially going to preserve subjects within the same train and test fold based on site.\n",
    "\n",
    "\n",
    "**Legacy Code**\n",
    "```\n",
    "from BPt import CV\n",
    "group_site = CV(groups='Site')\n",
    "```"
   ]
  },
  {
   "cell_type": "code",
   "execution_count": 9,
   "metadata": {},
   "outputs": [
    {
     "data": {
      "text/plain": [
       "CVStrategy(groups='Site')"
      ]
     },
     "execution_count": 9,
     "metadata": {},
     "output_type": "execute_result"
    }
   ],
   "source": [
    "group_site = bp.CVStrategy(groups='Site')\n",
    "group_site"
   ]
  },
  {
   "cell_type": "markdown",
   "metadata": {},
   "source": [
    "We then can use this CV strategy as an argument when defining the train test split.\n",
    "\n",
    "**Legacy Code**\n",
    "```\n",
    "ML.Train_Test_Split(test_size =.2, cv=group_site)\n",
    "```"
   ]
  },
  {
   "cell_type": "code",
   "execution_count": 10,
   "metadata": {},
   "outputs": [
    {
     "name": "stdout",
     "output_type": "stream",
     "text": [
      "Performing test split on: 3003 subjects.\n",
      "random_state: 5\n",
      "Test split size: 0.2\n",
      "\n",
      "Performed train/test split\n",
      "Train size: 2379\n",
      "Test size:  624\n"
     ]
    }
   ],
   "source": [
    "data = data.set_test_split(size=.2, cv_strategy=group_site, random_state=5)"
   ]
  },
  {
   "cell_type": "code",
   "execution_count": 11,
   "metadata": {},
   "outputs": [
    {
     "name": "stdout",
     "output_type": "stream",
     "text": [
      "Dependent any drug: 2379 rows\n"
     ]
    },
    {
     "data": {
      "image/png": "[encoded data removed]",
      "text/plain": [
       "<Figure size 360x360 with 1 Axes>"
      ]
     },
     "metadata": {
      "needs_background": "light"
     },
     "output_type": "display_data"
    },
    {
     "name": "stdout",
     "output_type": "stream",
     "text": [
      "Dependent any drug: 624 rows\n"
     ]
    },
    {
     "data": {
      "image/png": "[encoded data removed]",
      "text/plain": [
       "<Figure size 360x360 with 1 Axes>"
      ]
     },
     "metadata": {
      "needs_background": "light"
     },
     "output_type": "display_data"
    }
   ],
   "source": [
    "data.plot('target', subjects='train')\n",
    "data.plot('target', subjects='test')"
   ]
  },
  {
   "cell_type": "markdown",
   "metadata": {},
   "source": [
    "### Running ML\n",
    "\n",
    "Next, we are going to evaluate some different machine learning models on the problem we have defined. Notably not much has changed here with respect to the old version, except some cosmetic changes like Problem_Spec to ProblemSpec. Also we have a new `evaluate` function instead of calling Evaluate via the ML object (`ML.Evaluate`)."
   ]
  },
  {
   "cell_type": "code",
   "execution_count": 12,
   "metadata": {},
   "outputs": [
    {
     "data": {
      "text/plain": [
       "ProblemSpec(n_jobs=16, scorer=['matthews', 'roc_auc', 'balanced_accuracy'],\n",
       "            subjects='train')"
      ]
     },
     "execution_count": 12,
     "metadata": {},
     "output_type": "execute_result"
    }
   ],
   "source": [
    "# This just holds some commonly used values\n",
    "ps = bp.ProblemSpec(subjects='train',\n",
    "                    scorer=['matthews', 'roc_auc', 'balanced_accuracy'],\n",
    "                    n_jobs=16)\n",
    "ps"
   ]
  },
  {
   "cell_type": "code",
   "execution_count": 14,
   "metadata": {},
   "outputs": [
    {
     "name": "stdout",
     "output_type": "stream",
     "text": [
      "ModelPipeline\n",
      "-------------\n",
      "imputers=\\\n",
      "[Imputer(obj='mean', scope='float'),\n",
      " Imputer(obj='median', scope='category')]\n",
      "\n",
      "scalers=\\\n",
      "Scaler(obj='standard')\n",
      "\n",
      "model=\\\n",
      "Model(obj='elastic', params=1)\n",
      "\n",
      "param_search=\\\n",
      "ParamSearch(cv=CV(cv_strategy=CVStrategy()), n_iter=64,\n",
      "            search_type='DiscreteOnePlusOne')\n",
      "\n"
     ]
    }
   ],
   "source": [
    "# Define a ModelPipeline to use with imputation, scaling and an elastic net\n",
    "pipe = bp.ModelPipeline(imputers=[bp.Imputer(obj='mean', scope='float'),\n",
    "                                  bp.Imputer(obj='median', scope='category')],\n",
    "                        scalers=bp.Scaler('standard'), \n",
    "                        model=bp.Model('elastic', params=1),\n",
    "                        param_search=bp.ParamSearch(\n",
    "                            search_type='DiscreteOnePlusOne', n_iter=64))\n",
    "pipe.print_all()"
   ]
  },
  {
   "cell_type": "markdown",
   "metadata": {},
   "source": [
    "### 3-fold CV random splits\n",
    "\n",
    "Let's start by evaluating this model is a fairly naive way, just 3 folds of CV."
   ]
  },
  {
   "cell_type": "code",
   "execution_count": 18,
   "metadata": {},
   "outputs": [
    {
     "name": "stdout",
     "output_type": "stream",
     "text": [
      "Predicting target = Dependent any drug\n",
      "Using problem_type = binary\n",
      "Using scope = all (defining a total of 163 features).\n",
      "Evaluating 2379 total data points.\n"
     ]
    },
    {
     "data": {
      "application/vnd.jupyter.widget-view+json": {
       "model_id": "096378b8b9d045239c0e5fce543c3999",
       "version_major": 2,
       "version_minor": 0
      },
      "text/plain": [
       "Folds:   0%|          | 0/3 [00:00<?, ?it/s]"
      ]
     },
     "metadata": {},
     "output_type": "display_data"
    },
    {
     "name": "stdout",
     "output_type": "stream",
     "text": [
      "\n",
      "Train size: 1586 - Val size: 793\n",
      "Fit fold in 15.781 seconds.\n",
      "matthews: 0.45819711214039605\n",
      "roc_auc: 0.8219843414397561\n",
      "balanced_accuracy: 0.7347294394789718\n",
      "\n",
      "Train size: 1586 - Val size: 793\n",
      "Fit fold in 12.219 seconds.\n",
      "matthews: 0.43270247791412836\n",
      "roc_auc: 0.8060915258007118\n",
      "balanced_accuracy: 0.7243174488434163\n",
      "\n",
      "Train size: 1586 - Val size: 793\n",
      "Fit fold in 11.532 seconds.\n",
      "matthews: 0.4005078667838128\n",
      "roc_auc: 0.7789128332642631\n",
      "balanced_accuracy: 0.7066203895565686\n",
      "\n"
     ]
    },
    {
     "data": {
      "text/plain": [
       "BPtEvaluator\n",
       "------------\n",
       "mean_scores = {'matthews': 0.43046915227944577, 'roc_auc': 0.8023295668349103, 'balanced_accuracy': 0.721889092626319}\n",
       "std_scores = {'matthews': 0.023604421407805696, 'roc_auc': 0.01778394323677345, 'balanced_accuracy': 0.0116032282095078}\n",
       "\n",
       "Saved Attributes: ['estimators', 'preds', 'timing', 'train_subjects', 'val_subjects', 'feat_names', 'ps', 'mean_scores', 'std_scores', 'weighted_mean_scores', 'scores', 'fis_', 'coef_']\n",
       "\n",
       "Available Methods: ['get_X_transform_df', 'get_preds_dfs', 'get_fis', 'get_coef_', 'permutation_importance']\n",
       "\n",
       "Evaluated with:\n",
       "ProblemSpec(n_jobs=16, problem_type='binary',\n",
       "            scorer={'balanced_accuracy': make_scorer(balanced_accuracy_score),\n",
       "                    'matthews': make_scorer(matthews_corrcoef),\n",
       "                    'roc_auc': make_scorer(roc_auc_score, needs_threshold=True)},\n",
       "            subjects='train', target='Dependent any drug')"
      ]
     },
     "execution_count": 18,
     "metadata": {},
     "output_type": "execute_result"
    }
   ],
   "source": [
    "results = bp.evaluate(pipeline=pipe, dataset=data,\n",
    "                      problem_spec=ps, cv=bp.CV(splits=3))\n",
    "results"
   ]
  },
  {
   "cell_type": "markdown",
   "metadata": {},
   "source": [
    "Notably this is likely going to give us overly optimistic results. Let's look at just the Site's drawn from the first evaluation fold to get a feel for why."
   ]
  },
  {
   "cell_type": "code",
   "execution_count": 15,
   "metadata": {},
   "outputs": [
    {
     "name": "stdout",
     "output_type": "stream",
     "text": [
      "Site: 1586 rows\n",
      "Dependent any drug: 1586 rows\n",
      "Plotting 1586 overlap valid subjects.\n"
     ]
    },
    {
     "data": {
      "image/png": "[encoded data removed]",
      "text/plain": [
       "<Figure size 432x288 with 2 Axes>"
      ]
     },
     "metadata": {
      "needs_background": "light"
     },
     "output_type": "display_data"
    },
    {
     "name": "stdout",
     "output_type": "stream",
     "text": [
      "Site: 793 rows\n",
      "Dependent any drug: 793 rows\n",
      "Plotting 793 overlap valid subjects.\n"
     ]
    },
    {
     "data": {
      "image/png": "[encoded data removed]",
      "text/plain": [
       "<Figure size 432x288 with 2 Axes>"
      ]
     },
     "metadata": {
      "needs_background": "light"
     },
     "output_type": "display_data"
    }
   ],
   "source": [
    "data.plot_bivar('Site', 'Dependent any drug', subjects=results.train_subjects[0])\n",
    "data.plot_bivar('Site', 'Dependent any drug', subjects=results.val_subjects[0])"
   ]
  },
  {
   "cell_type": "markdown",
   "metadata": {},
   "source": [
    "### Preserving Groups by Site\n",
    "\n",
    "We can see that for example the 149 subjects from site 1 in the validation set had 269 subjects also from site 1 to potentially memorize site effects from! The confound is a site with only cases. One way we can account for this is through something we've already hinted at, using the group site cv from earlier. We can create a new CV object with this attribute."
   ]
  },
  {
   "cell_type": "code",
   "execution_count": 16,
   "metadata": {},
   "outputs": [
    {
     "data": {
      "text/plain": [
       "CV(cv_strategy=CVStrategy(groups='Site'))"
      ]
     },
     "execution_count": 16,
     "metadata": {},
     "output_type": "execute_result"
    }
   ],
   "source": [
    "site_cv = bp.CV(splits=3, cv_strategy=group_site)\n",
    "site_cv"
   ]
  },
  {
   "cell_type": "code",
   "execution_count": 17,
   "metadata": {},
   "outputs": [
    {
     "data": {
      "application/vnd.jupyter.widget-view+json": {
       "model_id": "5dbfc07f21b24324a748ba0e1998d195",
       "version_major": 2,
       "version_minor": 0
      },
      "text/plain": [
       "Folds:   0%|          | 0/3 [00:00<?, ?it/s]"
      ]
     },
     "metadata": {},
     "output_type": "display_data"
    },
    {
     "data": {
      "text/plain": [
       "BPtEvaluator\n",
       "------------\n",
       "mean_scores = {'matthews': 0.2806937010851929, 'roc_auc': 0.724342679133859, 'balanced_accuracy': 0.6448295419977427}\n",
       "std_scores = {'matthews': 0.09542590294675868, 'roc_auc': 0.04969484135272, 'balanced_accuracy': 0.0595558011571011}\n",
       "\n",
       "Saved Attributes: ['estimators', 'preds', 'timing', 'train_subjects', 'val_subjects', 'feat_names', 'ps', 'mean_scores', 'std_scores', 'weighted_mean_scores', 'scores', 'fis_', 'coef_']\n",
       "\n",
       "Available Methods: ['get_preds_dfs', 'get_fis', 'get_coef_', 'permutation_importance']\n",
       "\n",
       "Evaluated with:\n",
       "ProblemSpec(n_jobs=16, problem_type='binary', scorer={'balanced_accuracy': make_scorer(balanced_accuracy_score), 'matthews': make_scorer(matthews_corrcoef), 'roc_auc': make_scorer(roc_auc_score, needs_threshold=True)}, subjects='train', target='Dependent any drug')"
      ]
     },
     "execution_count": 17,
     "metadata": {},
     "output_type": "execute_result"
    }
   ],
   "source": [
    "results = bp.evaluate(pipeline=pipe, dataset=data,\n",
    "                      problem_spec=ps, cv=site_cv)\n",
    "results"
   ]
  },
  {
   "cell_type": "markdown",
   "metadata": {},
   "source": [
    "We can now make the same plots as before, confirming now that the sites are different."
   ]
  },
  {
   "cell_type": "code",
   "execution_count": 18,
   "metadata": {},
   "outputs": [
    {
     "name": "stdout",
     "output_type": "stream",
     "text": [
      "Site: 1471 rows\n",
      "Dependent any drug: 1471 rows\n",
      "Plotting 1471 overlap valid subjects.\n"
     ]
    },
    {
     "data": {
      "image/png": "[encoded data removed]",
      "text/plain": [
       "<Figure size 432x288 with 2 Axes>"
      ]
     },
     "metadata": {
      "needs_background": "light"
     },
     "output_type": "display_data"
    },
    {
     "name": "stdout",
     "output_type": "stream",
     "text": [
      "Site: 908 rows\n",
      "Dependent any drug: 908 rows\n",
      "Plotting 908 overlap valid subjects.\n"
     ]
    },
    {
     "data": {
      "image/png": "[encoded data removed]",
      "text/plain": [
       "<Figure size 432x288 with 2 Axes>"
      ]
     },
     "metadata": {
      "needs_background": "light"
     },
     "output_type": "display_data"
    }
   ],
   "source": [
    "data.plot_bivar('Site', 'Dependent any drug', subjects=results.train_subjects[0])\n",
    "data.plot_bivar('Site', 'Dependent any drug', subjects=results.val_subjects[0])"
   ]
  },
  {
   "cell_type": "markdown",
   "metadata": {},
   "source": [
    "Another piece we might want to look at in this case is the weighted_mean_scores. That is, each of the splits has train and test sets of slightly different sizes, so how does the metric change if we weight it by the number of validation subjects in that fold"
   ]
  },
  {
   "cell_type": "code",
   "execution_count": 19,
   "metadata": {},
   "outputs": [
    {
     "data": {
      "text/plain": [
       "{'matthews': 0.2962912181056522,\n",
       " 'roc_auc': 0.731185680809635,\n",
       " 'balanced_accuracy': 0.6545156761514691}"
      ]
     },
     "execution_count": 19,
     "metadata": {},
     "output_type": "execute_result"
    }
   ],
   "source": [
    "results.weighted_mean_scores"
   ]
  },
  {
   "cell_type": "code",
   "execution_count": 20,
   "metadata": {},
   "outputs": [
    {
     "data": {
      "application/vnd.jupyter.widget-view+json": {
       "model_id": "c1125e8677974cdb9d85d73fd28d5bea",
       "version_major": 2,
       "version_minor": 0
      },
      "text/plain": [
       "Folds:   0%|          | 0/3 [00:00<?, ?it/s]"
      ]
     },
     "metadata": {},
     "output_type": "display_data"
    },
    {
     "data": {
      "text/plain": [
       "BPtEvaluator\n",
       "------------\n",
       "mean_scores = {'matthews': 0.4198523568381287, 'roc_auc': 0.8021293794313956, 'balanced_accuracy': 0.71695304741449}\n",
       "std_scores = {'matthews': 0.05886752017766923, 'roc_auc': 0.020630146396151645, 'balanced_accuracy': 0.030556740029522838}\n",
       "\n",
       "Saved Attributes: ['estimators', 'preds', 'timing', 'train_subjects', 'val_subjects', 'feat_names', 'ps', 'mean_scores', 'std_scores', 'weighted_mean_scores', 'scores', 'fis_', 'coef_']\n",
       "\n",
       "Available Methods: ['get_preds_dfs', 'get_fis', 'get_coef_', 'permutation_importance']\n",
       "\n",
       "Evaluated with:\n",
       "ProblemSpec(n_jobs=16, problem_type='binary', scorer={'balanced_accuracy': make_scorer(balanced_accuracy_score), 'matthews': make_scorer(matthews_corrcoef), 'roc_auc': make_scorer(roc_auc_score, needs_threshold=True)}, subjects='train', target='Dependent any drug')"
      ]
     },
     "execution_count": 20,
     "metadata": {},
     "output_type": "execute_result"
    }
   ],
   "source": [
    "results = bp.evaluate(pipeline=pipe, dataset=data,\n",
    "                      problem_spec=ps, cv=3)\n",
    "results"
   ]
  },
  {
   "cell_type": "markdown",
   "metadata": {},
   "source": [
    "### Other options?\n",
    "\n",
    "What other options do we have to handle site with CV besides just the group splitting?\n",
    "\n",
    "1. Explicit leave-out-site CV: Where every train set is composed of all sites but one, and the validation set is the left out site.\n",
    "\n",
    "2. Use the train-only parameter in CV.\n",
    "\n",
    "3. Only evaluate subjects from sites with both cases and controls.\n",
    "\n",
    "Let's try option 1 first."
   ]
  },
  {
   "cell_type": "markdown",
   "metadata": {},
   "source": [
    "### Leave-out-site CV"
   ]
  },
  {
   "cell_type": "code",
   "execution_count": 21,
   "metadata": {},
   "outputs": [
    {
     "data": {
      "application/vnd.jupyter.widget-view+json": {
       "model_id": "564eb1338e244b9491eda2b16f4042de",
       "version_major": 2,
       "version_minor": 0
      },
      "text/plain": [
       "Folds:   0%|          | 0/22 [00:00<?, ?it/s]"
      ]
     },
     "metadata": {},
     "output_type": "display_data"
    },
    {
     "name": "stdout",
     "output_type": "stream",
     "text": [
      "Only one class present in y_true. ROC AUC score is not defined in that case.\n"
     ]
    },
    {
     "name": "stderr",
     "output_type": "stream",
     "text": [
      "/home/sage/anaconda3/envs/bpt/lib/python3.9/site-packages/sklearn/metrics/_classification.py:870: RuntimeWarning: invalid value encountered in double_scalars\n",
      "  mcc = cov_ytyp / np.sqrt(cov_ytyt * cov_ypyp)\n"
     ]
    }
   ],
   "source": [
    "# All we need to do for leave-out-site is specify that splits = Site\n",
    "leave_out_site_cv = bp.CV(splits='Site')\n",
    "\n",
    "# This will actually raise an error\n",
    "try:\n",
    "    results = bp.evaluate(pipeline=pipe, dataset=data,\n",
    "                          problem_spec=ps, cv=leave_out_site_cv)\n",
    "except Exception as exc:\n",
    "    print(exc)"
   ]
  },
  {
   "cell_type": "markdown",
   "metadata": {},
   "source": [
    "Uh oh looks like this option actually failed. What happened? Well basically since we have sites with only one class, we are trying to compute metrics that require two classes. Let's try again this time just using scorers that can work in the case of only one class."
   ]
  },
  {
   "cell_type": "code",
   "execution_count": 22,
   "metadata": {},
   "outputs": [
    {
     "data": {
      "application/vnd.jupyter.widget-view+json": {
       "model_id": "a23ef370f42f4cf0a1018d0b94638683",
       "version_major": 2,
       "version_minor": 0
      },
      "text/plain": [
       "Folds:   0%|          | 0/22 [00:00<?, ?it/s]"
      ]
     },
     "metadata": {},
     "output_type": "display_data"
    },
    {
     "data": {
      "text/plain": [
       "({'accuracy': 0.6236689337343281},\n",
       " {'accuracy': 0.19902767857831596},\n",
       " {'accuracy': 0.6658259773013872})"
      ]
     },
     "execution_count": 22,
     "metadata": {},
     "output_type": "execute_result"
    }
   ],
   "source": [
    "results = bp.evaluate(pipeline=pipe, dataset=data, scorer='accuracy',\n",
    "                      problem_spec=ps, cv=leave_out_site_cv)\n",
    "\n",
    "results.mean_scores, results.std_scores, results.weighted_mean_scores"
   ]
  },
  {
   "cell_type": "markdown",
   "metadata": {},
   "source": [
    "The problem here is accuracy is likely a pretty bad metric, especially for the sites which have both cases and controls, but a skewed distribution. In general using the group preserving by Site is likely a better option."
   ]
  },
  {
   "cell_type": "markdown",
   "metadata": {},
   "source": [
    "### Train-only subjects\n",
    "\n",
    "One optional way of handling these subjects from sites with only cases or only controls is to just never evaluate them. To instead always treat them as train subjects. We can notably then either use random splits or group preserving by CV."
   ]
  },
  {
   "cell_type": "code",
   "execution_count": 23,
   "metadata": {},
   "outputs": [],
   "source": [
    "def check_imbalanced(df):\n",
    "    as_int = df['Dependent any drug'].astype('int')\n",
    "    return np.sum(as_int) == len(as_int)\n",
    "\n",
    "# Apply function to check if each site has all the same target variable\n",
    "is_imbalanced = data.groupby('Site').apply(check_imbalanced)\n",
    "\n",
    "# Note these are internal values, not the original ones\n",
    "imbalanced_sites = np.flatnonzero(is_imbalanced)\n",
    "\n",
    "# We can specify just these subjects using the ValueSubset wrapper\n",
    "imbalanced_subjs = bp.ValueSubset('Site', values=imbalanced_sites, decode_values=False)"
   ]
  },
  {
   "cell_type": "code",
   "execution_count": 24,
   "metadata": {},
   "outputs": [
    {
     "data": {
      "application/vnd.jupyter.widget-view+json": {
       "model_id": "f247edb6a5934227a6e1e32d7909a80f",
       "version_major": 2,
       "version_minor": 0
      },
      "text/plain": [
       "Folds:   0%|          | 0/3 [00:00<?, ?it/s]"
      ]
     },
     "metadata": {},
     "output_type": "display_data"
    },
    {
     "data": {
      "text/plain": [
       "BPtEvaluator\n",
       "------------\n",
       "mean_scores = {'matthews': 0.024294039432900597, 'roc_auc': 0.5292721521624003, 'balanced_accuracy': 0.5116503104881627}\n",
       "std_scores = {'matthews': 0.0818023189639453, 'roc_auc': 0.053461117751205205, 'balanced_accuracy': 0.04147838671486171}\n",
       "\n",
       "Saved Attributes: ['estimators', 'preds', 'timing', 'train_subjects', 'val_subjects', 'feat_names', 'ps', 'mean_scores', 'std_scores', 'weighted_mean_scores', 'scores', 'fis_', 'coef_']\n",
       "\n",
       "Available Methods: ['get_preds_dfs', 'get_fis', 'get_coef_', 'permutation_importance']\n",
       "\n",
       "Evaluated with:\n",
       "ProblemSpec(n_jobs=16, problem_type='binary', scorer={'balanced_accuracy': make_scorer(balanced_accuracy_score), 'matthews': make_scorer(matthews_corrcoef), 'roc_auc': make_scorer(roc_auc_score, needs_threshold=True)}, subjects='train', target='Dependent any drug')"
      ]
     },
     "execution_count": 24,
     "metadata": {},
     "output_type": "execute_result"
    }
   ],
   "source": [
    "# Now define our new version of the group site cv\n",
    "site_cv_tr_only = bp.CV(splits=3, cv_strategy=group_site,\n",
    "                        train_only_subjects=imbalanced_subjs)\n",
    "\n",
    "# And evaluate\n",
    "results = bp.evaluate(pipeline=pipe, dataset=data,\n",
    "                      problem_spec=ps, cv=site_cv_tr_only)\n",
    "results"
   ]
  },
  {
   "cell_type": "markdown",
   "metadata": {},
   "source": [
    "The take-away here is maybe a little bleak. Essentially it is saying that some of the high scores we got earlier might have been in large part due to scores from the imbalanced sites."
   ]
  },
  {
   "cell_type": "code",
   "execution_count": 25,
   "metadata": {},
   "outputs": [
    {
     "data": {
      "application/vnd.jupyter.widget-view+json": {
       "model_id": "b31f4d77d6bf4e098dc5e140f4c6acbb",
       "version_major": 2,
       "version_minor": 0
      },
      "text/plain": [
       "Folds:   0%|          | 0/3 [00:00<?, ?it/s]"
      ]
     },
     "metadata": {},
     "output_type": "display_data"
    },
    {
     "data": {
      "text/plain": [
       "BPtEvaluator\n",
       "------------\n",
       "mean_scores = {'matthews': 0.23754373855512448, 'roc_auc': 0.6581411778771414, 'balanced_accuracy': 0.6117532215243421}\n",
       "std_scores = {'matthews': 0.028251718001276915, 'roc_auc': 0.00840487420017697, 'balanced_accuracy': 0.01031391488070083}\n",
       "\n",
       "Saved Attributes: ['estimators', 'preds', 'timing', 'train_subjects', 'val_subjects', 'feat_names', 'ps', 'mean_scores', 'std_scores', 'weighted_mean_scores', 'scores', 'fis_', 'coef_']\n",
       "\n",
       "Available Methods: ['get_preds_dfs', 'get_fis', 'get_coef_', 'permutation_importance']\n",
       "\n",
       "Evaluated with:\n",
       "ProblemSpec(n_jobs=16, problem_type='binary', scorer={'balanced_accuracy': make_scorer(balanced_accuracy_score), 'matthews': make_scorer(matthews_corrcoef), 'roc_auc': make_scorer(roc_auc_score, needs_threshold=True)}, subjects='train', target='Dependent any drug')"
      ]
     },
     "execution_count": 25,
     "metadata": {},
     "output_type": "execute_result"
    }
   ],
   "source": [
    "# And we can also run a version with just random splits\n",
    "tr_only_cv = bp.CV(splits=3, train_only_subjects=imbalanced_subjs)\n",
    "\n",
    "# And evaluate\n",
    "results = bp.evaluate(pipeline=pipe, dataset=data,\n",
    "                      problem_spec=ps, cv=tr_only_cv)\n",
    "results"
   ]
  },
  {
   "cell_type": "markdown",
   "metadata": {},
   "source": [
    "While this version with random splits does better, we are still notably ignoring the distribution of case to control in the sites with both cases and controls. Based on the group preserving results what it seems like is going on is that when subjects from the same site are split across validation folds, the classifier might be able to just memorize Site instead of the effect of interest. Lets use Site 29 as an example.\n",
    "\n",
    "Let's look at just fold 1 first."
   ]
  },
  {
   "cell_type": "code",
   "execution_count": 26,
   "metadata": {},
   "outputs": [
    {
     "name": "stdout",
     "output_type": "stream",
     "text": [
      "Site: 70 rows\n",
      "Dependent any drug: 70 rows\n",
      "Plotting 70 overlap valid subjects.\n"
     ]
    },
    {
     "data": {
      "image/png": "[encoded data removed]",
      "text/plain": [
       "<Figure size 432x288 with 2 Axes>"
      ]
     },
     "metadata": {
      "needs_background": "light"
     },
     "output_type": "display_data"
    },
    {
     "name": "stdout",
     "output_type": "stream",
     "text": [
      "Site: 30 rows\n",
      "Dependent any drug: 30 rows\n",
      "Plotting 30 overlap valid subjects.\n"
     ]
    },
    {
     "data": {
      "image/png": "[encoded data removed]",
      "text/plain": [
       "<Figure size 432x288 with 2 Axes>"
      ]
     },
     "metadata": {
      "needs_background": "light"
     },
     "output_type": "display_data"
    },
    {
     "data": {
      "text/html": [
       "<div>\n",
       "<style scoped>\n",
       "    .dataframe tbody tr th:only-of-type {\n",
       "        vertical-align: middle;\n",
       "    }\n",
       "\n",
       "    .dataframe tbody tr th {\n",
       "        vertical-align: top;\n",
       "    }\n",
       "\n",
       "    .dataframe thead th {\n",
       "        text-align: right;\n",
       "    }\n",
       "</style>\n",
       "<table border=\"1\" class=\"dataframe\">\n",
       "  <thead>\n",
       "    <tr style=\"text-align: right;\">\n",
       "      <th></th>\n",
       "      <th>predict</th>\n",
       "      <th>predict_proba</th>\n",
       "      <th>decision_function</th>\n",
       "      <th>y_true</th>\n",
       "    </tr>\n",
       "  </thead>\n",
       "  <tbody>\n",
       "    <tr>\n",
       "      <th>3458</th>\n",
       "      <td>0.0</td>\n",
       "      <td>0.810241</td>\n",
       "      <td>-1.451580</td>\n",
       "      <td>0.0</td>\n",
       "    </tr>\n",
       "    <tr>\n",
       "      <th>3459</th>\n",
       "      <td>0.0</td>\n",
       "      <td>0.902262</td>\n",
       "      <td>-2.222618</td>\n",
       "      <td>0.0</td>\n",
       "    </tr>\n",
       "    <tr>\n",
       "      <th>3462</th>\n",
       "      <td>0.0</td>\n",
       "      <td>0.976899</td>\n",
       "      <td>-3.744522</td>\n",
       "      <td>0.0</td>\n",
       "    </tr>\n",
       "    <tr>\n",
       "      <th>3470</th>\n",
       "      <td>0.0</td>\n",
       "      <td>0.954009</td>\n",
       "      <td>-3.032217</td>\n",
       "      <td>0.0</td>\n",
       "    </tr>\n",
       "    <tr>\n",
       "      <th>3478</th>\n",
       "      <td>0.0</td>\n",
       "      <td>0.964846</td>\n",
       "      <td>-3.312243</td>\n",
       "      <td>0.0</td>\n",
       "    </tr>\n",
       "    <tr>\n",
       "      <th>3479</th>\n",
       "      <td>0.0</td>\n",
       "      <td>0.900526</td>\n",
       "      <td>-2.203087</td>\n",
       "      <td>0.0</td>\n",
       "    </tr>\n",
       "    <tr>\n",
       "      <th>3482</th>\n",
       "      <td>0.0</td>\n",
       "      <td>0.946305</td>\n",
       "      <td>-2.869253</td>\n",
       "      <td>0.0</td>\n",
       "    </tr>\n",
       "    <tr>\n",
       "      <th>3484</th>\n",
       "      <td>0.0</td>\n",
       "      <td>0.681535</td>\n",
       "      <td>-0.760837</td>\n",
       "      <td>0.0</td>\n",
       "    </tr>\n",
       "    <tr>\n",
       "      <th>3485</th>\n",
       "      <td>0.0</td>\n",
       "      <td>0.924836</td>\n",
       "      <td>-2.509949</td>\n",
       "      <td>0.0</td>\n",
       "    </tr>\n",
       "    <tr>\n",
       "      <th>3486</th>\n",
       "      <td>0.0</td>\n",
       "      <td>0.957875</td>\n",
       "      <td>-3.124076</td>\n",
       "      <td>0.0</td>\n",
       "    </tr>\n",
       "    <tr>\n",
       "      <th>3494</th>\n",
       "      <td>0.0</td>\n",
       "      <td>0.870815</td>\n",
       "      <td>-1.908185</td>\n",
       "      <td>0.0</td>\n",
       "    </tr>\n",
       "    <tr>\n",
       "      <th>3497</th>\n",
       "      <td>0.0</td>\n",
       "      <td>0.959444</td>\n",
       "      <td>-3.163663</td>\n",
       "      <td>0.0</td>\n",
       "    </tr>\n",
       "    <tr>\n",
       "      <th>3498</th>\n",
       "      <td>0.0</td>\n",
       "      <td>0.877308</td>\n",
       "      <td>-1.967185</td>\n",
       "      <td>0.0</td>\n",
       "    </tr>\n",
       "    <tr>\n",
       "      <th>3502</th>\n",
       "      <td>0.0</td>\n",
       "      <td>0.892309</td>\n",
       "      <td>-2.114550</td>\n",
       "      <td>0.0</td>\n",
       "    </tr>\n",
       "    <tr>\n",
       "      <th>3503</th>\n",
       "      <td>0.0</td>\n",
       "      <td>0.946427</td>\n",
       "      <td>-2.871650</td>\n",
       "      <td>1.0</td>\n",
       "    </tr>\n",
       "    <tr>\n",
       "      <th>3507</th>\n",
       "      <td>0.0</td>\n",
       "      <td>0.968260</td>\n",
       "      <td>-3.417921</td>\n",
       "      <td>0.0</td>\n",
       "    </tr>\n",
       "    <tr>\n",
       "      <th>3509</th>\n",
       "      <td>0.0</td>\n",
       "      <td>0.961510</td>\n",
       "      <td>-3.218103</td>\n",
       "      <td>0.0</td>\n",
       "    </tr>\n",
       "    <tr>\n",
       "      <th>3512</th>\n",
       "      <td>0.0</td>\n",
       "      <td>0.907378</td>\n",
       "      <td>-2.282028</td>\n",
       "      <td>0.0</td>\n",
       "    </tr>\n",
       "    <tr>\n",
       "      <th>3517</th>\n",
       "      <td>0.0</td>\n",
       "      <td>0.976704</td>\n",
       "      <td>-3.735907</td>\n",
       "      <td>0.0</td>\n",
       "    </tr>\n",
       "    <tr>\n",
       "      <th>3521</th>\n",
       "      <td>0.0</td>\n",
       "      <td>0.665222</td>\n",
       "      <td>-0.686655</td>\n",
       "      <td>0.0</td>\n",
       "    </tr>\n",
       "    <tr>\n",
       "      <th>3523</th>\n",
       "      <td>0.0</td>\n",
       "      <td>0.699328</td>\n",
       "      <td>-0.844100</td>\n",
       "      <td>0.0</td>\n",
       "    </tr>\n",
       "    <tr>\n",
       "      <th>3423</th>\n",
       "      <td>0.0</td>\n",
       "      <td>0.951770</td>\n",
       "      <td>-2.982337</td>\n",
       "      <td>0.0</td>\n",
       "    </tr>\n",
       "    <tr>\n",
       "      <th>3429</th>\n",
       "      <td>0.0</td>\n",
       "      <td>0.603810</td>\n",
       "      <td>-0.421364</td>\n",
       "      <td>0.0</td>\n",
       "    </tr>\n",
       "    <tr>\n",
       "      <th>3434</th>\n",
       "      <td>0.0</td>\n",
       "      <td>0.955454</td>\n",
       "      <td>-3.065661</td>\n",
       "      <td>0.0</td>\n",
       "    </tr>\n",
       "    <tr>\n",
       "      <th>3437</th>\n",
       "      <td>0.0</td>\n",
       "      <td>0.934065</td>\n",
       "      <td>-2.650873</td>\n",
       "      <td>0.0</td>\n",
       "    </tr>\n",
       "    <tr>\n",
       "      <th>3442</th>\n",
       "      <td>0.0</td>\n",
       "      <td>0.912519</td>\n",
       "      <td>-2.344782</td>\n",
       "      <td>0.0</td>\n",
       "    </tr>\n",
       "    <tr>\n",
       "      <th>3443</th>\n",
       "      <td>0.0</td>\n",
       "      <td>0.927844</td>\n",
       "      <td>-2.554032</td>\n",
       "      <td>0.0</td>\n",
       "    </tr>\n",
       "    <tr>\n",
       "      <th>3447</th>\n",
       "      <td>0.0</td>\n",
       "      <td>0.916637</td>\n",
       "      <td>-2.397506</td>\n",
       "      <td>0.0</td>\n",
       "    </tr>\n",
       "    <tr>\n",
       "      <th>3453</th>\n",
       "      <td>0.0</td>\n",
       "      <td>0.945561</td>\n",
       "      <td>-2.854691</td>\n",
       "      <td>0.0</td>\n",
       "    </tr>\n",
       "    <tr>\n",
       "      <th>3455</th>\n",
       "      <td>0.0</td>\n",
       "      <td>0.745451</td>\n",
       "      <td>-1.074496</td>\n",
       "      <td>0.0</td>\n",
       "    </tr>\n",
       "  </tbody>\n",
       "</table>\n",
       "</div>"
      ],
      "text/plain": [
       "      predict  predict_proba  decision_function  y_true\n",
       "3458      0.0       0.810241          -1.451580     0.0\n",
       "3459      0.0       0.902262          -2.222618     0.0\n",
       "3462      0.0       0.976899          -3.744522     0.0\n",
       "3470      0.0       0.954009          -3.032217     0.0\n",
       "3478      0.0       0.964846          -3.312243     0.0\n",
       "3479      0.0       0.900526          -2.203087     0.0\n",
       "3482      0.0       0.946305          -2.869253     0.0\n",
       "3484      0.0       0.681535          -0.760837     0.0\n",
       "3485      0.0       0.924836          -2.509949     0.0\n",
       "3486      0.0       0.957875          -3.124076     0.0\n",
       "3494      0.0       0.870815          -1.908185     0.0\n",
       "3497      0.0       0.959444          -3.163663     0.0\n",
       "3498      0.0       0.877308          -1.967185     0.0\n",
       "3502      0.0       0.892309          -2.114550     0.0\n",
       "3503      0.0       0.946427          -2.871650     1.0\n",
       "3507      0.0       0.968260          -3.417921     0.0\n",
       "3509      0.0       0.961510          -3.218103     0.0\n",
       "3512      0.0       0.907378          -2.282028     0.0\n",
       "3517      0.0       0.976704          -3.735907     0.0\n",
       "3521      0.0       0.665222          -0.686655     0.0\n",
       "3523      0.0       0.699328          -0.844100     0.0\n",
       "3423      0.0       0.951770          -2.982337     0.0\n",
       "3429      0.0       0.603810          -0.421364     0.0\n",
       "3434      0.0       0.955454          -3.065661     0.0\n",
       "3437      0.0       0.934065          -2.650873     0.0\n",
       "3442      0.0       0.912519          -2.344782     0.0\n",
       "3443      0.0       0.927844          -2.554032     0.0\n",
       "3447      0.0       0.916637          -2.397506     0.0\n",
       "3453      0.0       0.945561          -2.854691     0.0\n",
       "3455      0.0       0.745451          -1.074496     0.0"
      ]
     },
     "execution_count": 26,
     "metadata": {},
     "output_type": "execute_result"
    }
   ],
   "source": [
    "# The train and val subjects from fold 0\n",
    "tr_subjs = results.train_subjects[0]\n",
    "val_subjs = results.val_subjects[0]\n",
    "\n",
    "# An object specifying just site 29's subjects\n",
    "site29 = bp.ValueSubset('Site', 29, decode_values=True)\n",
    "\n",
    "# Get the intersection w/ intersection obj\n",
    "site_29_tr = bp.Intersection([tr_subjs, site29])\n",
    "site_29_val = bp.Intersection([val_subjs, site29])\n",
    "\n",
    "# Plot\n",
    "data.plot_bivar('Site', 'Dependent any drug', subjects=bp.Intersection([tr_subjs, site29]))\n",
    "data.plot_bivar('Site', 'Dependent any drug', subjects=bp.Intersection([val_subjs, site29]))\n",
    "\n",
    "# Grab just the subjects as actual index\n",
    "val_subjs = data.get_subjects(site_29_val)\n",
    "\n",
    "# Get a dataframe with the predictions made for just fold0\n",
    "preds_df_fold0 = results.get_preds_dfs()[0]\n",
    "\n",
    "# Let's see predictions for just these validation subjects\n",
    "preds_df_fold0.loc[val_subjs]"
   ]
  },
  {
   "cell_type": "markdown",
   "metadata": {},
   "source": [
    "We can see that it has learned to just predict 0 for every subject, which because of the imbalance is right most of the time, but really doesn't tell us if it has learned to predict site or substance dependence."
   ]
  },
  {
   "cell_type": "markdown",
   "metadata": {},
   "source": [
    "### Drop imbalanced subjects\n",
    "The last option was just don't use the imbalanced subjects at all. We will do this by indexing only the balanced sites"
   ]
  },
  {
   "cell_type": "code",
   "execution_count": 27,
   "metadata": {},
   "outputs": [],
   "source": [
    "# Note the ~ before the previously defined is_imbalanced\n",
    "balanced_sites = np.flatnonzero(~is_imbalanced)\n",
    "\n",
    "# We can specify just these subjects using the ValueSubset wrapper\n",
    "balanced_subjs = bp.ValueSubset('Site', values=balanced_sites, decode_values=False)"
   ]
  },
  {
   "cell_type": "code",
   "execution_count": 28,
   "metadata": {},
   "outputs": [
    {
     "data": {
      "application/vnd.jupyter.widget-view+json": {
       "model_id": "8d17d0d434dd452eb75b6b7019897c19",
       "version_major": 2,
       "version_minor": 0
      },
      "text/plain": [
       "Folds:   0%|          | 0/3 [00:00<?, ?it/s]"
      ]
     },
     "metadata": {},
     "output_type": "display_data"
    },
    {
     "data": {
      "text/plain": [
       "BPtEvaluator\n",
       "------------\n",
       "mean_scores = {'matthews': 0.23079311975258734, 'roc_auc': 0.6494071534373412, 'balanced_accuracy': 0.6141868842892168}\n",
       "std_scores = {'matthews': 0.09467372271946288, 'roc_auc': 0.07189605086562514, 'balanced_accuracy': 0.05165558889230518}\n",
       "\n",
       "Saved Attributes: ['estimators', 'preds', 'timing', 'train_subjects', 'val_subjects', 'feat_names', 'ps', 'mean_scores', 'std_scores', 'weighted_mean_scores', 'scores', 'fis_', 'coef_']\n",
       "\n",
       "Available Methods: ['get_preds_dfs', 'get_fis', 'get_coef_', 'permutation_importance']\n",
       "\n",
       "Evaluated with:\n",
       "ProblemSpec(n_jobs=16, problem_type='binary', scorer={'balanced_accuracy': make_scorer(balanced_accuracy_score), 'matthews': make_scorer(matthews_corrcoef), 'roc_auc': make_scorer(roc_auc_score, needs_threshold=True)}, subjects=Intersection(['train', ValueSubset(name=Site, values=[ 2  3  4  5  6  7 11 12 13 14 16 17 18 19 20 21 22 23 24 25 26 27], decode_values=False)]), target='Dependent any drug')"
      ]
     },
     "execution_count": 28,
     "metadata": {},
     "output_type": "execute_result"
    }
   ],
   "source": [
    "# Evaluate with site preserving cv from earlier but now using just the balanced train subjects\n",
    "train_just_balanced = bp.Intersection(['train', balanced_subjs])\n",
    "\n",
    "results = bp.evaluate(pipeline=pipe, dataset=data,\n",
    "                      subjects=train_just_balanced,\n",
    "                      problem_spec=ps, cv=site_cv)\n",
    "results"
   ]
  },
  {
   "cell_type": "markdown",
   "metadata": {},
   "source": [
    "This actually seems to show that the imbalanced site confound with doesn't just corrupt cross validated results, but also actively impedes the model learning the real relationship. That we are better off just not using subjects with from sites with only cases. Yikes. \n",
    "\n",
    "Likewise, we can do the random split strategy again too."
   ]
  },
  {
   "cell_type": "code",
   "execution_count": 29,
   "metadata": {},
   "outputs": [
    {
     "data": {
      "application/vnd.jupyter.widget-view+json": {
       "model_id": "66a60e3de9a74942965d31bf28c2776e",
       "version_major": 2,
       "version_minor": 0
      },
      "text/plain": [
       "Folds:   0%|          | 0/3 [00:00<?, ?it/s]"
      ]
     },
     "metadata": {},
     "output_type": "display_data"
    },
    {
     "data": {
      "text/plain": [
       "BPtEvaluator\n",
       "------------\n",
       "mean_scores = {'matthews': 0.3099741843096915, 'roc_auc': 0.7185050035507189, 'balanced_accuracy': 0.6557306499974717}\n",
       "std_scores = {'matthews': 0.05501720339208484, 'roc_auc': 0.030948171887409684, 'balanced_accuracy': 0.02748782703232899}\n",
       "\n",
       "Saved Attributes: ['estimators', 'preds', 'timing', 'train_subjects', 'val_subjects', 'feat_names', 'ps', 'mean_scores', 'std_scores', 'weighted_mean_scores', 'scores', 'fis_', 'coef_']\n",
       "\n",
       "Available Methods: ['get_preds_dfs', 'get_fis', 'get_coef_', 'permutation_importance']\n",
       "\n",
       "Evaluated with:\n",
       "ProblemSpec(n_jobs=16, problem_type='binary', scorer={'balanced_accuracy': make_scorer(balanced_accuracy_score), 'matthews': make_scorer(matthews_corrcoef), 'roc_auc': make_scorer(roc_auc_score, needs_threshold=True)}, subjects=Intersection(['train', ValueSubset(name=Site, values=[ 2  3  4  5  6  7 11 12 13 14 16 17 18 19 20 21 22 23 24 25 26 27], decode_values=False)]), target='Dependent any drug')"
      ]
     },
     "execution_count": 29,
     "metadata": {},
     "output_type": "execute_result"
    }
   ],
   "source": [
    "results = bp.evaluate(pipeline=pipe, dataset=data,\n",
    "                      subjects=train_just_balanced,\n",
    "                      problem_spec=ps, cv=bp.CV(splits=3))\n",
    "results"
   ]
  },
  {
   "cell_type": "markdown",
   "metadata": {},
   "source": [
    "Also, we could run it with a leave-out-site CV. Now we can use the normal metrics."
   ]
  },
  {
   "cell_type": "code",
   "execution_count": 30,
   "metadata": {},
   "outputs": [
    {
     "data": {
      "application/vnd.jupyter.widget-view+json": {
       "model_id": "165db5b66d3d424da2e0badb0a3d019a",
       "version_major": 2,
       "version_minor": 0
      },
      "text/plain": [
       "Folds:   0%|          | 0/17 [00:00<?, ?it/s]"
      ]
     },
     "metadata": {},
     "output_type": "display_data"
    },
    {
     "name": "stderr",
     "output_type": "stream",
     "text": [
      "/home/sage/anaconda3/envs/bpt/lib/python3.9/site-packages/sklearn/metrics/_classification.py:870: RuntimeWarning: invalid value encountered in double_scalars\n",
      "  mcc = cov_ytyp / np.sqrt(cov_ytyt * cov_ypyp)\n"
     ]
    },
    {
     "data": {
      "text/plain": [
       "BPtEvaluator\n",
       "------------\n",
       "mean_scores = {'matthews': 0.14755625865911742, 'roc_auc': 0.6060559623948263, 'balanced_accuracy': 0.5636346829506975}\n",
       "std_scores = {'matthews': 0.17026794856315272, 'roc_auc': 0.12014100381868857, 'balanced_accuracy': 0.076467544201846}\n",
       "\n",
       "Saved Attributes: ['estimators', 'preds', 'timing', 'train_subjects', 'val_subjects', 'feat_names', 'ps', 'mean_scores', 'std_scores', 'weighted_mean_scores', 'scores', 'fis_', 'coef_']\n",
       "\n",
       "Available Methods: ['get_preds_dfs', 'get_fis', 'get_coef_', 'permutation_importance']\n",
       "\n",
       "Evaluated with:\n",
       "ProblemSpec(n_jobs=16, problem_type='binary', scorer={'balanced_accuracy': make_scorer(balanced_accuracy_score), 'matthews': make_scorer(matthews_corrcoef), 'roc_auc': make_scorer(roc_auc_score, needs_threshold=True)}, subjects=Intersection(['train', ValueSubset(name=Site, values=[ 2  3  4  5  6  7 11 12 13 14 16 17 18 19 20 21 22 23 24 25 26 27], decode_values=False)]), target='Dependent any drug')"
      ]
     },
     "execution_count": 30,
     "metadata": {},
     "output_type": "execute_result"
    }
   ],
   "source": [
    "results = bp.evaluate(pipeline=pipe, dataset=data,\n",
    "                      subjects=train_just_balanced,\n",
    "                      problem_spec=ps, cv=leave_out_site_cv)\n",
    "results"
   ]
  },
  {
   "cell_type": "markdown",
   "metadata": {},
   "source": [
    "### Results Summary\n",
    "\n",
    "To summarize, of all of the above different iterations. Only the results from the versions where subjects from case-only sites are treated as train-only or dropped and evaluated group-preserving by site are likely un-biased! The leave-out-site CV results should be okay too, but let's skip those for now.\n",
    "\n",
    "Train Only Scores:\n",
    "mean_scores = {'matthews': 0.024294039432900597, 'roc_auc': 0.5292721521624003, 'balanced_accuracy': 0.5116503104881627}\n",
    "\n",
    "Dropped Scores:\n",
    "mean_scores = {'matthews': 0.23079311975258734, 'roc_auc': 0.6494071534373412, 'balanced_accuracy': 0.6141868842892168}\n",
    "\n",
    "By these interm results we can with some confidence conclude dropping subjects is the way to go, unless we want to dig deeper..."
   ]
  },
  {
   "cell_type": "markdown",
   "metadata": {},
   "source": [
    "### Disentangle Target and Site?\n",
    "\n",
    "Can information on dependance from case-only sites be some how disentangled from site?\n",
    "\n",
    "This actually leads to a follow up a question. Namely is there any way to extract usable information from case-only site subjects? This question I actually investigated more deeply in https://onlinelibrary.wiley.com/doi/full/10.1002/hbm.25248 The idea of train-only subjects is actually from this paper, though it still has some important differences then the way we formulated it. \n",
    "\n",
    "The key piece in the paper which we haven't tried to do yet is centered around the problem of the classifier learning site related information instead of dependence related information in the train-only setup. We essentially need a way of forcing the classifier to learn this. The way proposed in the paper proposes that maybe we can by restricting the features provided to the classifier, give it only features related to dependence and not those related to site. In order to do this, we need to add a feature selection step.\n",
    "\n",
    "There are different ways to compose the problem, but we will specify the feature selection step as a seperate layer of nesting, importantly one that is evaluated according to the same site_cv_tr_only that we will be evaluating with. Remember the goal here is to select features which help us learn to predict useful information from case only sites, i.e., with feature only related to Dependence and not site!"
   ]
  },
  {
   "cell_type": "code",
   "execution_count": 31,
   "metadata": {},
   "outputs": [],
   "source": [
    "# Same imputer and scaler\n",
    "imputers = [bp.Imputer(obj='mean', scope='float'),\n",
    "            bp.Imputer(obj='median', scope='category')]\n",
    "scaler = bp.Scaler('standard')\n",
    "\n",
    "# This object will be used to set features as an array of binary hyper-parameters\n",
    "feat_selector = bp.FeatSelector('selector', params=1)\n",
    "\n",
    "# This param search is responsible for optimizing the selected features from feat_selector\n",
    "param_search = bp.ParamSearch('RandomSearch',\n",
    "                              n_iter=16,\n",
    "                              cv=site_cv_tr_only)\n",
    "\n",
    "# We create a nested elastic net model to optimize - no particular CV should be okay\n",
    "random_search = bp.ParamSearch('RandomSearch', n_iter=16)\n",
    "elastic_search = bp.Model('elastic', params=1,\n",
    "                          param_search=random_search)\n",
    "\n",
    "# Put it all together in a pipeline\n",
    "fs_pipe = bp.Pipeline(imputers + [scaler, feat_selector, elastic_search],\n",
    "                      param_search=param_search)"
   ]
  },
  {
   "cell_type": "markdown",
   "metadata": {},
   "source": [
    "Note: This may take a while to evaluate as we now have two levels of parameters to optimize, e.g., for each choice\n",
    "of features, we need to train a nested elastic net."
   ]
  },
  {
   "cell_type": "code",
   "execution_count": 32,
   "metadata": {},
   "outputs": [
    {
     "data": {
      "application/vnd.jupyter.widget-view+json": {
       "model_id": "f1f8a66a76bc4caca6e291375574ebbd",
       "version_major": 2,
       "version_minor": 0
      },
      "text/plain": [
       "Folds:   0%|          | 0/3 [00:00<?, ?it/s]"
      ]
     },
     "metadata": {},
     "output_type": "display_data"
    },
    {
     "data": {
      "text/plain": [
       "BPtEvaluator\n",
       "------------\n",
       "mean_scores = {'matthews': 0.02346740168044174, 'roc_auc': 0.4992373334460878, 'balanced_accuracy': 0.511308005873143}\n",
       "std_scores = {'matthews': 0.09763704971436771, 'roc_auc': 0.06654364664577839, 'balanced_accuracy': 0.04908589456453536}\n",
       "\n",
       "Saved Attributes: ['estimators', 'preds', 'timing', 'train_subjects', 'val_subjects', 'feat_names', 'ps', 'mean_scores', 'std_scores', 'weighted_mean_scores', 'scores']\n",
       "\n",
       "Available Methods: ['get_preds_dfs', 'permutation_importance']\n",
       "\n",
       "Evaluated with:\n",
       "ProblemSpec(n_jobs=16, problem_type='binary', scorer={'balanced_accuracy': make_scorer(balanced_accuracy_score), 'matthews': make_scorer(matthews_corrcoef), 'roc_auc': make_scorer(roc_auc_score, needs_threshold=True)}, subjects='train', target='Dependent any drug')"
      ]
     },
     "execution_count": 32,
     "metadata": {},
     "output_type": "execute_result"
    }
   ],
   "source": [
    "results = bp.evaluate(pipeline=fs_pipe, dataset=data,\n",
    "                      problem_spec=ps, cv=site_cv_tr_only)\n",
    "results"
   ]
  },
  {
   "cell_type": "markdown",
   "metadata": {},
   "source": [
    "Unfortunetly this doesn't seem to work. Notably we still arn't quite following the method from the paper, which performs a meta-analysis on the results from the feature search to find overlapping subsets of features. As of the time of writing this example, a simmilar strategy has not been able to be easily integrated into BPt.\n",
    "\n",
    "The above method still has a few problems, one being severe overfitting. Namely, because a number of subjects are reserved in train-only roles, the same small number of subjects are being used over and over in cross-validation. \n",
    "\n",
    "We can confirm this intutiton by comparing the best score achieved internally for each set of features w/ how they score in the outer cross validation."
   ]
  },
  {
   "cell_type": "code",
   "execution_count": 33,
   "metadata": {},
   "outputs": [
    {
     "data": {
      "text/plain": [
       "(0.034082343012732844, 0.1394079745869329)"
      ]
     },
     "execution_count": 33,
     "metadata": {},
     "output_type": "execute_result"
    }
   ],
   "source": [
    "-results.estimators[0].best_score_, results.scores['matthews'][0]"
   ]
  },
  {
   "cell_type": "code",
   "execution_count": 34,
   "metadata": {},
   "outputs": [
    {
     "data": {
      "text/plain": [
       "(0.15037612204051184, -0.09944769119313912)"
      ]
     },
     "execution_count": 34,
     "metadata": {},
     "output_type": "execute_result"
    }
   ],
   "source": [
    "-results.estimators[1].best_score_, results.scores['matthews'][1]"
   ]
  },
  {
   "cell_type": "code",
   "execution_count": 35,
   "metadata": {},
   "outputs": [
    {
     "data": {
      "text/plain": [
       "(0.10307484584144071, 0.030441921647531428)"
      ]
     },
     "execution_count": 35,
     "metadata": {},
     "output_type": "execute_result"
    }
   ],
   "source": [
    "-results.estimators[2].best_score_, results.scores['matthews'][2]"
   ]
  },
  {
   "cell_type": "markdown",
   "metadata": {},
   "source": [
    "These values are quite different to say the least. Part of the problem again is that such a small amount of data is being used to determine generalization. What if instead of a the 3-fold group preserving train only feature selection CV, we instead used a leave-out-site scheme on site with train only? I doubt it will help, but let's see..."
   ]
  },
  {
   "cell_type": "code",
   "execution_count": 36,
   "metadata": {},
   "outputs": [
    {
     "data": {
      "application/vnd.jupyter.widget-view+json": {
       "model_id": "c054d65a6bf74615b7f4c680cff13e18",
       "version_major": 2,
       "version_minor": 0
      },
      "text/plain": [
       "Folds:   0%|          | 0/3 [00:00<?, ?it/s]"
      ]
     },
     "metadata": {},
     "output_type": "display_data"
    },
    {
     "data": {
      "text/plain": [
       "BPtEvaluator\n",
       "------------\n",
       "mean_scores = {'matthews': 0.03667173630581328, 'roc_auc': 0.5248868808677055, 'balanced_accuracy': 0.5178404766273731}\n",
       "std_scores = {'matthews': 0.11389312167894736, 'roc_auc': 0.06057589628452694, 'balanced_accuracy': 0.05676567744096608}\n",
       "\n",
       "Saved Attributes: ['estimators', 'preds', 'timing', 'train_subjects', 'val_subjects', 'feat_names', 'ps', 'mean_scores', 'std_scores', 'weighted_mean_scores', 'scores']\n",
       "\n",
       "Available Methods: ['get_preds_dfs', 'permutation_importance']\n",
       "\n",
       "Evaluated with:\n",
       "ProblemSpec(n_jobs=16, problem_type='binary', scorer={'balanced_accuracy': make_scorer(balanced_accuracy_score), 'matthews': make_scorer(matthews_corrcoef), 'roc_auc': make_scorer(roc_auc_score, needs_threshold=True)}, subjects='train', target='Dependent any drug')"
      ]
     },
     "execution_count": 36,
     "metadata": {},
     "output_type": "execute_result"
    }
   ],
   "source": [
    "leave_out_site_tr_only_cv = bp.CV(splits='Site',\n",
    "                                  train_only_subjects=imbalanced_subjs)\n",
    "\n",
    "fs_pipe.param_search = bp.ParamSearch(\n",
    "    'RandomSearch', n_iter=16,\n",
    "    cv=leave_out_site_tr_only_cv)\n",
    "\n",
    "results = bp.evaluate(pipeline=fs_pipe, dataset=data,\n",
    "                      problem_spec=ps, cv=site_cv_tr_only)\n",
    "results"
   ]
  },
  {
   "cell_type": "markdown",
   "metadata": {},
   "source": [
    "This does a little better. But only slightly. What if we also used this leave-out site strategy for the outer loop? This would be to address the issue that the outer CV has the same problem as the inner, where the validation set is overly specific and small in some folds."
   ]
  },
  {
   "cell_type": "code",
   "execution_count": 37,
   "metadata": {
    "scrolled": false
   },
   "outputs": [
    {
     "name": "stdout",
     "output_type": "stream",
     "text": [
      "Predicting target = Dependent any drug\n",
      "Using problem_type = binary\n",
      "Using scope = all defining an initial total of 163 features.\n",
      "Evaluating 2379 total data points.\n"
     ]
    },
    {
     "data": {
      "application/vnd.jupyter.widget-view+json": {
       "model_id": "59378c11530a4015ae9f61b0ed7afc25",
       "version_major": 2,
       "version_minor": 0
      },
      "text/plain": [
       "Folds:   0%|          | 0/17 [00:00<?, ?it/s]"
      ]
     },
     "metadata": {},
     "output_type": "display_data"
    },
    {
     "name": "stdout",
     "output_type": "stream",
     "text": [
      "Train shape = (2082, 163) (number of data points x number of feature)\n",
      "Val shape = (297, 163) (number of data points x number of feature)\n",
      "Fit fold in 433.108 seconds.\n",
      "matthews: 0.27971196025033845\n",
      "roc_auc: 0.6950904392764857\n",
      "balanced_accuracy: 0.6410575858250277\n",
      "Train shape = (2338, 163) (number of data points x number of feature)\n",
      "Val shape = (41, 163) (number of data points x number of feature)\n",
      "Fit fold in 488.837 seconds.\n",
      "matthews: 0.0\n",
      "roc_auc: 0.4492753623188406\n",
      "balanced_accuracy: 0.5\n",
      "Train shape = (2345, 163) (number of data points x number of feature)\n",
      "Val shape = (34, 163) (number of data points x number of feature)\n"
     ]
    },
    {
     "name": "stderr",
     "output_type": "stream",
     "text": [
      "/home/sage/anaconda3/envs/bpt/lib/python3.9/site-packages/sklearn/metrics/_classification.py:870: RuntimeWarning: invalid value encountered in double_scalars\n",
      "  mcc = cov_ytyp / np.sqrt(cov_ytyt * cov_ypyp)\n"
     ]
    },
    {
     "name": "stdout",
     "output_type": "stream",
     "text": [
      "Fit fold in 448.277 seconds.\n",
      "matthews: -0.1604088343952626\n",
      "roc_auc: 0.46315789473684216\n",
      "balanced_accuracy: 0.42280701754385963\n",
      "Train shape = (2338, 163) (number of data points x number of feature)\n",
      "Val shape = (41, 163) (number of data points x number of feature)\n",
      "Fit fold in 470.407 seconds.\n",
      "matthews: -0.019138755980861243\n",
      "roc_auc: 0.47368421052631576\n",
      "balanced_accuracy: 0.49043062200956933\n",
      "Train shape = (2327, 163) (number of data points x number of feature)\n",
      "Val shape = (52, 163) (number of data points x number of feature)\n",
      "Fit fold in 448.843 seconds.\n",
      "matthews: 0.3354656500760583\n",
      "roc_auc: 0.6979166666666666\n",
      "balanced_accuracy: 0.6636904761904762\n",
      "Train shape = (2009, 163) (number of data points x number of feature)\n",
      "Val shape = (370, 163) (number of data points x number of feature)\n",
      "Fit fold in 437.145 seconds.\n",
      "matthews: 0.020177568979434148\n",
      "roc_auc: 0.49300137342567435\n",
      "balanced_accuracy: 0.5099646415943426\n",
      "Train shape = (2308, 163) (number of data points x number of feature)\n",
      "Val shape = (71, 163) (number of data points x number of feature)\n",
      "Fit fold in 451.353 seconds.\n",
      "matthews: 0.0\n",
      "roc_auc: 0.5223285486443381\n",
      "balanced_accuracy: 0.5\n",
      "Train shape = (2319, 163) (number of data points x number of feature)\n",
      "Val shape = (60, 163) (number of data points x number of feature)\n"
     ]
    },
    {
     "name": "stderr",
     "output_type": "stream",
     "text": [
      "/home/sage/anaconda3/envs/bpt/lib/python3.9/site-packages/sklearn/metrics/_classification.py:870: RuntimeWarning: invalid value encountered in double_scalars\n",
      "  mcc = cov_ytyp / np.sqrt(cov_ytyt * cov_ypyp)\n"
     ]
    },
    {
     "name": "stdout",
     "output_type": "stream",
     "text": [
      "Fit fold in 454.574 seconds.\n",
      "matthews: -0.12598815766974242\n",
      "roc_auc: 0.5039682539682541\n",
      "balanced_accuracy: 0.44047619047619047\n",
      "Train shape = (2313, 163) (number of data points x number of feature)\n",
      "Val shape = (66, 163) (number of data points x number of feature)\n",
      "Fit fold in 458.078 seconds.\n",
      "matthews: 0.053121271525973054\n",
      "roc_auc: 0.5089947089947089\n",
      "balanced_accuracy: 0.5253968253968253\n",
      "Train shape = (2310, 163) (number of data points x number of feature)\n",
      "Val shape = (69, 163) (number of data points x number of feature)\n",
      "Fit fold in 452.421 seconds.\n",
      "matthews: 0.2622746101092192\n",
      "roc_auc: 0.6256366723259762\n",
      "balanced_accuracy: 0.6294567062818336\n",
      "Train shape = (2242, 163) (number of data points x number of feature)\n",
      "Val shape = (137, 163) (number of data points x number of feature)\n",
      "Fit fold in 442.038 seconds.\n",
      "matthews: -0.11597093720775255\n",
      "roc_auc: 0.5342528735632184\n",
      "balanced_accuracy: 0.4574712643678161\n",
      "Train shape = (2338, 163) (number of data points x number of feature)\n",
      "Val shape = (41, 163) (number of data points x number of feature)\n",
      "Fit fold in 456.392 seconds.\n",
      "matthews: 0.2313602894352951\n",
      "roc_auc: 0.6515151515151514\n",
      "balanced_accuracy: 0.6257575757575757\n",
      "Train shape = (2352, 163) (number of data points x number of feature)\n",
      "Val shape = (27, 163) (number of data points x number of feature)\n",
      "Fit fold in 462.279 seconds.\n",
      "matthews: -0.12507270025494252\n",
      "roc_auc: 0.37912087912087916\n",
      "balanced_accuracy: 0.43956043956043955\n",
      "Train shape = (2301, 163) (number of data points x number of feature)\n",
      "Val shape = (78, 163) (number of data points x number of feature)\n",
      "Fit fold in 453.980 seconds.\n",
      "matthews: 0.12403989506994083\n",
      "roc_auc: 0.5671052631578948\n",
      "balanced_accuracy: 0.5565789473684211\n",
      "Train shape = (2279, 163) (number of data points x number of feature)\n",
      "Val shape = (100, 163) (number of data points x number of feature)\n",
      "Fit fold in 442.766 seconds.\n",
      "matthews: 0.06294058066909786\n",
      "roc_auc: 0.4231578947368421\n",
      "balanced_accuracy: 0.5368421052631579\n",
      "Train shape = (2320, 163) (number of data points x number of feature)\n",
      "Val shape = (59, 163) (number of data points x number of feature)\n",
      "Fit fold in 450.422 seconds.\n",
      "matthews: -0.005703586973049607\n",
      "roc_auc: 0.48160919540229885\n",
      "balanced_accuracy: 0.4982758620689655\n",
      "Train shape = (2345, 163) (number of data points x number of feature)\n",
      "Val shape = (34, 163) (number of data points x number of feature)\n",
      "Fit fold in 460.327 seconds.\n",
      "matthews: 0.10213764617139019\n",
      "roc_auc: 0.6423611111111112\n",
      "balanced_accuracy: 0.5451388888888888\n"
     ]
    },
    {
     "data": {
      "text/plain": [
       "BPtEvaluator\n",
       "------------\n",
       "mean_scores = {'matthews': 0.05405567645912566, 'roc_auc': 0.5360103823230292, 'balanced_accuracy': 0.5284061852113758}\n",
       "std_scores = {'matthews': 0.14703361948297453, 'roc_auc': 0.0926704447511229, 'balanced_accuracy': 0.07192589246275141}\n",
       "\n",
       "Saved Attributes: ['estimators', 'preds', 'timing', 'train_subjects', 'val_subjects', 'feat_names', 'ps', 'mean_scores', 'std_scores', 'weighted_mean_scores', 'scores']\n",
       "\n",
       "Available Methods: ['get_preds_dfs', 'permutation_importance']\n",
       "\n",
       "Evaluated with:\n",
       "ProblemSpec(n_jobs=16, problem_type='binary', scorer={'balanced_accuracy': make_scorer(balanced_accuracy_score), 'matthews': make_scorer(matthews_corrcoef), 'roc_auc': make_scorer(roc_auc_score, needs_threshold=True)}, subjects='train', target='Dependent any drug')"
      ]
     },
     "execution_count": 37,
     "metadata": {},
     "output_type": "execute_result"
    }
   ],
   "source": [
    "results = bp.evaluate(pipeline=fs_pipe,\n",
    "                      dataset=data,\n",
    "                      problem_spec=ps,\n",
    "                      cv=leave_out_site_tr_only_cv,\n",
    "                      eval_verbose=1)\n",
    "results"
   ]
  },
  {
   "cell_type": "markdown",
   "metadata": {},
   "source": [
    "Seeing the results for each site seperately with the verbose option really makes some of the problem clear, namely that a number of small sites don't seem to generalize well. This is simmilar to what we saw in the case of using leave-out-site with case-only subjects dropped, where we had a huge std in roc auc between folds.\n",
    "\n",
    "Another potential problem with doing leave-out-site is that the way the underlying data was collected, different sites will have subjects with dependence to different substances. This can certainly cause issues, as say our classifier only learns to classify alcohol dependence (the strongest signal), then it will do poorly on sites for other substances. Which is good in one way, that it lets us know the classifier is not generalizing, but it doesn't solve the generalization problem.\n",
    "\n",
    "Anyways, that will end this example for now. Leaving the problem of how to best exploit information from case-only sites as an open question (though if interested, a more faithful reproduction of the method presented in https://onlinelibrary.wiley.com/doi/full/10.1002/hbm.25248 might prove to be fruitful. Specifically, in the end only using a few, maybe 3-4, features, which is notably quite different then what we are trying above, i.e., trying just 16 random sets of features)."
   ]
  }
 ],
 "metadata": {
  "kernelspec": {
   "display_name": "Python 3.9.1 64-bit ('bpt': conda)",
   "language": "python",
   "name": "python39164bitbptconda7805b3f5d58e4b658b79cb94739371e6"
  },
  "language_info": {
   "codemirror_mode": {
    "name": "ipython",
    "version": 3
   },
   "file_extension": ".py",
   "mimetype": "text/x-python",
   "name": "python",
   "nbconvert_exporter": "python",
   "pygments_lexer": "ipython3",
   "version": "3.9.1"
  }
 },
 "nbformat": 4,
 "nbformat_minor": 4
}
