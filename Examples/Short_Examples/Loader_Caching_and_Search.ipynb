{
 "cells": [
  {
   "cell_type": "code",
   "execution_count": 1,
   "metadata": {},
   "outputs": [],
   "source": [
    "from BPt import BPt_ML, ProblemSpec, ParamSearch, Loader, Pipe, Model, \n",
    "import nibabel as nib\n",
    "import numpy as np\n",
    "import pandas as pd\n",
    "import os\n",
    "import nevergrad as ng\n",
    "from BPt.extensions import SurfLabels, SingleConnectivityMeasure, ThresholdNetworkMeasures"
   ]
  },
  {
   "cell_type": "code",
   "execution_count": 2,
   "metadata": {},
   "outputs": [
    {
     "name": "stderr",
     "output_type": "stream",
     "text": [
      "INFO:numexpr.utils:Note: NumExpr detected 16 cores but \"NUMEXPR_MAX_THREADS\" not set, so enforcing safe limit of 8.\n",
      "INFO:numexpr.utils:NumExpr defaulting to 8 threads.\n"
     ]
    }
   ],
   "source": [
    "def my_load_func(loc):\n",
    "    data = pd.read_csv(loc, sep='\\t', header=None)\n",
    "    data=data.drop(data.columns[0], axis=1)\n",
    "    return np.array(data)\n",
    "\n",
    "def file_to_subject_func(file):\n",
    "    subject = file.split('/')[-1].split('_')[0]\n",
    "    return subject\n",
    "\n",
    "ML = BPt_ML(log_dr=None, verbose=False)\n",
    "\n",
    "# This is data from the developing Human Connectome Project\n",
    "# the text files represent derived SST volumetric timeseries ROIs\n",
    "data_loc = '/home/sage/Downloads/TS/'\n",
    "files = {'run1': [os.path.join(data_loc, f) for f in os.listdir(data_loc) if '_01.txt' in f]}\n",
    "\n",
    "file_to_subject = file_to_subject_func\n",
    "\n",
    "ML.Load_Data_Files(files = files,\n",
    "                   file_to_subject = file_to_subject,\n",
    "                   clear_existing=True,\n",
    "                   load_func=my_load_func)\n",
    "\n",
    "copy = ML.data.copy()\n",
    "copy['target'] = np.random.random(len(ML.data))\n",
    "\n",
    "ML.Load_Targets(df=copy,\n",
    "                col_name=['target'],\n",
    "                data_type='f',\n",
    "                clear_existing=True)\n",
    "\n",
    "ML.Train_Test_Split(test_size=0.1)"
   ]
  },
  {
   "cell_type": "code",
   "execution_count": 3,
   "metadata": {},
   "outputs": [
    {
     "name": "stdout",
     "output_type": "stream",
     "text": [
      "Passed default imputers, setting to: [Imputer(obj='mean', scope='float'), Imputer(obj='median', scope='cat')]\n"
     ]
    },
    {
     "data": {
      "application/vnd.jupyter.widget-view+json": {
       "model_id": "08808741320142a9ab716c25d5a74da0",
       "version_major": 2,
       "version_minor": 0
      },
      "text/plain": [
       "HBox(children=(HTML(value='Repeats'), FloatProgress(value=0.0, max=1.0), HTML(value='')))"
      ]
     },
     "metadata": {},
     "output_type": "display_data"
    },
    {
     "data": {
      "application/vnd.jupyter.widget-view+json": {
       "model_id": "9fd0c0bb11fb41c2b266293cb876301b",
       "version_major": 2,
       "version_minor": 0
      },
      "text/plain": [
       "HBox(children=(HTML(value='Folds'), FloatProgress(value=0.0, max=2.0), HTML(value='')))"
      ]
     },
     "metadata": {},
     "output_type": "display_data"
    },
    {
     "name": "stdout",
     "output_type": "stream",
     "text": [
      "\n",
      "\n"
     ]
    }
   ],
   "source": [
    "problem_spec = ProblemSpec(problem_type = 'regression',\n",
    "                            n_jobs=16, random_state=2)\n",
    "\n",
    "connectivity = SingleConnectivityMeasure(vectorize=False, kind='correlation', discard_diagonal=True)\n",
    "\n",
    "nets_params= {'threshold': ng.p.Choice([.1,.2,.3,.4,.5,.6,.7,.8,.9])}\n",
    "\n",
    "nets = ThresholdNetworkMeasures(threshold=.1,\n",
    "                threshold_method='density',\n",
    "                to_compute=['avg_degree','avg_cluster'])\n",
    "\n",
    "loader = Loader(obj = Pipe([connectivity, nets]),\n",
    "                params = [0, nets_params],\n",
    "                cache_loc = '/home/sage/test')\n",
    "\n",
    "dt = Model('dt regressor', params=1)\n",
    "\n",
    "search=ParamSearch(search_type='RandomSearch', n_iter=10)\n",
    "\n",
    "model_pipeline = (loaders=loader,\n",
    "                                scalers=None,\n",
    "                                model=dt,\n",
    "                                param_search=search)\n",
    "\n",
    "results = ML.Evaluate(model_pipeline, problem_spec, n_repeats=1, splits=2)"
   ]
  },
  {
   "cell_type": "code",
   "execution_count": null,
   "metadata": {},
   "outputs": [],
   "source": []
  }
 ],
 "metadata": {
  "kernelspec": {
   "display_name": "Python 3.7.6 64-bit ('home': conda)",
   "language": "python",
   "name": "python37664bithomeconda2aade2e1d0ce4797afe91f4891a59d68"
  },
  "language_info": {
   "codemirror_mode": {
    "name": "ipython",
    "version": 3
   },
   "file_extension": ".py",
   "mimetype": "text/x-python",
   "name": "python",
   "nbconvert_exporter": "python",
   "pygments_lexer": "ipython3",
   "version": "3.7.6"
  }
 },
 "nbformat": 4,
 "nbformat_minor": 4
}
