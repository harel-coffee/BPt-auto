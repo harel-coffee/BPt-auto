{
 "cells": [
  {
   "cell_type": "markdown",
   "metadata": {},
   "source": [
    "This notebook is designed to explore some interesting features avaliable through BPt, specifically loading Data_Files and using custom loaders.\n",
    "\n",
    "This example will require some extra optional libraries, including nibabel and nilearn! Note: while nilearn is not imported, when trying to import SingleConnectivityMeasure, if nilearn is not installed, this will give an ImportError.\n",
    "\n",
    "We will also use fake data for this example - so no special datasets required!"
   ]
  },
  {
   "cell_type": "code",
   "execution_count": 1,
   "metadata": {},
   "outputs": [],
   "source": [
    "from BPt import BPt_ML\n",
    "import nibabel as nib\n",
    "import numpy as np\n",
    "import pandas as pd\n",
    "import os"
   ]
  },
  {
   "cell_type": "markdown",
   "metadata": {},
   "source": [
    "## Let's start by saving some fake surface time-series data, and also some fake just surface data."
   ]
  },
  {
   "cell_type": "code",
   "execution_count": 2,
   "metadata": {},
   "outputs": [],
   "source": [
    "X = np.random.random(size = (20, 100, 10242))\n",
    "os.makedirs('fake_time_data', exist_ok=True)\n",
    "\n",
    "for x in range(len(X)):\n",
    "    np.save('fake_time_data/' + str(x) + '_lh', X[x])\n",
    "for x in range(len(X)):\n",
    "    np.save('fake_time_data/' + str(x) + '_rh', X[x])\n",
    "    \n",
    "X = np.random.random(size = (20, 10242))\n",
    "os.makedirs('fake_surf_data', exist_ok=True)\n",
    "\n",
    "for x in range(len(X)):\n",
    "    np.save('fake_surf_data/' + str(x) + '_lh', X[x])\n",
    "for x in range(len(X)):\n",
    "    np.save('fake_surf_data/' + str(x) + '_rh', X[x])"
   ]
  },
  {
   "cell_type": "markdown",
   "metadata": {},
   "source": [
    "### In this expiriment we will load both the timeseries and the just surface data"
   ]
  },
  {
   "cell_type": "code",
   "execution_count": 3,
   "metadata": {},
   "outputs": [
    {
     "name": "stderr",
     "output_type": "stream",
     "text": [
      "INFO:numexpr.utils:Note: NumExpr detected 16 cores but \"NUMEXPR_MAX_THREADS\" not set, so enforcing safe limit of 8.\n",
      "INFO:numexpr.utils:NumExpr defaulting to 8 threads.\n"
     ]
    },
    {
     "name": "stdout",
     "output_type": "stream",
     "text": [
      "exp_name = My_Exp\n",
      "log_dr = None\n",
      "existing_log = append\n",
      "verbose = True\n",
      "exp log dr setup at: None\n",
      "log file at: None\n",
      "Default params set:\n",
      "notebook = True\n",
      "use_abcd_subject_ids = False\n",
      "low memory mode = False\n",
      "strat_u_name = _Strat\n",
      "random state = 534\n",
      "n_jobs = 1\n",
      "dpi = 100\n",
      "mp_context = loky\n",
      "BPt_ML object initialized\n",
      "Setting default load params, as they have not been set!\n",
      "\n",
      "Default load params set within self.default_load_params.\n",
      "----------------------\n",
      "dataset_type: basic\n",
      "subject_id: src_subject_id\n",
      "eventname: None\n",
      "eventname_col: eventname\n",
      "overlap_subjects: False\n",
      "merge: inner\n",
      "na_values: ['777', '999']\n",
      "drop_na: True\n",
      "drop_or_na: drop\n",
      "\n",
      "To change the default load params, call self.Set_Default_Load_Params()\n",
      "\n",
      "Loading from df or files\n",
      "\n",
      "Dropped 1 columns per passed drop_keys argument\n",
      "Loading from df or files\n",
      "Dropped 0 cols for all missing values\n",
      "Dropped 0 rows for missing values, based on the provided drop_na param: True with actual na_thresh: 0\n",
      "Loaded rows with NaN remaining: 0\n",
      "\n",
      "loading: target\n",
      "\n",
      "Loaded Shape: (20, 1)\n",
      "All loaded targets\n",
      "0 : target\n",
      "\n",
      "Loading from df or files\n",
      "Dropped 0 cols for all missing values\n",
      "Dropped 0 rows for missing values, based on the provided drop_na param: True with actual na_thresh: 0\n",
      "Loaded rows with NaN remaining: 0\n",
      "Loaded Shape: (20, 1)\n",
      "Calling Prepare_All_Data() to change the default merge behavior call it again!\n",
      "Preparing final data, in self.all_data\n",
      "Any changes to loaded data, covars or strat will not be included, from now on.\n",
      "\n",
      "Final data (w/ target) for modeling loaded shape: (20, 6)\n",
      "Performing split on 20 subjectsWarning: Test size of 0 passed, all subjects set to train.\n",
      "\n",
      "Performed train test split\n",
      "Train size: 20\n",
      "Test size:  0\n"
     ]
    }
   ],
   "source": [
    "ML = BPt_ML(log_dr=None, verbose=True)\n",
    "\n",
    "timeseries_dr = 'fake_time_data/'\n",
    "files = os.listdir(timeseries_dr)\n",
    "lh_timeseries = [timeseries_dr + f for f in files if '_lh' in f]\n",
    "rh_timeseries = [timeseries_dr + f for f in files if '_rh' in f]\n",
    "\n",
    "surf_dr = 'fake_surf_data/'\n",
    "files = os.listdir(surf_dr)\n",
    "lh_surf = [surf_dr + f for f in files if '_lh' in f]\n",
    "rh_surf = [surf_dr + f for f in files if '_rh' in f]\n",
    "\n",
    "subjects = [str(i) for i in range(20)]\n",
    "\n",
    "df = pd.DataFrame()\n",
    "\n",
    "df['lh_timeseries'] = lh_timeseries\n",
    "df['rh_timeseries'] = rh_timeseries\n",
    "\n",
    "df['lh_surf'] = lh_surf\n",
    "df['rh_surf'] = rh_surf\n",
    "\n",
    "df['src_subject_id'] = subjects\n",
    "df['target'] = np.random.randint(2, size=20)\n",
    "\n",
    "\n",
    "ML.Load_Data_Files(df = df,\n",
    "                   load_func = np.load,\n",
    "                   drop_keys = ['target'])\n",
    "\n",
    "ML.Load_Targets(df = df, col_name='target', data_type='b')\n",
    "ML.Load_Strat(df = df, col_name='target')\n",
    "ML.Train_Test_Split(test_size=0)"
   ]
  },
  {
   "cell_type": "markdown",
   "metadata": {},
   "source": [
    "### This will assume you have some saved parcellations in the relevant space, i.e., we saved fake fsaverage5 surface data, so we will load in the desikan parcellations"
   ]
  },
  {
   "cell_type": "code",
   "execution_count": 4,
   "metadata": {},
   "outputs": [],
   "source": [
    "from BPt.extensions import SurfLabels, SingleConnectivityMeasure, ThresholdNetworkMeasures\n",
    "\n",
    "base = '/home/sage/work/Parcel_Search/Existing_Parcels/'\n",
    "desikan_lh = base + 'lh.aparc.annot'\n",
    "desikan_rh = base + 'rh.aparc.annot'\n",
    "\n",
    "t_surf_rois_lh = SurfLabels(labels = desikan_lh,\n",
    "                            vectorize = False)\n",
    "t_surf_rois_rh = SurfLabels(labels = desikan_rh,\n",
    "                            vectorize = False)\n",
    "\n",
    "connectivity = SingleConnectivityMeasure(vectorize=True, discard_diagonal=False)\n",
    "\n",
    "surf_rois_lh = SurfLabels(labels = desikan_lh)\n",
    "surf_rois_rh = SurfLabels(labels = desikan_rh)"
   ]
  },
  {
   "cell_type": "markdown",
   "metadata": {},
   "source": [
    "### Try just loading the left hemisphere surface data"
   ]
  },
  {
   "cell_type": "code",
   "execution_count": 5,
   "metadata": {},
   "outputs": [
    {
     "name": "stdout",
     "output_type": "stream",
     "text": [
      "Passed default imputers, setting to: [Imputer(obj='mean', scope='float'), Imputer(obj='median', scope='cat')]\n",
      "Model(obj='ridge')\n",
      "Passed default model, setting to: None\n",
      "Warning: Passing feature importances have been moved  to the Evaluate and Test functions!\n",
      "Setting default ML verbosity settings!\n",
      "Note, if the following values are not desired, call self.Set_Default_ML_Verbosity()\n",
      "Default ML verbosity set within self.default_ML_verbosity.\n",
      "----------------------\n",
      "save_results: False\n",
      "progress_bar: True\n",
      "progress_loc: None\n",
      "pipeline_verbose: False\n",
      "compute_train_score: False\n",
      "show_init_params: True\n",
      "fold_name: False\n",
      "time_per_fold: False\n",
      "score_per_fold: False\n",
      "fold_sizes: False\n",
      "best_params: False\n",
      "best_params_score: False\n",
      "save_to_logs: False\n",
      "flush: False\n",
      "\n",
      "problem_spec scorer ==  default, setting as: ['matthews', 'roc_auc', 'balanced_accuracy']\n",
      "\n",
      "--------------\n",
      "loaders=\\\n",
      "Loader(obj=SurfLabels(labels='/home/sage/work/Parcel_Search/Existing_Parcels/lh.aparc.annot'),\n",
      "       scope='lh_surf')\n",
      "\n",
      "feat_selectors=\\\n",
      "Feat_Selector(obj='univariate selection')\n",
      "\n",
      "model=\\\n",
      "Model(obj='ridge')\n",
      "\n",
      "param_search=\\\n",
      "None\n",
      "\n",
      "\n",
      "\n",
      "ProblemSpec\n",
      "------------\n",
      "problem_type = binary\n",
      "target = target\n",
      "scorer = ['matthews', 'roc_auc', 'balanced_accuracy']\n",
      "weight_scorer = False\n",
      "scope = lh_surf\n",
      "subjects = all\n",
      "len(subjects) = 20 (before overlap w/ train/test subjects)\n",
      "n_jobs = 1\n",
      "random_state = 534\n",
      "\n",
      "Evaluate Params\n",
      "---------------\n",
      "splits = 3\n",
      "n_repeats = 2\n",
      "cv = default\n",
      "train_subjects = train\n",
      "feat_importances = Feat_Importance(obj='base', shap_params=None)\n",
      "len(train_subjects) = 20 (before overlap w/ problem_spec.subjects)\n",
      "run_name = ridge\n",
      "\n"
     ]
    },
    {
     "data": {
      "application/vnd.jupyter.widget-view+json": {
       "model_id": "561a179eebfb4b9998091ee9dd21687d",
       "version_major": 2,
       "version_minor": 0
      },
      "text/plain": [
       "HBox(children=(HTML(value='Repeats'), FloatProgress(value=0.0, max=2.0), HTML(value='')))"
      ]
     },
     "metadata": {},
     "output_type": "display_data"
    },
    {
     "data": {
      "application/vnd.jupyter.widget-view+json": {
       "model_id": "7d7a08fa667649ae99ab4a2dd5761d6c",
       "version_major": 2,
       "version_minor": 0
      },
      "text/plain": [
       "HBox(children=(HTML(value='Folds'), FloatProgress(value=0.0, max=3.0), HTML(value='')))"
      ]
     },
     "metadata": {},
     "output_type": "display_data"
    },
    {
     "name": "stderr",
     "output_type": "stream",
     "text": [
      "invalid value encountered in double_scalars\n",
      "invalid value encountered in double_scalars\n",
      "invalid value encountered in double_scalars\n",
      "invalid value encountered in double_scalars\n",
      "invalid value encountered in double_scalars\n"
     ]
    },
    {
     "name": "stdout",
     "output_type": "stream",
     "text": [
      "\n",
      "\n",
      "\n",
      "Validation Scores\n",
      "_________________\n",
      "Scorer:  matthews\n",
      "Mean Validation score:  0.10540925533894598\n",
      "Micro Std in Validation score:  0.23570226039551584\n",
      "Macro Std in Validation score:  0.10540925533894598\n",
      "\n",
      "Scorer:  roc_auc\n",
      "Mean Validation score:  0.75\n",
      "Micro Std in Validation score:  0.2307395517477243\n",
      "Macro Std in Validation score:  0.08333333333333337\n",
      "\n",
      "Scorer:  balanced_accuracy\n",
      "Mean Validation score:  0.5416666666666667\n",
      "Micro Std in Validation score:  0.09316949906249122\n",
      "Macro Std in Validation score:  0.041666666666666685\n",
      "\n"
     ]
    },
    {
     "data": {
      "text/plain": [
       "6"
      ]
     },
     "execution_count": 5,
     "metadata": {},
     "output_type": "execute_result"
    }
   ],
   "source": [
    "from BPt import ProblemSpec, Loader, , Feat_Selector, Feat_Importance\n",
    "\n",
    "problem_spec = ProblemSpec(problem_type = 'binary',\n",
    "                            scope = 'lh_surf')\n",
    "\n",
    "loaders = Loader(surf_rois_lh, scope='lh_surf')\n",
    "\n",
    "model_pipeline = (loaders=loaders,\n",
    "                                feat_selectors=Feat_Selector('univariate selection'),\n",
    "                                feat_importances=Feat_Importance('shap'))\n",
    "\n",
    "results = ML.Evaluate(model_pipeline, problem_spec,\n",
    "                      return_models=True, feat_importances='base')\n",
    "\n",
    "len(results['models'])"
   ]
  },
  {
   "cell_type": "code",
   "execution_count": 6,
   "metadata": {},
   "outputs": [
    {
     "name": "stdout",
     "output_type": "stream",
     "text": [
      "('Custom 0', Loader_Wrapper(background_label=0,\n",
      "               file_mapping={0: <BPt.helpers.DataFile.DataFile object at 0x7fa1eac74050>,\n",
      "                             1: <BPt.helpers.DataFile.DataFile object at 0x7fa1eac74d10>,\n",
      "                             2: <BPt.helpers.DataFile.DataFile object at 0x7fa1eac74cd0>,\n",
      "                             3: <BPt.helpers.DataFile.DataFile object at 0x7fa1eac743d0>,\n",
      "                             4: <BPt.helpers.DataFile.DataFile object at 0x7fa1eac74b50>,\n",
      "                             5: <BPt.helpe...\n",
      "                             28: <BPt.helpers.DataFile.DataFile object at 0x7fa1eac7e250>,\n",
      "                             29: <BPt.helpers.DataFile.DataFile object at 0x7fa1eac7e290>, ...},\n",
      "               labels='/home/sage/work/Parcel_Search/Existing_Parcels/lh.aparc.annot',\n",
      "               mask=None, strategy='mean', vectorize=True, wrapper_inds=[0],\n",
      "               wrapper_transformer=SurfLabels(labels='/home/sage/work/Parcel_Search/Existing_Parcels/lh.aparc.annot')))\n",
      "('feat_univariate selection c', FeatureSelectorWrapper(base_selector=SelectPercentile(percentile=50),\n",
      "                       wrapper_inds=[0]))\n",
      "('ridge logistic', LogisticRegression(max_iter=1000, n_jobs=1, random_state=534, solver='saga'))\n"
     ]
    }
   ],
   "source": [
    "ex_pipe = results['models'][0]\n",
    "for step in ex_pipe.steps:\n",
    "    print(step)"
   ]
  },
  {
   "cell_type": "code",
   "execution_count": 7,
   "metadata": {},
   "outputs": [
    {
     "data": {
      "text/html": [
       "Feature_Importances Object<br>name: base<br>importance type: beta weight <br>Warning! Base pipeline contains either loaders or transformers. Any self.global_df or self.local_df might therefore be incorrect, or atleast hard to make sense of. In this case you should likely use the the inverse feat importances!<br>importance computed on: train<br>"
      ],
      "text/plain": [
       "<BPt.pipeline.Feat_Importances.Feat_Importances at 0x7fa1fcd7d550>"
      ]
     },
     "execution_count": 7,
     "metadata": {},
     "output_type": "execute_result"
    }
   ],
   "source": [
    "results['FIs'][0]"
   ]
  },
  {
   "cell_type": "code",
   "execution_count": 8,
   "metadata": {},
   "outputs": [
    {
     "data": {
      "image/png": "[encoded data removed]",
      "text/plain": [
       "<Figure size 432x288 with 1 Axes>"
      ]
     },
     "metadata": {
      "needs_background": "light"
     },
     "output_type": "display_data"
    }
   ],
   "source": [
    "ML.Plot_Global_Feat_Importances()"
   ]
  },
  {
   "cell_type": "code",
   "execution_count": 9,
   "metadata": {},
   "outputs": [
    {
     "name": "stdout",
     "output_type": "stream",
     "text": [
      "Passed default imputers, setting to: [Imputer(obj='mean', scope='float'), Imputer(obj='median', scope='cat')]\n",
      "Model(obj='ridge')\n",
      "Passed default model, setting to: None\n",
      "Warning: Passing feature importances have been moved  to the Evaluate and Test functions!\n",
      "problem_spec scorer ==  default, setting as: ['matthews', 'roc_auc', 'balanced_accuracy']\n",
      "\n",
      "--------------\n",
      "loaders=\\\n",
      "[Loader(obj=SurfLabels(labels='/home/sage/work/Parcel_Search/Existing_Parcels/lh.aparc.annot'),\n",
      "       scope='lh_surf'),\n",
      " Loader(obj=SurfLabels(labels='/home/sage/work/Parcel_Search/Existing_Parcels/rh.aparc.annot'),\n",
      "       scope='rh_surf')]\n",
      "\n",
      "model=\\\n",
      "Model(obj='ridge')\n",
      "\n",
      "param_search=\\\n",
      "None\n",
      "\n",
      "\n",
      "\n",
      "ProblemSpec\n",
      "------------\n",
      "problem_type = binary\n",
      "target = target\n",
      "scorer = ['matthews', 'roc_auc', 'balanced_accuracy']\n",
      "weight_scorer = False\n",
      "scope = _surf\n",
      "subjects = all\n",
      "len(subjects) = 20 (before overlap w/ train/test subjects)\n",
      "n_jobs = 1\n",
      "random_state = 534\n",
      "\n",
      "Evaluate Params\n",
      "---------------\n",
      "splits = 3\n",
      "n_repeats = 2\n",
      "cv = default\n",
      "train_subjects = train\n",
      "feat_importances = None\n",
      "len(train_subjects) = 20 (before overlap w/ problem_spec.subjects)\n",
      "run_name = ridge\n",
      "\n"
     ]
    },
    {
     "data": {
      "application/vnd.jupyter.widget-view+json": {
       "model_id": "8674f4533e804bcea53721d5c854549e",
       "version_major": 2,
       "version_minor": 0
      },
      "text/plain": [
       "HBox(children=(HTML(value='Repeats'), FloatProgress(value=0.0, max=2.0), HTML(value='')))"
      ]
     },
     "metadata": {},
     "output_type": "display_data"
    },
    {
     "data": {
      "application/vnd.jupyter.widget-view+json": {
       "model_id": "54d593fbcdc1488b8bcf1a59a14ca4a4",
       "version_major": 2,
       "version_minor": 0
      },
      "text/plain": [
       "HBox(children=(HTML(value='Folds'), FloatProgress(value=0.0, max=3.0), HTML(value='')))"
      ]
     },
     "metadata": {},
     "output_type": "display_data"
    },
    {
     "name": "stderr",
     "output_type": "stream",
     "text": [
      "invalid value encountered in double_scalars\n",
      "invalid value encountered in double_scalars\n",
      "invalid value encountered in double_scalars\n",
      "invalid value encountered in double_scalars\n",
      "invalid value encountered in double_scalars\n"
     ]
    },
    {
     "name": "stdout",
     "output_type": "stream",
     "text": [
      "\n",
      "\n",
      "\n",
      "Validation Scores\n",
      "_________________\n",
      "Scorer:  matthews\n",
      "Mean Validation score:  0.0\n",
      "Micro Std in Validation score:  0.0\n",
      "Macro Std in Validation score:  0.0\n",
      "\n",
      "Scorer:  roc_auc\n",
      "Mean Validation score:  0.5990740740740741\n",
      "Micro Std in Validation score:  0.2041346451751103\n",
      "Macro Std in Validation score:  0.12685185185185185\n",
      "\n",
      "Scorer:  balanced_accuracy\n",
      "Mean Validation score:  0.5\n",
      "Micro Std in Validation score:  0.0\n",
      "Macro Std in Validation score:  0.0\n",
      "\n",
      "('Custom 0', Loader_Wrapper(background_label=0,\n",
      "               file_mapping={0: <BPt.helpers.DataFile.DataFile object at 0x7fa1e9d2fe10>,\n",
      "                             1: <BPt.helpers.DataFile.DataFile object at 0x7fa1e9d2fb50>,\n",
      "                             2: <BPt.helpers.DataFile.DataFile object at 0x7fa1e9d2f610>,\n",
      "                             3: <BPt.helpers.DataFile.DataFile object at 0x7fa1e9d2fc50>,\n",
      "                             4: <BPt.helpers.DataFile.DataFile object at 0x7fa1e9d2f750>,\n",
      "                             5: <BPt.helpe...\n",
      "                             28: <BPt.helpers.DataFile.DataFile object at 0x7fa1e9d4ead0>,\n",
      "                             29: <BPt.helpers.DataFile.DataFile object at 0x7fa1e9d4e390>, ...},\n",
      "               labels='/home/sage/work/Parcel_Search/Existing_Parcels/lh.aparc.annot',\n",
      "               mask=None, strategy='mean', vectorize=True, wrapper_inds=[0],\n",
      "               wrapper_transformer=SurfLabels(labels='/home/sage/work/Parcel_Search/Existing_Parcels/lh.aparc.annot')))\n",
      "('Custom 1', Loader_Wrapper(background_label=0,\n",
      "               file_mapping={0: <BPt.helpers.DataFile.DataFile object at 0x7fa1e9db7c10>,\n",
      "                             1: <BPt.helpers.DataFile.DataFile object at 0x7fa1e9db7c50>,\n",
      "                             2: <BPt.helpers.DataFile.DataFile object at 0x7fa1e9db7c90>,\n",
      "                             3: <BPt.helpers.DataFile.DataFile object at 0x7fa1e9db7890>,\n",
      "                             4: <BPt.helpers.DataFile.DataFile object at 0x7fa1e9db7b90>,\n",
      "                             5: <BPt.helpe...\n",
      "                             28: <BPt.helpers.DataFile.DataFile object at 0x7fa1e9def650>,\n",
      "                             29: <BPt.helpers.DataFile.DataFile object at 0x7fa1e9defdd0>, ...},\n",
      "               labels='/home/sage/work/Parcel_Search/Existing_Parcels/rh.aparc.annot',\n",
      "               mask=None, strategy='mean', vectorize=True, wrapper_inds=[1],\n",
      "               wrapper_transformer=SurfLabels(labels='/home/sage/work/Parcel_Search/Existing_Parcels/rh.aparc.annot')))\n",
      "('ridge logistic', LogisticRegression(max_iter=1000, n_jobs=1, random_state=534, solver='saga'))\n"
     ]
    }
   ],
   "source": [
    "problem_spec = ProblemSpec(problem_type = 'binary',\n",
    "                            scope = '_surf')\n",
    "\n",
    "loaders = [Loader(surf_rois_lh, scope='lh_surf'),\n",
    "           Loader(surf_rois_rh, scope='rh_surf')]\n",
    "\n",
    "model_pipeline = (loaders=loaders,\n",
    "                                feat_importances=Feat_Importance('shap'))\n",
    "\n",
    "results = ML.Evaluate(model_pipeline, problem_spec, return_models=True)\n",
    "\n",
    "for step in results['models'][0].steps:\n",
    "    print(step)"
   ]
  },
  {
   "cell_type": "markdown",
   "metadata": {},
   "source": [
    "### Load everything"
   ]
  },
  {
   "cell_type": "code",
   "execution_count": 10,
   "metadata": {
    "scrolled": false
   },
   "outputs": [
    {
     "name": "stdout",
     "output_type": "stream",
     "text": [
      "Passed default imputers, setting to: [Imputer(obj='mean', scope='float'), Imputer(obj='median', scope='cat')]\n",
      "Model(obj='ridge')\n",
      "Passed default model, setting to: None\n",
      "problem_spec scorer ==  default, setting as: ['matthews', 'roc_auc', 'balanced_accuracy']\n",
      "\n",
      "--------------\n",
      "loaders=\\\n",
      "[Loader(obj=SurfLabels(labels='/home/sage/work/Parcel_Search/Existing_Parcels/lh.aparc.annot'),\n",
      "       scope='lh_surf'),\n",
      " Loader(obj=SurfLabels(labels='/home/sage/work/Parcel_Search/Existing_Parcels/rh.aparc.annot'),\n",
      "       scope='rh_surf'),\n",
      " Loader(obj=Pipe([SurfLabels(labels='/home/sage/work/Parcel_Search/Existing_Parcels/lh.aparc.annot',\n",
      "           vectorize=False), SingleConnectivityMeasure(vectorize=True)]),\n",
      "       params=[0, 0], scope='lh_timeseries'),\n",
      " Loader(obj=Pipe([SurfLabels(labels='/home/sage/work/Parcel_Search/Existing_Parcels/rh.aparc.annot',\n",
      "           vectorize=False), SingleConnectivityMeasure(vectorize=True)]),\n",
      "       params=[0, 0], scope='rh_timeseries')]\n",
      "\n",
      "model=\\\n",
      "Model(obj='ridge')\n",
      "\n",
      "param_search=\\\n",
      "None\n",
      "\n",
      "\n",
      "\n",
      "ProblemSpec\n",
      "------------\n",
      "problem_type = binary\n",
      "target = target\n",
      "scorer = ['matthews', 'roc_auc', 'balanced_accuracy']\n",
      "weight_scorer = False\n",
      "scope = all\n",
      "subjects = all\n",
      "len(subjects) = 20 (before overlap w/ train/test subjects)\n",
      "n_jobs = 1\n",
      "random_state = 534\n",
      "\n",
      "Evaluate Params\n",
      "---------------\n",
      "splits = 3\n",
      "n_repeats = 2\n",
      "cv = default\n",
      "train_subjects = train\n",
      "feat_importances = None\n",
      "len(train_subjects) = 20 (before overlap w/ problem_spec.subjects)\n",
      "run_name = ridge\n",
      "\n"
     ]
    },
    {
     "data": {
      "application/vnd.jupyter.widget-view+json": {
       "model_id": "52a786c0a50148a4925d63e317f9550a",
       "version_major": 2,
       "version_minor": 0
      },
      "text/plain": [
       "HBox(children=(HTML(value='Repeats'), FloatProgress(value=0.0, max=2.0), HTML(value='')))"
      ]
     },
     "metadata": {},
     "output_type": "display_data"
    },
    {
     "data": {
      "application/vnd.jupyter.widget-view+json": {
       "model_id": "ff7246f440fd43a796e735b6f758e4d0",
       "version_major": 2,
       "version_minor": 0
      },
      "text/plain": [
       "HBox(children=(HTML(value='Folds'), FloatProgress(value=0.0, max=3.0), HTML(value='')))"
      ]
     },
     "metadata": {},
     "output_type": "display_data"
    },
    {
     "name": "stderr",
     "output_type": "stream",
     "text": [
      "invalid value encountered in double_scalars\n",
      "invalid value encountered in double_scalars\n",
      "invalid value encountered in double_scalars\n",
      "invalid value encountered in double_scalars\n",
      "invalid value encountered in double_scalars\n"
     ]
    },
    {
     "name": "stdout",
     "output_type": "stream",
     "text": [
      "\n",
      "\n",
      "\n",
      "Validation Scores\n",
      "_________________\n",
      "Scorer:  matthews\n",
      "Mean Validation score:  0.0\n",
      "Micro Std in Validation score:  0.0\n",
      "Macro Std in Validation score:  0.0\n",
      "\n",
      "Scorer:  roc_auc\n",
      "Mean Validation score:  0.5990740740740741\n",
      "Micro Std in Validation score:  0.2041346451751103\n",
      "Macro Std in Validation score:  0.12685185185185185\n",
      "\n",
      "Scorer:  balanced_accuracy\n",
      "Mean Validation score:  0.5\n",
      "Micro Std in Validation score:  0.0\n",
      "Macro Std in Validation score:  0.0\n",
      "\n",
      "('Custom 0', Loader_Wrapper(background_label=0,\n",
      "               file_mapping={0: <BPt.helpers.DataFile.DataFile object at 0x7fa1e9247e90>,\n",
      "                             1: <BPt.helpers.DataFile.DataFile object at 0x7fa1e9247a90>,\n",
      "                             2: <BPt.helpers.DataFile.DataFile object at 0x7fa1e9247cd0>,\n",
      "                             3: <BPt.helpers.DataFile.DataFile object at 0x7fa1e9247c90>,\n",
      "                             4: <BPt.helpers.DataFile.DataFile object at 0x7fa1e9247690>,\n",
      "                             5: <BPt.helpe...\n",
      "                             28: <BPt.helpers.DataFile.DataFile object at 0x7fa1e9267e10>,\n",
      "                             29: <BPt.helpers.DataFile.DataFile object at 0x7fa1e9267890>, ...},\n",
      "               labels='/home/sage/work/Parcel_Search/Existing_Parcels/lh.aparc.annot',\n",
      "               mask=None, strategy='mean', vectorize=True, wrapper_inds=[0],\n",
      "               wrapper_transformer=SurfLabels(labels='/home/sage/work/Parcel_Search/Existing_Parcels/lh.aparc.annot')))\n",
      "('Custom 1', Loader_Wrapper(background_label=0,\n",
      "               file_mapping={0: <BPt.helpers.DataFile.DataFile object at 0x7fa1e92f4dd0>,\n",
      "                             1: <BPt.helpers.DataFile.DataFile object at 0x7fa1e92f49d0>,\n",
      "                             2: <BPt.helpers.DataFile.DataFile object at 0x7fa1e92f40d0>,\n",
      "                             3: <BPt.helpers.DataFile.DataFile object at 0x7fa1e93094d0>,\n",
      "                             4: <BPt.helpers.DataFile.DataFile object at 0x7fa1e9309bd0>,\n",
      "                             5: <BPt.helpe...\n",
      "                             28: <BPt.helpers.DataFile.DataFile object at 0x7fa1ea3d9910>,\n",
      "                             29: <BPt.helpers.DataFile.DataFile object at 0x7fa1ea3d92d0>, ...},\n",
      "               labels='/home/sage/work/Parcel_Search/Existing_Parcels/rh.aparc.annot',\n",
      "               mask=None, strategy='mean', vectorize=True, wrapper_inds=[2],\n",
      "               wrapper_transformer=SurfLabels(labels='/home/sage/work/Parcel_Search/Existing_Parcels/rh.aparc.annot')))\n",
      "('loader_pipe0', Loader_Wrapper(file_mapping={0: <BPt.helpers.DataFile.DataFile object at 0x7fa1ea444650>,\n",
      "                             1: <BPt.helpers.DataFile.DataFile object at 0x7fa1ea444f50>,\n",
      "                             2: <BPt.helpers.DataFile.DataFile object at 0x7fa1e9b40790>,\n",
      "                             3: <BPt.helpers.DataFile.DataFile object at 0x7fa1ea444f90>,\n",
      "                             4: <BPt.helpers.DataFile.DataFile object at 0x7fa1ea444590>,\n",
      "                             5: <BPt.helpers.DataFile.Data_F...\n",
      "                       SurfLabels(labels='/home/sage/work/Parcel_Search/Existing_Parcels/lh.aparc.annot',\n",
      "                                  vectorize=False)),\n",
      "                      ('Custom 3', SingleConnectivityMeasure(vectorize=True))],\n",
      "               verbose=False, wrapper_inds=[1],\n",
      "               wrapper_transformer=Pipeline(steps=[('Custom 2',\n",
      "                                                    SurfLabels(labels='/home/sage/work/Parcel_Search/Existing_Parcels/lh.aparc.annot',\n",
      "                                                               vectorize=False)),\n",
      "                                                   ('Custom 3',\n",
      "                                                    SingleConnectivityMeasure(vectorize=True))])))\n",
      "('loader_pipe1', Loader_Wrapper(file_mapping={0: <BPt.helpers.DataFile.DataFile object at 0x7fa1e923ef10>,\n",
      "                             1: <BPt.helpers.DataFile.DataFile object at 0x7fa1e9c992d0>,\n",
      "                             2: <BPt.helpers.DataFile.DataFile object at 0x7fa1e9c99dd0>,\n",
      "                             3: <BPt.helpers.DataFile.DataFile object at 0x7fa1e9c99290>,\n",
      "                             4: <BPt.helpers.DataFile.DataFile object at 0x7fa1ea3df150>,\n",
      "                             5: <BPt.helpers.DataFile.Data_F...\n",
      "                       SurfLabels(labels='/home/sage/work/Parcel_Search/Existing_Parcels/rh.aparc.annot',\n",
      "                                  vectorize=False)),\n",
      "                      ('Custom 5', SingleConnectivityMeasure(vectorize=True))],\n",
      "               verbose=False, wrapper_inds=[3],\n",
      "               wrapper_transformer=Pipeline(steps=[('Custom 4',\n",
      "                                                    SurfLabels(labels='/home/sage/work/Parcel_Search/Existing_Parcels/rh.aparc.annot',\n",
      "                                                               vectorize=False)),\n",
      "                                                   ('Custom 5',\n",
      "                                                    SingleConnectivityMeasure(vectorize=True))])))\n",
      "('ridge logistic', LogisticRegression(max_iter=1000, n_jobs=1, random_state=534, solver='saga'))\n"
     ]
    }
   ],
   "source": [
    "from BPt import Pipe\n",
    "problem_spec.scope = 'all'\n",
    "\n",
    "loaders = [Loader(surf_rois_lh, scope='lh_surf'),\n",
    "           Loader(surf_rois_rh, scope='rh_surf'),\n",
    "           Loader(Pipe([t_surf_rois_lh, connectivity]), scope='lh_timeseries'),\n",
    "           Loader(Pipe([t_surf_rois_rh, connectivity]), scope='rh_timeseries')]\n",
    "\n",
    "model_pipeline = (loaders=loaders)\n",
    "results = ML.Evaluate(model_pipeline, problem_spec, return_models=True)\n",
    "\n",
    "for step in results['models'][0].steps:\n",
    "    print(step)"
   ]
  },
  {
   "cell_type": "code",
   "execution_count": 11,
   "metadata": {
    "scrolled": false
   },
   "outputs": [
    {
     "name": "stdout",
     "output_type": "stream",
     "text": [
      "Passed default imputers, setting to: [Imputer(obj='mean', scope='float'), Imputer(obj='median', scope='cat')]\n",
      "Model(obj='ridge')\n",
      "Passed default model, setting to: None\n",
      "problem_spec scorer ==  default, setting as: ['matthews', 'roc_auc', 'balanced_accuracy']\n",
      "\n",
      "--------------\n",
      "loaders=\\\n",
      "[Loader(obj=SurfLabels(labels='/home/sage/work/Parcel_Search/Existing_Parcels/lh.aparc.annot'),\n",
      "       scope='lh_timeseries'),\n",
      " Loader(obj=SurfLabels(labels='/home/sage/work/Parcel_Search/Existing_Parcels/rh.aparc.annot'),\n",
      "       scope='rh_timeseries')]\n",
      "\n",
      "model=\\\n",
      "Model(obj='ridge')\n",
      "\n",
      "param_search=\\\n",
      "None\n",
      "\n",
      "\n",
      "\n",
      "ProblemSpec\n",
      "------------\n",
      "problem_type = binary\n",
      "target = target\n",
      "scorer = ['matthews', 'roc_auc', 'balanced_accuracy']\n",
      "weight_scorer = False\n",
      "scope = timeseries\n",
      "subjects = all\n",
      "len(subjects) = 20 (before overlap w/ train/test subjects)\n",
      "n_jobs = 1\n",
      "random_state = 534\n",
      "\n",
      "Evaluate Params\n",
      "---------------\n",
      "splits = 3\n",
      "n_repeats = 2\n",
      "cv = default\n",
      "train_subjects = train\n",
      "feat_importances = None\n",
      "len(train_subjects) = 20 (before overlap w/ problem_spec.subjects)\n",
      "run_name = ridge\n",
      "\n"
     ]
    },
    {
     "data": {
      "application/vnd.jupyter.widget-view+json": {
       "model_id": "760d6a7fda9844f79009cec2a79d73d5",
       "version_major": 2,
       "version_minor": 0
      },
      "text/plain": [
       "HBox(children=(HTML(value='Repeats'), FloatProgress(value=0.0, max=2.0), HTML(value='')))"
      ]
     },
     "metadata": {},
     "output_type": "display_data"
    },
    {
     "data": {
      "application/vnd.jupyter.widget-view+json": {
       "model_id": "72fafe0e9e0544ac934b5e9c87d1732a",
       "version_major": 2,
       "version_minor": 0
      },
      "text/plain": [
       "HBox(children=(HTML(value='Folds'), FloatProgress(value=0.0, max=3.0), HTML(value='')))"
      ]
     },
     "metadata": {},
     "output_type": "display_data"
    },
    {
     "name": "stderr",
     "output_type": "stream",
     "text": [
      "The max_iter was reached which means the coef_ did not converge\n",
      "invalid value encountered in double_scalars\n",
      "The max_iter was reached which means the coef_ did not converge\n",
      "invalid value encountered in double_scalars\n",
      "The max_iter was reached which means the coef_ did not converge\n",
      "invalid value encountered in double_scalars\n",
      "The max_iter was reached which means the coef_ did not converge\n",
      "invalid value encountered in double_scalars\n",
      "The max_iter was reached which means the coef_ did not converge\n",
      "invalid value encountered in double_scalars\n",
      "The max_iter was reached which means the coef_ did not converge\n"
     ]
    },
    {
     "name": "stdout",
     "output_type": "stream",
     "text": [
      "\n",
      "\n",
      "\n",
      "Validation Scores\n",
      "_________________\n",
      "Scorer:  matthews\n",
      "Mean Validation score:  -0.05270462766947299\n",
      "Micro Std in Validation score:  0.11785113019775792\n",
      "Macro Std in Validation score:  0.05270462766947299\n",
      "\n",
      "Scorer:  roc_auc\n",
      "Mean Validation score:  0.37222222222222223\n",
      "Micro Std in Validation score:  0.15713484026367724\n",
      "Macro Std in Validation score:  0.07222222222222222\n",
      "\n",
      "Scorer:  balanced_accuracy\n",
      "Mean Validation score:  0.47916666666666663\n",
      "Micro Std in Validation score:  0.04658474953124561\n",
      "Macro Std in Validation score:  0.020833333333333343\n",
      "\n",
      "('Custom 0', Loader_Wrapper(background_label=0,\n",
      "               file_mapping={0: <BPt.helpers.DataFile.DataFile object at 0x7fa1e9dcbe90>,\n",
      "                             1: <BPt.helpers.DataFile.DataFile object at 0x7fa1e9d59cd0>,\n",
      "                             2: <BPt.helpers.DataFile.DataFile object at 0x7fa1e9d59590>,\n",
      "                             3: <BPt.helpers.DataFile.DataFile object at 0x7fa1e9d59210>,\n",
      "                             4: <BPt.helpers.DataFile.DataFile object at 0x7fa1e9d59610>,\n",
      "                             5: <BPt.helpe...\n",
      "                             28: <BPt.helpers.DataFile.DataFile object at 0x7fa1e9b8add0>,\n",
      "                             29: <BPt.helpers.DataFile.DataFile object at 0x7fa1e9b8a3d0>, ...},\n",
      "               labels='/home/sage/work/Parcel_Search/Existing_Parcels/lh.aparc.annot',\n",
      "               mask=None, strategy='mean', vectorize=True, wrapper_inds=[0],\n",
      "               wrapper_transformer=SurfLabels(labels='/home/sage/work/Parcel_Search/Existing_Parcels/lh.aparc.annot')))\n",
      "('Custom 1', Loader_Wrapper(background_label=0,\n",
      "               file_mapping={0: <BPt.helpers.DataFile.DataFile object at 0x7fa1e9c36a10>,\n",
      "                             1: <BPt.helpers.DataFile.DataFile object at 0x7fa1e9c36e10>,\n",
      "                             2: <BPt.helpers.DataFile.DataFile object at 0x7fa1e9c2bd90>,\n",
      "                             3: <BPt.helpers.DataFile.DataFile object at 0x7fa1e9c2bed0>,\n",
      "                             4: <BPt.helpers.DataFile.DataFile object at 0x7fa1e9c2b650>,\n",
      "                             5: <BPt.helpe...\n",
      "                             28: <BPt.helpers.DataFile.DataFile object at 0x7fa1e9afdad0>,\n",
      "                             29: <BPt.helpers.DataFile.DataFile object at 0x7fa1e9afdbd0>, ...},\n",
      "               labels='/home/sage/work/Parcel_Search/Existing_Parcels/rh.aparc.annot',\n",
      "               mask=None, strategy='mean', vectorize=True, wrapper_inds=[1],\n",
      "               wrapper_transformer=SurfLabels(labels='/home/sage/work/Parcel_Search/Existing_Parcels/rh.aparc.annot')))\n",
      "('ridge logistic', LogisticRegression(max_iter=1000, n_jobs=1, random_state=534, solver='saga'))\n"
     ]
    }
   ],
   "source": [
    "problem_spec.scope = 'timeseries'\n",
    "\n",
    "loaders = [Loader(surf_rois_lh, scope='lh_timeseries'),\n",
    "           Loader(surf_rois_rh, scope='rh_timeseries')]\n",
    "\n",
    "model_pipeline = (loaders=loaders)\n",
    "results = ML.Evaluate(model_pipeline, problem_spec, return_models=True)\n",
    "\n",
    "for step in results['models'][0].steps:\n",
    "    print(step)"
   ]
  }
 ],
 "metadata": {
  "kernelspec": {
   "display_name": "Python 3.7.6 64-bit ('home': conda)",
   "language": "python",
   "name": "python37664bithomeconda2aade2e1d0ce4797afe91f4891a59d68"
  },
  "language_info": {
   "codemirror_mode": {
    "name": "ipython",
    "version": 3
   },
   "file_extension": ".py",
   "mimetype": "text/x-python",
   "name": "python",
   "nbconvert_exporter": "python",
   "pygments_lexer": "ipython3",
   "version": "3.7.6"
  }
 },
 "nbformat": 4,
 "nbformat_minor": 4
}
