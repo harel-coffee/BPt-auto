{
 "cells": [
  {
   "cell_type": "markdown",
   "metadata": {},
   "source": [
    "# Predicting Substance Dependence from Multi-Site Data\n",
    "\n",
    "This notebook explores an example using data from the ENIGMA Addiction Consortium. Within this notebook we will be trying to predict between participants with any drug dependence (alcohol, cocaine, etc...), vs. healthy controls. The data for this is sources from a number of individual studies from all around the world and with different scanners etc... making this a challenging problem with its own unique considerations. Structural FreeSurfer ROIs are used. The raw data cannot be made available due to data use agreements.\n",
    "\n",
    "The key idea explored in this notebook is a particular tricky problem introduced by case-only sites, which are subject's data from site's with only case's. This introduces a confound where you cannot easily tell if the classifier is learning to predict site or the dependence status of interest.\n",
    "\n",
    "Featured in this notebook as well are some helpful\n",
    "code snippets for converting from BPt versions earlier than BPt 2.0 to valid BPt 2.0+ code."
   ]
  },
  {
   "cell_type": "code",
   "execution_count": 1,
   "metadata": {},
   "outputs": [],
   "source": [
    "import pandas as pd\n",
    "import BPt as bp\n",
    "import numpy as np\n",
    "import matplotlib.pyplot as plt\n",
    "\n",
    "from warnings import simplefilter\n",
    "simplefilter(\"ignore\", category=FutureWarning)"
   ]
  },
  {
   "cell_type": "markdown",
   "metadata": {},
   "source": [
    "### Loading / Preparing Data"
   ]
  },
  {
   "cell_type": "markdown",
   "metadata": {},
   "source": [
    "As a general tip it can be useful to wrap something like a series of steps that load multiple DataFrames and merge them into a function. That said, it is often useful when first writing the function to try it taking advantage of the interactive-ness of the jupyter-notebook."
   ]
  },
  {
   "cell_type": "code",
   "execution_count": 2,
   "metadata": {},
   "outputs": [],
   "source": [
    "def load_base_df():\n",
    "    '''Loads and merges a DataFrame from multiple raw files'''\n",
    "    \n",
    "    na_vals = [' ', '  ', 'nan', 'NaN']\n",
    "    \n",
    "    # Load first part of data\n",
    "    d1 = pd.read_excel('/home/sage/Downloads/e1.xlsx', na_values=na_vals)\n",
    "    d2 = pd.read_excel('/home/sage/Downloads/e2.xlsx', na_values=na_vals)\n",
    "    df = pd.concat([d1, d2])\n",
    "\n",
    "    df['Subject'] = df['Subject'].astype('str')\n",
    "    df.rename({'Subject': 'subject'}, axis=1, inplace=True)\n",
    "    df.set_index('subject', inplace=True)\n",
    "\n",
    "    # Load second part\n",
    "    df2 = pd.read_excel('/home/sage/Downloads/e3.xlsx', na_values=na_vals)\n",
    "    df2['Subject ID'] = df2['Subject ID'].astype('str')\n",
    "    df2.rename({'Subject ID': 'subject'}, axis=1, inplace=True)\n",
    "    df2.set_index('subject', inplace=True)\n",
    "\n",
    "    # Merge\n",
    "    data = df2.merge(df, on='subject', how='outer')\n",
    "    \n",
    "    # Rename age and sex\n",
    "    data = data.rename({'Sex_y': 'Sex', 'Age_y': 'Age'}, axis=1)\n",
    "    \n",
    "    # Remove subject name to obsficate\n",
    "    data.index = list(range(len(data.index)))\n",
    "    \n",
    "    return data"
   ]
  },
  {
   "cell_type": "code",
   "execution_count": 3,
   "metadata": {},
   "outputs": [
    {
     "data": {
      "text/plain": [
       "(3525, 224)"
      ]
     },
     "execution_count": 3,
     "metadata": {},
     "output_type": "execute_result"
    }
   ],
   "source": [
    "df = load_base_df()\n",
    "df.shape"
   ]
  },
  {
   "cell_type": "code",
   "execution_count": 4,
   "metadata": {
    "scrolled": true
   },
   "outputs": [
    {
     "name": "stdout",
     "output_type": "stream",
     "text": [
      "Setting NaN threshold to: 1762.5\n",
      "Dropped 20 Columns\n",
      "Dropped 3 Columns\n",
      "Dropped 36 Columns\n",
      "Num. categorical variables in dataset: 3\n",
      "to binary cols: ['Dependent any drug', 'Handedness', 'Sex']\n",
      "Dropped 479 Rows\n",
      "scope covars =  ['Age', 'Education', 'Handedness', 'ICV', 'Sex']\n",
      "Setting NaN threshold to: 82.5\n",
      "Dropped 38 Rows\n",
      "Dropped 5 Rows\n"
     ]
    }
   ],
   "source": [
    "# Cast to dataset\n",
    "data = bp.Dataset(df)\n",
    "data.verbose = 1\n",
    "\n",
    "# Drop non relevant columns\n",
    "data.drop_cols_by_nan(threshold=.5, inplace=True)\n",
    "data.drop_cols(scope='Dependent', inclusions='any drug', inplace=True)\n",
    "data.drop_cols(exclusions=['Half', '30 days', 'Site ',\n",
    "                           'Sex_', 'Age_', 'Primary Drug', 'ICV.'], inplace=True)\n",
    "\n",
    "# Set binary vars as categorical\n",
    "data.auto_detect_categorical(inplace=True)\n",
    "data.to_binary(scope='category', inplace=True)\n",
    "print('to binary cols:', data.get_cols('category'))\n",
    "\n",
    "# Set target and drop any NaNs\n",
    "data.set_role('Dependent any drug', 'target', inplace=True)\n",
    "data.drop_nan_subjects('target', inplace=True)\n",
    "\n",
    "# Save this set of vars under scope covars\n",
    "data = data.add_scope(['ICV', 'Sex', 'Age', 'Education', 'Handedness'], 'covars')\n",
    "print('scope covars = ', data.get_cols('covars'))\n",
    "\n",
    "# Set site as non input\n",
    "data = data.set_role('Site', 'non input')\n",
    "data = data.ordinalize(scope='non input')\n",
    "\n",
    "# Drop subjects with too many NaN's and big outliers\n",
    "data.drop_subjects_by_nan(threshold=.5, scope='all', inplace=True)\n",
    "data.filter_outliers_by_std(n_std=10, scope='float', inplace=True)"
   ]
  },
  {
   "cell_type": "markdown",
   "metadata": {},
   "source": [
    "**Legacy Equivilent pre BPt 2.0 loading code**\n",
    "\n",
    "```\n",
    "ML = BPt_ML('Enigma_Alc',\n",
    "             log_dr = None,\n",
    "             n_jobs = 8)\n",
    "             \n",
    "ML.Set_Default_Load_Params(subject_id = 'subject',\n",
    "                           na_values = [' ', '  ', 'nan', 'NaN'],\n",
    "                           drop_na = .5)\n",
    "                           \n",
    "ML.Load_Data(df=df,\n",
    "             drop_keys = ['Unnamed:', 'Site', 'Half', 'PI', 'Dependent',\n",
    "                          'Surface Area', 'Thickness', 'ICV', 'Subcortical',\n",
    "                          'Sex', 'Age', 'Primary Drug', 'Education', 'Handedness'],\n",
    "             inclusion_keys=None,\n",
    "             unique_val_warn=None,\n",
    "             clear_existing=True)\n",
    "\n",
    "ML.Load_Targets(df=df,\n",
    "                col_name = 'Dependent any drug',\n",
    "                data_type = 'b')\n",
    "\n",
    "ML.Load_Covars(df=df,\n",
    "               col_name = ['ICV', 'Sex', 'Age'],\n",
    "               drop_na = False,\n",
    "               data_type = ['f', 'b', 'f'])\n",
    "\n",
    "ML.Load_Covars(df = df,\n",
    "               col_name = ['Education', 'Handedness'],\n",
    "               data_type = ['f', 'b'],\n",
    "               drop_na = False,\n",
    "               filter_outlier_std = 10)\n",
    "\n",
    "ML.Load_Strat(df=df,\n",
    "              col_name=['Sex', 'Site'],\n",
    "              binary_col=[True, False]\n",
    "              )\n",
    "\n",
    "ML.Prepare_All_Data()\n",
    "```"
   ]
  },
  {
   "cell_type": "markdown",
   "metadata": {},
   "source": [
    "Let's take a look at what we prepared. We can see that visually the Dataset is grouped by role."
   ]
  },
  {
   "cell_type": "markdown",
   "metadata": {},
   "source": [
    "Let's plot some variables of interest"
   ]
  },
  {
   "cell_type": "code",
   "execution_count": 5,
   "metadata": {},
   "outputs": [
    {
     "data": {
      "image/png": "[encoded data removed]",
      "text/plain": [
       "<Figure size 432x288 with 1 Axes>"
      ]
     },
     "metadata": {
      "needs_background": "light"
     },
     "output_type": "display_data"
    }
   ],
   "source": [
    "data.plot('target')"
   ]
  },
  {
   "cell_type": "code",
   "execution_count": 6,
   "metadata": {},
   "outputs": [
    {
     "data": {
      "image/png": "[encoded data removed]",
      "text/plain": [
       "<Figure size 432x288 with 1 Axes>"
      ]
     },
     "metadata": {
      "needs_background": "light"
     },
     "output_type": "display_data"
    }
   ],
   "source": [
    "data.plot('Site')"
   ]
  },
  {
   "cell_type": "code",
   "execution_count": 7,
   "metadata": {},
   "outputs": [
    {
     "data": {
      "image/png": "[encoded data removed]",
      "text/plain": [
       "<Figure size 432x288 with 2 Axes>"
      ]
     },
     "metadata": {
      "needs_background": "light"
     },
     "output_type": "display_data"
    }
   ],
   "source": [
    "data.plot_bivar('Site', 'Dependent any drug')"
   ]
  },
  {
   "cell_type": "markdown",
   "metadata": {},
   "source": [
    "That bi-variate plot is a little hard to read... we can make it bigger though easy enough. Let's say we also wanted to save it (we need to add show=False)"
   ]
  },
  {
   "cell_type": "code",
   "execution_count": 8,
   "metadata": {},
   "outputs": [
    {
     "data": {
      "image/png": "[encoded data removed]",
      "text/plain": [
       "<Figure size 720x720 with 2 Axes>"
      ]
     },
     "metadata": {
      "needs_background": "light"
     },
     "output_type": "display_data"
    }
   ],
   "source": [
    "plt.figure(figsize=(10, 10))\n",
    "data.plot_bivar('Site', 'Dependent any drug', show=False)\n",
    "plt.savefig('site_by_drug.png', dpi=200)"
   ]
  },
  {
   "cell_type": "markdown",
   "metadata": {},
   "source": [
    "Okay next, we are going to define a custom validation strategy to use, which is essentially going to preserve subjects within the same train and test fold based on site.\n",
    "\n",
    "\n",
    "**Legacy Code**\n",
    "```\n",
    "from BPt import CV\n",
    "group_site = CV(groups='Site')\n",
    "```"
   ]
  },
  {
   "cell_type": "code",
   "execution_count": 9,
   "metadata": {},
   "outputs": [
    {
     "data": {
      "text/plain": [
       "CVStrategy(groups='Site')"
      ]
     },
     "execution_count": 9,
     "metadata": {},
     "output_type": "execute_result"
    }
   ],
   "source": [
    "group_site = bp.CVStrategy(groups='Site')\n",
    "group_site"
   ]
  },
  {
   "cell_type": "markdown",
   "metadata": {},
   "source": [
    "We then can use this CV strategy as an argument when defining the train test split.\n",
    "\n",
    "**Legacy Code**\n",
    "```\n",
    "ML.Train_Test_Split(test_size =.2, cv=group_site)\n",
    "```"
   ]
  },
  {
   "cell_type": "code",
   "execution_count": 10,
   "metadata": {},
   "outputs": [
    {
     "name": "stdout",
     "output_type": "stream",
     "text": [
      "Performing test split on: 3003 subjects.\n",
      "random_state: 5\n",
      "Test split size: 0.2\n",
      "\n",
      "Performed train/test split\n",
      "Train size: 2379\n",
      "Test size:  624\n"
     ]
    }
   ],
   "source": [
    "data = data.set_test_split(size=.2, cv_strategy=group_site, random_state=5)"
   ]
  },
  {
   "cell_type": "code",
   "execution_count": 11,
   "metadata": {},
   "outputs": [
    {
     "data": {
      "image/png": "[encoded data removed]",
      "text/plain": [
       "<Figure size 432x288 with 1 Axes>"
      ]
     },
     "metadata": {
      "needs_background": "light"
     },
     "output_type": "display_data"
    },
    {
     "data": {
      "image/png": "[encoded data removed]",
      "text/plain": [
       "<Figure size 432x288 with 1 Axes>"
      ]
     },
     "metadata": {
      "needs_background": "light"
     },
     "output_type": "display_data"
    }
   ],
   "source": [
    "data.plot('target', subjects='train')\n",
    "data.plot('target', subjects='test')"
   ]
  },
  {
   "cell_type": "markdown",
   "metadata": {},
   "source": [
    "### Running ML\n",
    "\n",
    "Next, we are going to evaluate some different machine learning models on the problem we have defined. Notably not much has changed here with respect to the old version, except some cosmetic changes like Problem_Spec to ProblemSpec. Also we have a new `evaluate` function instead of calling Evaluate via the ML object (`ML.Evaluate`)."
   ]
  },
  {
   "cell_type": "code",
   "execution_count": 12,
   "metadata": {},
   "outputs": [
    {
     "data": {
      "text/plain": [
       "ProblemSpec(n_jobs=16, scorer=['matthews', 'roc_auc', 'balanced_accuracy'],\n",
       "            subjects='train')"
      ]
     },
     "execution_count": 12,
     "metadata": {},
     "output_type": "execute_result"
    }
   ],
   "source": [
    "# This just holds some commonly used values\n",
    "ps = bp.ProblemSpec(subjects='train',\n",
    "                    scorer=['matthews', 'roc_auc', 'balanced_accuracy'],\n",
    "                    n_jobs=16)\n",
    "ps"
   ]
  },
  {
   "cell_type": "code",
   "execution_count": 13,
   "metadata": {},
   "outputs": [
    {
     "name": "stdout",
     "output_type": "stream",
     "text": [
      "ModelPipeline\n",
      "-------------\n",
      "imputers=\\\n",
      "[Imputer(obj='mean', scope='float'),\n",
      " Imputer(obj='median', scope='category')]\n",
      "\n",
      "scalers=\\\n",
      "Scaler(obj='standard')\n",
      "\n",
      "model=\\\n",
      "Model(obj='elastic', params=1)\n",
      "\n",
      "param_search=\\\n",
      "ParamSearch(cv=CV(cv_strategy=CVStrategy()), n_iter=64,\n",
      "            search_type='DiscreteOnePlusOne')\n",
      "\n"
     ]
    }
   ],
   "source": [
    "# Define a ModelPipeline to use with imputation, scaling and an elastic net\n",
    "pipe = bp.ModelPipeline(imputers=[bp.Imputer(obj='mean', scope='float'),\n",
    "                                  bp.Imputer(obj='median', scope='category')],\n",
    "                        scalers=bp.Scaler('standard'), \n",
    "                        model=bp.Model('elastic', params=1),\n",
    "                        param_search=bp.ParamSearch(\n",
    "                            search_type='DiscreteOnePlusOne', n_iter=64))\n",
    "pipe.print_all()"
   ]
  },
  {
   "cell_type": "markdown",
   "metadata": {},
   "source": [
    "### 3-fold CV random splits\n",
    "\n",
    "Let's start by evaluating this model is a fairly naive way, just 3 folds of CV."
   ]
  },
  {
   "cell_type": "code",
   "execution_count": 14,
   "metadata": {},
   "outputs": [
    {
     "name": "stdout",
     "output_type": "stream",
     "text": [
      "Predicting target = Dependent any drug\n",
      "Using problem_type = binary\n",
      "Using scope = all (defining a total of 163 features).\n",
      "Evaluating 2379 total data points.\n"
     ]
    },
    {
     "data": {
      "application/vnd.jupyter.widget-view+json": {
       "model_id": "ed06afecca754036862729f7dd142f79",
       "version_major": 2,
       "version_minor": 0
      },
      "text/plain": [
       "Folds:   0%|          | 0/3 [00:00<?, ?it/s]"
      ]
     },
     "metadata": {},
     "output_type": "display_data"
    },
    {
     "name": "stdout",
     "output_type": "stream",
     "text": [
      "\n",
      "Training Set: (1586, 163)\n",
      "Validation Set: (793, 163)\n",
      "Fit fold in 14.3 seconds.\n",
      "matthews: 0.4391\n",
      "roc_auc: 0.8165\n",
      "balanced_accuracy: 0.7259\n",
      "\n",
      "Training Set: (1586, 163)\n",
      "Validation Set: (793, 163)\n",
      "Fit fold in 10.5 seconds.\n",
      "matthews: 0.4449\n",
      "roc_auc: 0.8169\n",
      "balanced_accuracy: 0.7302\n",
      "\n",
      "Training Set: (1586, 163)\n",
      "Validation Set: (793, 163)\n",
      "Fit fold in 11.1 seconds.\n",
      "matthews: 0.3919\n",
      "roc_auc: 0.7859\n",
      "balanced_accuracy: 0.7021\n",
      "\n"
     ]
    },
    {
     "data": {
      "text/plain": [
       "EvalResults\n",
       "------------\n",
       "matthews: 0.4253 ± 0.0237\n",
       "roc_auc: 0.8064 ± 0.0145\n",
       "balanced_accuracy: 0.7194 ± 0.0123\n",
       "\n",
       "Saved Attributes: ['estimators', 'preds', 'timing', 'estimator', 'train_subjects', 'val_subjects', 'feat_names', 'ps', 'mean_scores', 'std_scores', 'weighted_mean_scores', 'scores', 'fis_', 'coef_', 'cv']\n",
       "\n",
       "Available Methods: ['to_pickle', 'compare', 'get_X_transform_df', 'get_inverse_fis', 'run_permutation_test', 'get_preds_dfs', 'subset_by', 'get_fis', 'get_coef_', 'permutation_importance']\n",
       "\n",
       "Evaluated With:\n",
       "target: Dependent any drug\n",
       "problem_type: binary\n",
       "scope: all\n",
       "subjects: train\n",
       "random_state: 1\n",
       "n_jobs: 16\n"
      ]
     },
     "execution_count": 14,
     "metadata": {},
     "output_type": "execute_result"
    }
   ],
   "source": [
    "results = bp.evaluate(pipeline=pipe, dataset=data, mute_warnings=True,\n",
    "                      problem_spec=ps, cv=bp.CV(splits=3))\n",
    "results"
   ]
  },
  {
   "cell_type": "markdown",
   "metadata": {},
   "source": [
    "Notably this is likely going to give us overly optimistic results. Let's look at just the Site's drawn from the first evaluation fold to get a feel for why."
   ]
  },
  {
   "cell_type": "code",
   "execution_count": 15,
   "metadata": {},
   "outputs": [
    {
     "data": {
      "image/png": "[encoded data removed]",
      "text/plain": [
       "<Figure size 432x288 with 2 Axes>"
      ]
     },
     "metadata": {
      "needs_background": "light"
     },
     "output_type": "display_data"
    },
    {
     "data": {
      "image/png": "[encoded data removed]",
      "text/plain": [
       "<Figure size 432x288 with 2 Axes>"
      ]
     },
     "metadata": {
      "needs_background": "light"
     },
     "output_type": "display_data"
    }
   ],
   "source": [
    "data.plot_bivar('Site', 'Dependent any drug', subjects=results.train_subjects[0])\n",
    "data.plot_bivar('Site', 'Dependent any drug', subjects=results.val_subjects[0])"
   ]
  },
  {
   "cell_type": "markdown",
   "metadata": {},
   "source": [
    "### Preserving Groups by Site\n",
    "\n",
    "We can see that for example the 149 subjects from site 1 in the validation set had 269 subjects also from site 1 to potentially memorize site effects from! The confound is a site with only cases. One way we can account for this is through something we've already hinted at, using the group site cv from earlier. We can create a new CV object with this attribute."
   ]
  },
  {
   "cell_type": "code",
   "execution_count": 16,
   "metadata": {},
   "outputs": [
    {
     "data": {
      "text/plain": [
       "CV(cv_strategy=CVStrategy(groups='Site'))"
      ]
     },
     "execution_count": 16,
     "metadata": {},
     "output_type": "execute_result"
    }
   ],
   "source": [
    "site_cv = bp.CV(splits=3, cv_strategy=group_site)\n",
    "site_cv"
   ]
  },
  {
   "cell_type": "code",
   "execution_count": 17,
   "metadata": {},
   "outputs": [
    {
     "name": "stdout",
     "output_type": "stream",
     "text": [
      "Predicting target = Dependent any drug\n",
      "Using problem_type = binary\n",
      "Using scope = all (defining a total of 163 features).\n",
      "Evaluating 2379 total data points.\n"
     ]
    },
    {
     "data": {
      "application/vnd.jupyter.widget-view+json": {
       "model_id": "61054ef8a72d4c09815947dfa09d2fe2",
       "version_major": 2,
       "version_minor": 0
      },
      "text/plain": [
       "Folds:   0%|          | 0/3 [00:00<?, ?it/s]"
      ]
     },
     "metadata": {},
     "output_type": "display_data"
    },
    {
     "name": "stdout",
     "output_type": "stream",
     "text": [
      "\n",
      "Training Set: (1471, 163)\n",
      "Validation Set: (908, 163)\n",
      "Fit fold in 9.8 seconds.\n",
      "matthews: 0.4206\n",
      "roc_auc: 0.7941\n",
      "balanced_accuracy: 0.7315\n",
      "\n",
      "Training Set: (1413, 163)\n",
      "Validation Set: (966, 163)\n",
      "Fit fold in 10.2 seconds.\n",
      "matthews: 0.2502\n",
      "roc_auc: 0.7010\n",
      "balanced_accuracy: 0.6252\n",
      "\n",
      "Training Set: (1874, 163)\n",
      "Validation Set: (505, 163)\n",
      "Fit fold in 11.9 seconds.\n",
      "matthews: 0.2094\n",
      "roc_auc: 0.6828\n",
      "balanced_accuracy: 0.5952\n",
      "\n"
     ]
    },
    {
     "data": {
      "text/plain": [
       "EvalResults\n",
       "------------\n",
       "matthews: 0.2934 ± 0.0915\n",
       "roc_auc: 0.7260 ± 0.0487\n",
       "balanced_accuracy: 0.6507 ± 0.0585\n",
       "\n",
       "Saved Attributes: ['estimators', 'preds', 'timing', 'estimator', 'train_subjects', 'val_subjects', 'feat_names', 'ps', 'mean_scores', 'std_scores', 'weighted_mean_scores', 'scores', 'fis_', 'coef_', 'cv']\n",
       "\n",
       "Available Methods: ['to_pickle', 'compare', 'get_X_transform_df', 'get_inverse_fis', 'run_permutation_test', 'get_preds_dfs', 'subset_by', 'get_fis', 'get_coef_', 'permutation_importance']\n",
       "\n",
       "Evaluated With:\n",
       "target: Dependent any drug\n",
       "problem_type: binary\n",
       "scope: all\n",
       "subjects: train\n",
       "random_state: 1\n",
       "n_jobs: 16\n"
      ]
     },
     "execution_count": 17,
     "metadata": {},
     "output_type": "execute_result"
    }
   ],
   "source": [
    "results = bp.evaluate(pipeline=pipe, dataset=data, mute_warnings=True,\n",
    "                      problem_spec=ps, cv=site_cv)\n",
    "results"
   ]
  },
  {
   "cell_type": "markdown",
   "metadata": {},
   "source": [
    "We can now make the same plots as before, confirming now that the sites are different."
   ]
  },
  {
   "cell_type": "code",
   "execution_count": 18,
   "metadata": {},
   "outputs": [
    {
     "data": {
      "image/png": "[encoded data removed]",
      "text/plain": [
       "<Figure size 432x288 with 2 Axes>"
      ]
     },
     "metadata": {
      "needs_background": "light"
     },
     "output_type": "display_data"
    },
    {
     "data": {
      "image/png": "[encoded data removed]",
      "text/plain": [
       "<Figure size 432x288 with 2 Axes>"
      ]
     },
     "metadata": {
      "needs_background": "light"
     },
     "output_type": "display_data"
    }
   ],
   "source": [
    "data.plot_bivar('Site', 'Dependent any drug', subjects=results.train_subjects[0])\n",
    "data.plot_bivar('Site', 'Dependent any drug', subjects=results.val_subjects[0])"
   ]
  },
  {
   "cell_type": "markdown",
   "metadata": {},
   "source": [
    "Another piece we might want to look at in this case is the weighted_mean_scores. That is, each of the splits has train and test sets of slightly different sizes, so how does the metric change if we weight it by the number of validation subjects in that fold"
   ]
  },
  {
   "cell_type": "code",
   "execution_count": 19,
   "metadata": {},
   "outputs": [
    {
     "data": {
      "text/plain": [
       "{'matthews': 0.30658967954138794,\n",
       " 'roc_auc': 0.7326871601600812,\n",
       " 'balanced_accuracy': 0.6594228636800403}"
      ]
     },
     "execution_count": 19,
     "metadata": {},
     "output_type": "execute_result"
    }
   ],
   "source": [
    "results.weighted_mean_scores"
   ]
  },
  {
   "cell_type": "code",
   "execution_count": 20,
   "metadata": {},
   "outputs": [
    {
     "name": "stdout",
     "output_type": "stream",
     "text": [
      "Predicting target = Dependent any drug\n",
      "Using problem_type = binary\n",
      "Using scope = all (defining a total of 163 features).\n",
      "Evaluating 2379 total data points.\n"
     ]
    },
    {
     "data": {
      "application/vnd.jupyter.widget-view+json": {
       "model_id": "529a88eb88c644d58c4dd47e5460eafb",
       "version_major": 2,
       "version_minor": 0
      },
      "text/plain": [
       "Folds:   0%|          | 0/3 [00:00<?, ?it/s]"
      ]
     },
     "metadata": {},
     "output_type": "display_data"
    },
    {
     "name": "stdout",
     "output_type": "stream",
     "text": [
      "\n",
      "Training Set: (1586, 163)\n",
      "Validation Set: (793, 163)\n",
      "Fit fold in 10.6 seconds.\n",
      "matthews: 0.5005\n",
      "roc_auc: 0.8259\n",
      "balanced_accuracy: 0.7589\n",
      "\n",
      "Training Set: (1586, 163)\n",
      "Validation Set: (793, 163)\n",
      "Fit fold in 10.6 seconds.\n",
      "matthews: 0.4552\n",
      "roc_auc: 0.8065\n",
      "balanced_accuracy: 0.7357\n",
      "\n",
      "Training Set: (1586, 163)\n",
      "Validation Set: (793, 163)\n",
      "Fit fold in 11.1 seconds.\n",
      "matthews: 0.4151\n",
      "roc_auc: 0.8065\n",
      "balanced_accuracy: 0.7143\n",
      "\n"
     ]
    },
    {
     "data": {
      "text/plain": [
       "EvalResults\n",
       "------------\n",
       "matthews: 0.4569 ± 0.0349\n",
       "roc_auc: 0.8129 ± 0.0091\n",
       "balanced_accuracy: 0.7363 ± 0.0182\n",
       "\n",
       "Saved Attributes: ['estimators', 'preds', 'timing', 'estimator', 'train_subjects', 'val_subjects', 'feat_names', 'ps', 'mean_scores', 'std_scores', 'weighted_mean_scores', 'scores', 'fis_', 'coef_', 'cv']\n",
       "\n",
       "Available Methods: ['to_pickle', 'compare', 'get_X_transform_df', 'get_inverse_fis', 'run_permutation_test', 'get_preds_dfs', 'subset_by', 'get_fis', 'get_coef_', 'permutation_importance']\n",
       "\n",
       "Evaluated With:\n",
       "target: Dependent any drug\n",
       "problem_type: binary\n",
       "scope: all\n",
       "subjects: train\n",
       "random_state: 1\n",
       "n_jobs: 16\n"
      ]
     },
     "execution_count": 20,
     "metadata": {},
     "output_type": "execute_result"
    }
   ],
   "source": [
    "results = bp.evaluate(pipeline=pipe, dataset=data, mute_warnings=True,\n",
    "                      problem_spec=ps, cv=3)\n",
    "results"
   ]
  },
  {
   "cell_type": "markdown",
   "metadata": {},
   "source": [
    "### Other options?\n",
    "\n",
    "What other options do we have to handle site with CV besides just the group splitting?\n",
    "\n",
    "1. Explicit leave-out-site CV: Where every train set is composed of all sites but one, and the validation set is the left out site.\n",
    "\n",
    "2. Use the train-only parameter in CV.\n",
    "\n",
    "3. Only evaluate subjects from sites with both cases and controls.\n",
    "\n",
    "Let's try option 1 first."
   ]
  },
  {
   "cell_type": "markdown",
   "metadata": {},
   "source": [
    "### Leave-out-site CV"
   ]
  },
  {
   "cell_type": "code",
   "execution_count": 21,
   "metadata": {},
   "outputs": [
    {
     "name": "stdout",
     "output_type": "stream",
     "text": [
      "Predicting target = Dependent any drug\n",
      "Using problem_type = binary\n",
      "Using scope = all (defining a total of 163 features).\n",
      "Evaluating 2379 total data points.\n"
     ]
    },
    {
     "data": {
      "application/vnd.jupyter.widget-view+json": {
       "model_id": "871b488fbb884c4787ebb8a5e9a61e95",
       "version_major": 2,
       "version_minor": 0
      },
      "text/plain": [
       "Folds:   0%|          | 0/22 [00:00<?, ?it/s]"
      ]
     },
     "metadata": {},
     "output_type": "display_data"
    },
    {
     "name": "stdout",
     "output_type": "stream",
     "text": [
      "\n",
      "Training Set: (1961, 163)\n",
      "Validation Set: (418, 163)\n",
      "Fit fold in 12.3 seconds.\n",
      "Only one class present in y_true. ROC AUC score is not defined in that case.\n"
     ]
    }
   ],
   "source": [
    "# All we need to do for leave-out-site is specify that splits = Site\n",
    "leave_out_site_cv = bp.CV(splits='Site')\n",
    "\n",
    "# This will actually raise an error\n",
    "try:\n",
    "    results = bp.evaluate(pipeline=pipe, dataset=data, mute_warnings=True,\n",
    "                          problem_spec=ps, cv=leave_out_site_cv)\n",
    "except Exception as exc:\n",
    "    print(exc)"
   ]
  },
  {
   "cell_type": "markdown",
   "metadata": {},
   "source": [
    "Uh oh looks like this option actually failed. What happened? Well basically since we have sites with only one class, we are trying to compute metrics that require two classes. Let's try again this time just using scorers that can work in the case of only one class."
   ]
  },
  {
   "cell_type": "code",
   "execution_count": 22,
   "metadata": {},
   "outputs": [
    {
     "name": "stdout",
     "output_type": "stream",
     "text": [
      "Predicting target = Dependent any drug\n",
      "Using problem_type = binary\n",
      "Using scope = all (defining a total of 163 features).\n",
      "Evaluating 2379 total data points.\n"
     ]
    },
    {
     "data": {
      "application/vnd.jupyter.widget-view+json": {
       "model_id": "0acbb2521ace4ec48ca27814485ab1f3",
       "version_major": 2,
       "version_minor": 0
      },
      "text/plain": [
       "Folds:   0%|          | 0/22 [00:00<?, ?it/s]"
      ]
     },
     "metadata": {},
     "output_type": "display_data"
    },
    {
     "name": "stdout",
     "output_type": "stream",
     "text": [
      "\n",
      "Training Set: (1961, 163)\n",
      "Validation Set: (418, 163)\n",
      "Fit fold in 12.2 seconds.\n",
      "accuracy: 0.8876\n",
      "\n",
      "Training Set: (2227, 163)\n",
      "Validation Set: (152, 163)\n",
      "Fit fold in 12.7 seconds.\n",
      "accuracy: 0.9737\n",
      "\n",
      "Training Set: (2082, 163)\n",
      "Validation Set: (297, 163)\n",
      "Fit fold in 13.1 seconds.\n",
      "accuracy: 0.6667\n",
      "\n",
      "Training Set: (2338, 163)\n",
      "Validation Set: (41, 163)\n",
      "Fit fold in 13.7 seconds.\n",
      "accuracy: 0.5366\n",
      "\n",
      "Training Set: (2345, 163)\n",
      "Validation Set: (34, 163)\n",
      "Fit fold in 13.8 seconds.\n",
      "accuracy: 0.5588\n",
      "\n",
      "Training Set: (2338, 163)\n",
      "Validation Set: (41, 163)\n",
      "Fit fold in 13.6 seconds.\n",
      "accuracy: 0.5122\n",
      "\n",
      "Training Set: (2327, 163)\n",
      "Validation Set: (52, 163)\n",
      "Fit fold in 13.4 seconds.\n",
      "accuracy: 0.7115\n",
      "\n",
      "Training Set: (2348, 163)\n",
      "Validation Set: (31, 163)\n",
      "Fit fold in 13.8 seconds.\n",
      "accuracy: 0.9677\n",
      "\n",
      "Training Set: (2276, 163)\n",
      "Validation Set: (103, 163)\n",
      "Fit fold in 16.9 seconds.\n",
      "accuracy: 0.9709\n",
      "\n",
      "Training Set: (2009, 163)\n",
      "Validation Set: (370, 163)\n",
      "Fit fold in 42.6 seconds.\n",
      "accuracy: 0.5216\n",
      "\n",
      "Training Set: (2308, 163)\n",
      "Validation Set: (71, 163)\n",
      "Fit fold in 52.5 seconds.\n",
      "accuracy: 0.5493\n",
      "\n",
      "Training Set: (2319, 163)\n",
      "Validation Set: (60, 163)\n",
      "Fit fold in 54.0 seconds.\n",
      "accuracy: 0.6333\n",
      "\n",
      "Training Set: (2281, 163)\n",
      "Validation Set: (98, 163)\n",
      "Fit fold in 55.0 seconds.\n",
      "accuracy: 0.8367\n",
      "\n",
      "Training Set: (2313, 163)\n",
      "Validation Set: (66, 163)\n",
      "Fit fold in 50.9 seconds.\n",
      "accuracy: 0.5152\n",
      "\n",
      "Training Set: (2310, 163)\n",
      "Validation Set: (69, 163)\n",
      "Fit fold in 41.9 seconds.\n",
      "accuracy: 0.6087\n",
      "\n",
      "Training Set: (2242, 163)\n",
      "Validation Set: (137, 163)\n",
      "Fit fold in 38.8 seconds.\n",
      "accuracy: 0.4380\n",
      "\n",
      "Training Set: (2338, 163)\n",
      "Validation Set: (41, 163)\n",
      "Fit fold in 41.7 seconds.\n",
      "accuracy: 0.4146\n",
      "\n",
      "Training Set: (2352, 163)\n",
      "Validation Set: (27, 163)\n",
      "Fit fold in 37.8 seconds.\n",
      "accuracy: 0.3704\n",
      "\n",
      "Training Set: (2301, 163)\n",
      "Validation Set: (78, 163)\n",
      "Fit fold in 28.3 seconds.\n",
      "accuracy: 0.5769\n",
      "\n",
      "Training Set: (2279, 163)\n",
      "Validation Set: (100, 163)\n",
      "Fit fold in 12.9 seconds.\n",
      "accuracy: 0.1900\n",
      "\n",
      "Training Set: (2320, 163)\n",
      "Validation Set: (59, 163)\n",
      "Fit fold in 13.4 seconds.\n",
      "accuracy: 0.4915\n",
      "\n",
      "Training Set: (2345, 163)\n",
      "Validation Set: (34, 163)\n",
      "Fit fold in 13.5 seconds.\n",
      "accuracy: 0.6176\n",
      "\n"
     ]
    },
    {
     "data": {
      "text/plain": [
       "({'accuracy': 0.6158889889920363},\n",
       " {'accuracy': 0.20080206748121873},\n",
       " {'accuracy': 0.6620428751576293})"
      ]
     },
     "execution_count": 22,
     "metadata": {},
     "output_type": "execute_result"
    }
   ],
   "source": [
    "results = bp.evaluate(pipeline=pipe, dataset=data, scorer='accuracy', mute_warnings=True,\n",
    "                      problem_spec=ps, cv=leave_out_site_cv)\n",
    "\n",
    "results.mean_scores, results.std_scores, results.weighted_mean_scores"
   ]
  },
  {
   "cell_type": "markdown",
   "metadata": {},
   "source": [
    "The problem here is accuracy is likely a pretty bad metric, especially for the sites which have both cases and controls, but a skewed distribution. In general using the group preserving by Site is likely a better option."
   ]
  },
  {
   "cell_type": "markdown",
   "metadata": {},
   "source": [
    "### Train-only subjects\n",
    "\n",
    "One optional way of handling these subjects from sites with only cases or only controls is to just never evaluate them. To instead always treat them as train subjects. We can notably then either use random splits or group preserving by CV."
   ]
  },
  {
   "cell_type": "code",
   "execution_count": 23,
   "metadata": {},
   "outputs": [],
   "source": [
    "def check_imbalanced(df):\n",
    "    as_int = df['Dependent any drug'].astype('int')\n",
    "    return np.sum(as_int) == len(as_int)\n",
    "\n",
    "# Apply function to check if each site has all the same target variable\n",
    "is_imbalanced = data.groupby('Site').apply(check_imbalanced)\n",
    "\n",
    "# Note these are internal values, not the original ones\n",
    "imbalanced_sites = np.flatnonzero(is_imbalanced)\n",
    "\n",
    "# We can specify just these subjects using the ValueSubset wrapper\n",
    "imbalanced_subjs = bp.ValueSubset('Site', values=imbalanced_sites, decode_values=False)"
   ]
  },
  {
   "cell_type": "code",
   "execution_count": 24,
   "metadata": {},
   "outputs": [
    {
     "name": "stdout",
     "output_type": "stream",
     "text": [
      "Predicting target = Dependent any drug\n",
      "Using problem_type = binary\n",
      "Using scope = all (defining a total of 163 features).\n",
      "Evaluating 2379 total data points.\n"
     ]
    },
    {
     "data": {
      "application/vnd.jupyter.widget-view+json": {
       "model_id": "def8f7c1956f4b72920c5c6c31dd758f",
       "version_major": 2,
       "version_minor": 0
      },
      "text/plain": [
       "Folds:   0%|          | 0/3 [00:00<?, ?it/s]"
      ]
     },
     "metadata": {},
     "output_type": "display_data"
    },
    {
     "name": "stdout",
     "output_type": "stream",
     "text": [
      "\n",
      "Training Set: (1523, 163)\n",
      "Validation Set: (856, 163)\n",
      "Fit fold in 9.8 seconds.\n",
      "matthews: 0.1206\n",
      "roc_auc: 0.5906\n",
      "balanced_accuracy: 0.5603\n",
      "\n",
      "Training Set: (1966, 163)\n",
      "Validation Set: (413, 163)\n",
      "Fit fold in 10.7 seconds.\n",
      "matthews: -0.0383\n",
      "roc_auc: 0.4847\n",
      "balanced_accuracy: 0.4801\n",
      "\n",
      "Training Set: (2071, 163)\n",
      "Validation Set: (308, 163)\n",
      "Fit fold in 12.9 seconds.\n",
      "matthews: 0.0192\n",
      "roc_auc: 0.5318\n",
      "balanced_accuracy: 0.5095\n",
      "\n"
     ]
    },
    {
     "data": {
      "text/plain": [
       "EvalResults\n",
       "------------\n",
       "matthews: 0.0338 ± 0.0657\n",
       "roc_auc: 0.5357 ± 0.0433\n",
       "balanced_accuracy: 0.5166 ± 0.0332\n",
       "\n",
       "Saved Attributes: ['estimators', 'preds', 'timing', 'estimator', 'train_subjects', 'val_subjects', 'feat_names', 'ps', 'mean_scores', 'std_scores', 'weighted_mean_scores', 'scores', 'fis_', 'coef_', 'cv']\n",
       "\n",
       "Available Methods: ['to_pickle', 'compare', 'get_X_transform_df', 'get_inverse_fis', 'run_permutation_test', 'get_preds_dfs', 'subset_by', 'get_fis', 'get_coef_', 'permutation_importance']\n",
       "\n",
       "Evaluated With:\n",
       "target: Dependent any drug\n",
       "problem_type: binary\n",
       "scope: all\n",
       "subjects: train\n",
       "random_state: 1\n",
       "n_jobs: 16\n"
      ]
     },
     "execution_count": 24,
     "metadata": {},
     "output_type": "execute_result"
    }
   ],
   "source": [
    "# Now define our new version of the group site cv\n",
    "site_cv_tr_only = bp.CV(splits=3, cv_strategy=group_site,\n",
    "                        train_only_subjects=imbalanced_subjs)\n",
    "\n",
    "# And evaluate\n",
    "results = bp.evaluate(pipeline=pipe, dataset=data, mute_warnings=True,\n",
    "                      problem_spec=ps, cv=site_cv_tr_only)\n",
    "results"
   ]
  },
  {
   "cell_type": "markdown",
   "metadata": {},
   "source": [
    "The take-away here is maybe a little bleak. Essentially it is saying that some of the high scores we got earlier might have been in large part due to scores from the imbalanced sites."
   ]
  },
  {
   "cell_type": "code",
   "execution_count": 25,
   "metadata": {},
   "outputs": [
    {
     "name": "stdout",
     "output_type": "stream",
     "text": [
      "Predicting target = Dependent any drug\n",
      "Using problem_type = binary\n",
      "Using scope = all (defining a total of 163 features).\n",
      "Evaluating 2379 total data points.\n"
     ]
    },
    {
     "data": {
      "application/vnd.jupyter.widget-view+json": {
       "model_id": "f040d68c84754fcd8ccf87691d7b64c3",
       "version_major": 2,
       "version_minor": 0
      },
      "text/plain": [
       "Folds:   0%|          | 0/3 [00:00<?, ?it/s]"
      ]
     },
     "metadata": {},
     "output_type": "display_data"
    },
    {
     "name": "stdout",
     "output_type": "stream",
     "text": [
      "\n",
      "Training Set: (1853, 163)\n",
      "Validation Set: (526, 163)\n",
      "Fit fold in 12.0 seconds.\n",
      "matthews: 0.2158\n",
      "roc_auc: 0.6423\n",
      "balanced_accuracy: 0.6027\n",
      "\n",
      "Training Set: (1853, 163)\n",
      "Validation Set: (526, 163)\n",
      "Fit fold in 11.9 seconds.\n",
      "matthews: 0.2744\n",
      "roc_auc: 0.6635\n",
      "balanced_accuracy: 0.6244\n",
      "\n",
      "Training Set: (1854, 163)\n",
      "Validation Set: (525, 163)\n",
      "Fit fold in 11.7 seconds.\n",
      "matthews: 0.2293\n",
      "roc_auc: 0.6671\n",
      "balanced_accuracy: 0.6117\n",
      "\n"
     ]
    },
    {
     "data": {
      "text/plain": [
       "EvalResults\n",
       "------------\n",
       "matthews: 0.2398 ± 0.0251\n",
       "roc_auc: 0.6576 ± 0.0109\n",
       "balanced_accuracy: 0.6129 ± 0.0089\n",
       "\n",
       "Saved Attributes: ['estimators', 'preds', 'timing', 'estimator', 'train_subjects', 'val_subjects', 'feat_names', 'ps', 'mean_scores', 'std_scores', 'weighted_mean_scores', 'scores', 'fis_', 'coef_', 'cv']\n",
       "\n",
       "Available Methods: ['to_pickle', 'compare', 'get_X_transform_df', 'get_inverse_fis', 'run_permutation_test', 'get_preds_dfs', 'subset_by', 'get_fis', 'get_coef_', 'permutation_importance']\n",
       "\n",
       "Evaluated With:\n",
       "target: Dependent any drug\n",
       "problem_type: binary\n",
       "scope: all\n",
       "subjects: train\n",
       "random_state: 1\n",
       "n_jobs: 16\n"
      ]
     },
     "execution_count": 25,
     "metadata": {},
     "output_type": "execute_result"
    }
   ],
   "source": [
    "# And we can also run a version with just random splits\n",
    "tr_only_cv = bp.CV(splits=3, train_only_subjects=imbalanced_subjs)\n",
    "\n",
    "# And evaluate\n",
    "results = bp.evaluate(pipeline=pipe, dataset=data, mute_warnings=True,\n",
    "                      problem_spec=ps, cv=tr_only_cv)\n",
    "results"
   ]
  },
  {
   "cell_type": "markdown",
   "metadata": {},
   "source": [
    "While this version with random splits does better, we are still notably ignoring the distribution of case to control in the sites with both cases and controls. Based on the group preserving results what it seems like is going on is that when subjects from the same site are split across validation folds, the classifier might be able to just memorize Site instead of the effect of interest. Lets use Site 29 as an example.\n",
    "\n",
    "Let's look at just fold 1 first."
   ]
  },
  {
   "cell_type": "code",
   "execution_count": 26,
   "metadata": {},
   "outputs": [
    {
     "data": {
      "image/png": "[encoded data removed]",
      "text/plain": [
       "<Figure size 432x288 with 2 Axes>"
      ]
     },
     "metadata": {
      "needs_background": "light"
     },
     "output_type": "display_data"
    },
    {
     "data": {
      "image/png": "[encoded data removed]",
      "text/plain": [
       "<Figure size 432x288 with 2 Axes>"
      ]
     },
     "metadata": {
      "needs_background": "light"
     },
     "output_type": "display_data"
    },
    {
     "data": {
      "text/html": [
       "<div>\n",
       "<style scoped>\n",
       "    .dataframe tbody tr th:only-of-type {\n",
       "        vertical-align: middle;\n",
       "    }\n",
       "\n",
       "    .dataframe tbody tr th {\n",
       "        vertical-align: top;\n",
       "    }\n",
       "\n",
       "    .dataframe thead th {\n",
       "        text-align: right;\n",
       "    }\n",
       "</style>\n",
       "<table border=\"1\" class=\"dataframe\">\n",
       "  <thead>\n",
       "    <tr style=\"text-align: right;\">\n",
       "      <th></th>\n",
       "      <th>predict</th>\n",
       "      <th>predict_proba_0</th>\n",
       "      <th>predict_proba_1</th>\n",
       "      <th>decision_function</th>\n",
       "      <th>y_true</th>\n",
       "    </tr>\n",
       "  </thead>\n",
       "  <tbody>\n",
       "    <tr>\n",
       "      <th>3423</th>\n",
       "      <td>0.0</td>\n",
       "      <td>0.945376</td>\n",
       "      <td>0.054624</td>\n",
       "      <td>-2.851100</td>\n",
       "      <td>0.0</td>\n",
       "    </tr>\n",
       "    <tr>\n",
       "      <th>3429</th>\n",
       "      <td>0.0</td>\n",
       "      <td>0.599303</td>\n",
       "      <td>0.400697</td>\n",
       "      <td>-0.402563</td>\n",
       "      <td>0.0</td>\n",
       "    </tr>\n",
       "    <tr>\n",
       "      <th>3434</th>\n",
       "      <td>0.0</td>\n",
       "      <td>0.951860</td>\n",
       "      <td>0.048140</td>\n",
       "      <td>-2.984311</td>\n",
       "      <td>0.0</td>\n",
       "    </tr>\n",
       "    <tr>\n",
       "      <th>3437</th>\n",
       "      <td>0.0</td>\n",
       "      <td>0.920583</td>\n",
       "      <td>0.079417</td>\n",
       "      <td>-2.450294</td>\n",
       "      <td>0.0</td>\n",
       "    </tr>\n",
       "    <tr>\n",
       "      <th>3442</th>\n",
       "      <td>0.0</td>\n",
       "      <td>0.902140</td>\n",
       "      <td>0.097860</td>\n",
       "      <td>-2.221230</td>\n",
       "      <td>0.0</td>\n",
       "    </tr>\n",
       "    <tr>\n",
       "      <th>3443</th>\n",
       "      <td>0.0</td>\n",
       "      <td>0.907493</td>\n",
       "      <td>0.092507</td>\n",
       "      <td>-2.283404</td>\n",
       "      <td>0.0</td>\n",
       "    </tr>\n",
       "    <tr>\n",
       "      <th>3447</th>\n",
       "      <td>0.0</td>\n",
       "      <td>0.914446</td>\n",
       "      <td>0.085554</td>\n",
       "      <td>-2.369173</td>\n",
       "      <td>0.0</td>\n",
       "    </tr>\n",
       "    <tr>\n",
       "      <th>3453</th>\n",
       "      <td>0.0</td>\n",
       "      <td>0.941718</td>\n",
       "      <td>0.058282</td>\n",
       "      <td>-2.782408</td>\n",
       "      <td>0.0</td>\n",
       "    </tr>\n",
       "    <tr>\n",
       "      <th>3455</th>\n",
       "      <td>0.0</td>\n",
       "      <td>0.755571</td>\n",
       "      <td>0.244429</td>\n",
       "      <td>-1.128549</td>\n",
       "      <td>0.0</td>\n",
       "    </tr>\n",
       "    <tr>\n",
       "      <th>3458</th>\n",
       "      <td>0.0</td>\n",
       "      <td>0.790931</td>\n",
       "      <td>0.209069</td>\n",
       "      <td>-1.330544</td>\n",
       "      <td>0.0</td>\n",
       "    </tr>\n",
       "    <tr>\n",
       "      <th>3459</th>\n",
       "      <td>0.0</td>\n",
       "      <td>0.882284</td>\n",
       "      <td>0.117716</td>\n",
       "      <td>-2.014240</td>\n",
       "      <td>0.0</td>\n",
       "    </tr>\n",
       "    <tr>\n",
       "      <th>3462</th>\n",
       "      <td>0.0</td>\n",
       "      <td>0.974263</td>\n",
       "      <td>0.025737</td>\n",
       "      <td>-3.633753</td>\n",
       "      <td>0.0</td>\n",
       "    </tr>\n",
       "    <tr>\n",
       "      <th>3470</th>\n",
       "      <td>0.0</td>\n",
       "      <td>0.945040</td>\n",
       "      <td>0.054960</td>\n",
       "      <td>-2.844625</td>\n",
       "      <td>0.0</td>\n",
       "    </tr>\n",
       "    <tr>\n",
       "      <th>3478</th>\n",
       "      <td>0.0</td>\n",
       "      <td>0.958546</td>\n",
       "      <td>0.041454</td>\n",
       "      <td>-3.140833</td>\n",
       "      <td>0.0</td>\n",
       "    </tr>\n",
       "    <tr>\n",
       "      <th>3479</th>\n",
       "      <td>0.0</td>\n",
       "      <td>0.900991</td>\n",
       "      <td>0.099009</td>\n",
       "      <td>-2.208289</td>\n",
       "      <td>0.0</td>\n",
       "    </tr>\n",
       "    <tr>\n",
       "      <th>3482</th>\n",
       "      <td>0.0</td>\n",
       "      <td>0.943147</td>\n",
       "      <td>0.056853</td>\n",
       "      <td>-2.808756</td>\n",
       "      <td>0.0</td>\n",
       "    </tr>\n",
       "    <tr>\n",
       "      <th>3484</th>\n",
       "      <td>0.0</td>\n",
       "      <td>0.661231</td>\n",
       "      <td>0.338769</td>\n",
       "      <td>-0.668783</td>\n",
       "      <td>0.0</td>\n",
       "    </tr>\n",
       "    <tr>\n",
       "      <th>3485</th>\n",
       "      <td>0.0</td>\n",
       "      <td>0.916206</td>\n",
       "      <td>0.083794</td>\n",
       "      <td>-2.391876</td>\n",
       "      <td>0.0</td>\n",
       "    </tr>\n",
       "    <tr>\n",
       "      <th>3486</th>\n",
       "      <td>0.0</td>\n",
       "      <td>0.949767</td>\n",
       "      <td>0.050233</td>\n",
       "      <td>-2.939537</td>\n",
       "      <td>0.0</td>\n",
       "    </tr>\n",
       "    <tr>\n",
       "      <th>3494</th>\n",
       "      <td>0.0</td>\n",
       "      <td>0.859889</td>\n",
       "      <td>0.140111</td>\n",
       "      <td>-1.814367</td>\n",
       "      <td>0.0</td>\n",
       "    </tr>\n",
       "    <tr>\n",
       "      <th>3497</th>\n",
       "      <td>0.0</td>\n",
       "      <td>0.951393</td>\n",
       "      <td>0.048607</td>\n",
       "      <td>-2.974170</td>\n",
       "      <td>0.0</td>\n",
       "    </tr>\n",
       "    <tr>\n",
       "      <th>3498</th>\n",
       "      <td>0.0</td>\n",
       "      <td>0.864653</td>\n",
       "      <td>0.135347</td>\n",
       "      <td>-1.854482</td>\n",
       "      <td>0.0</td>\n",
       "    </tr>\n",
       "    <tr>\n",
       "      <th>3502</th>\n",
       "      <td>0.0</td>\n",
       "      <td>0.889999</td>\n",
       "      <td>0.110001</td>\n",
       "      <td>-2.090727</td>\n",
       "      <td>0.0</td>\n",
       "    </tr>\n",
       "    <tr>\n",
       "      <th>3503</th>\n",
       "      <td>0.0</td>\n",
       "      <td>0.937523</td>\n",
       "      <td>0.062477</td>\n",
       "      <td>-2.708447</td>\n",
       "      <td>1.0</td>\n",
       "    </tr>\n",
       "    <tr>\n",
       "      <th>3507</th>\n",
       "      <td>0.0</td>\n",
       "      <td>0.961760</td>\n",
       "      <td>0.038240</td>\n",
       "      <td>-3.224875</td>\n",
       "      <td>0.0</td>\n",
       "    </tr>\n",
       "    <tr>\n",
       "      <th>3509</th>\n",
       "      <td>0.0</td>\n",
       "      <td>0.956173</td>\n",
       "      <td>0.043827</td>\n",
       "      <td>-3.082695</td>\n",
       "      <td>0.0</td>\n",
       "    </tr>\n",
       "    <tr>\n",
       "      <th>3512</th>\n",
       "      <td>0.0</td>\n",
       "      <td>0.901781</td>\n",
       "      <td>0.098219</td>\n",
       "      <td>-2.217176</td>\n",
       "      <td>0.0</td>\n",
       "    </tr>\n",
       "    <tr>\n",
       "      <th>3517</th>\n",
       "      <td>0.0</td>\n",
       "      <td>0.974404</td>\n",
       "      <td>0.025596</td>\n",
       "      <td>-3.639398</td>\n",
       "      <td>0.0</td>\n",
       "    </tr>\n",
       "    <tr>\n",
       "      <th>3521</th>\n",
       "      <td>0.0</td>\n",
       "      <td>0.662523</td>\n",
       "      <td>0.337477</td>\n",
       "      <td>-0.674556</td>\n",
       "      <td>0.0</td>\n",
       "    </tr>\n",
       "    <tr>\n",
       "      <th>3523</th>\n",
       "      <td>0.0</td>\n",
       "      <td>0.694125</td>\n",
       "      <td>0.305875</td>\n",
       "      <td>-0.819476</td>\n",
       "      <td>0.0</td>\n",
       "    </tr>\n",
       "  </tbody>\n",
       "</table>\n",
       "</div>"
      ],
      "text/plain": [
       "      predict  predict_proba_0  predict_proba_1  decision_function  y_true\n",
       "3423      0.0         0.945376         0.054624          -2.851100     0.0\n",
       "3429      0.0         0.599303         0.400697          -0.402563     0.0\n",
       "3434      0.0         0.951860         0.048140          -2.984311     0.0\n",
       "3437      0.0         0.920583         0.079417          -2.450294     0.0\n",
       "3442      0.0         0.902140         0.097860          -2.221230     0.0\n",
       "3443      0.0         0.907493         0.092507          -2.283404     0.0\n",
       "3447      0.0         0.914446         0.085554          -2.369173     0.0\n",
       "3453      0.0         0.941718         0.058282          -2.782408     0.0\n",
       "3455      0.0         0.755571         0.244429          -1.128549     0.0\n",
       "3458      0.0         0.790931         0.209069          -1.330544     0.0\n",
       "3459      0.0         0.882284         0.117716          -2.014240     0.0\n",
       "3462      0.0         0.974263         0.025737          -3.633753     0.0\n",
       "3470      0.0         0.945040         0.054960          -2.844625     0.0\n",
       "3478      0.0         0.958546         0.041454          -3.140833     0.0\n",
       "3479      0.0         0.900991         0.099009          -2.208289     0.0\n",
       "3482      0.0         0.943147         0.056853          -2.808756     0.0\n",
       "3484      0.0         0.661231         0.338769          -0.668783     0.0\n",
       "3485      0.0         0.916206         0.083794          -2.391876     0.0\n",
       "3486      0.0         0.949767         0.050233          -2.939537     0.0\n",
       "3494      0.0         0.859889         0.140111          -1.814367     0.0\n",
       "3497      0.0         0.951393         0.048607          -2.974170     0.0\n",
       "3498      0.0         0.864653         0.135347          -1.854482     0.0\n",
       "3502      0.0         0.889999         0.110001          -2.090727     0.0\n",
       "3503      0.0         0.937523         0.062477          -2.708447     1.0\n",
       "3507      0.0         0.961760         0.038240          -3.224875     0.0\n",
       "3509      0.0         0.956173         0.043827          -3.082695     0.0\n",
       "3512      0.0         0.901781         0.098219          -2.217176     0.0\n",
       "3517      0.0         0.974404         0.025596          -3.639398     0.0\n",
       "3521      0.0         0.662523         0.337477          -0.674556     0.0\n",
       "3523      0.0         0.694125         0.305875          -0.819476     0.0"
      ]
     },
     "execution_count": 26,
     "metadata": {},
     "output_type": "execute_result"
    }
   ],
   "source": [
    "# The train and val subjects from fold 0\n",
    "tr_subjs = results.train_subjects[0]\n",
    "val_subjs = results.val_subjects[0]\n",
    "\n",
    "# An object specifying just site 29's subjects\n",
    "site29 = bp.ValueSubset('Site', 29, decode_values=True)\n",
    "\n",
    "# Get the intersection w/ intersection obj\n",
    "site_29_tr = bp.Intersection([tr_subjs, site29])\n",
    "site_29_val = bp.Intersection([val_subjs, site29])\n",
    "\n",
    "# Plot\n",
    "data.plot_bivar('Site', 'Dependent any drug', subjects=bp.Intersection([tr_subjs, site29]))\n",
    "data.plot_bivar('Site', 'Dependent any drug', subjects=bp.Intersection([val_subjs, site29]))\n",
    "\n",
    "# Grab just the subjects as actual index\n",
    "val_subjs = data.get_subjects(site_29_val)\n",
    "\n",
    "# Get a dataframe with the predictions made for just fold0\n",
    "preds_df_fold0 = results.get_preds_dfs()[0]\n",
    "\n",
    "# Let's see predictions for just these validation subjects\n",
    "preds_df_fold0.loc[val_subjs]"
   ]
  },
  {
   "cell_type": "markdown",
   "metadata": {},
   "source": [
    "We can see that it has learned to just predict 0 for every subject, which because of the imbalance is right most of the time, but really doesn't tell us if it has learned to predict site or substance dependence."
   ]
  },
  {
   "cell_type": "markdown",
   "metadata": {},
   "source": [
    "### Drop imbalanced subjects\n",
    "The last option was just don't use the imbalanced subjects at all. We will do this by indexing only the balanced sites"
   ]
  },
  {
   "cell_type": "code",
   "execution_count": 27,
   "metadata": {},
   "outputs": [],
   "source": [
    "# Note the ~ before the previously defined is_imbalanced\n",
    "balanced_sites = np.flatnonzero(~is_imbalanced)\n",
    "\n",
    "# We can specify just these subjects using the ValueSubset wrapper\n",
    "balanced_subjs = bp.ValueSubset('Site', values=balanced_sites, decode_values=False)"
   ]
  },
  {
   "cell_type": "code",
   "execution_count": 28,
   "metadata": {},
   "outputs": [
    {
     "name": "stdout",
     "output_type": "stream",
     "text": [
      "Predicting target = Dependent any drug\n",
      "Using problem_type = binary\n",
      "Using scope = all (defining a total of 163 features).\n",
      "Evaluating 1577 total data points.\n"
     ]
    },
    {
     "data": {
      "application/vnd.jupyter.widget-view+json": {
       "model_id": "4a863c3db76747cc86575de3a795928c",
       "version_major": 2,
       "version_minor": 0
      },
      "text/plain": [
       "Folds:   0%|          | 0/3 [00:00<?, ?it/s]"
      ]
     },
     "metadata": {},
     "output_type": "display_data"
    },
    {
     "name": "stdout",
     "output_type": "stream",
     "text": [
      "\n",
      "Training Set: (721, 163)\n",
      "Validation Set: (856, 163)\n",
      "Fit fold in 7.2 seconds.\n",
      "matthews: 0.2823\n",
      "roc_auc: 0.6872\n",
      "balanced_accuracy: 0.6371\n",
      "\n",
      "Training Set: (1164, 163)\n",
      "Validation Set: (413, 163)\n",
      "Fit fold in 8.2 seconds.\n",
      "matthews: 0.3120\n",
      "roc_auc: 0.7122\n",
      "balanced_accuracy: 0.6628\n",
      "\n",
      "Training Set: (1269, 163)\n",
      "Validation Set: (308, 163)\n",
      "Fit fold in 8.6 seconds.\n",
      "matthews: 0.1100\n",
      "roc_auc: 0.5472\n",
      "balanced_accuracy: 0.5451\n",
      "\n"
     ]
    },
    {
     "data": {
      "text/plain": [
       "EvalResults\n",
       "------------\n",
       "matthews: 0.2348 ± 0.0891\n",
       "roc_auc: 0.6489 ± 0.0726\n",
       "balanced_accuracy: 0.6150 ± 0.0505\n",
       "\n",
       "Saved Attributes: ['estimators', 'preds', 'timing', 'estimator', 'train_subjects', 'val_subjects', 'feat_names', 'ps', 'mean_scores', 'std_scores', 'weighted_mean_scores', 'scores', 'fis_', 'coef_', 'cv']\n",
       "\n",
       "Available Methods: ['to_pickle', 'compare', 'get_X_transform_df', 'get_inverse_fis', 'run_permutation_test', 'get_preds_dfs', 'subset_by', 'get_fis', 'get_coef_', 'permutation_importance']\n",
       "\n",
       "Evaluated With:\n",
       "target: Dependent any drug\n",
       "problem_type: binary\n",
       "scope: all\n",
       "subjects: Intersection(['train', ValueSubset(name=Site, values=[ 2  3  4  5  6  7 11 12 13 14 16 17 18 19 20 21 22 23 24 25 26 27], decode_values=False)])\n",
       "random_state: 1\n",
       "n_jobs: 16\n"
      ]
     },
     "execution_count": 28,
     "metadata": {},
     "output_type": "execute_result"
    }
   ],
   "source": [
    "# Evaluate with site preserving cv from earlier but now using just the balanced train subjects\n",
    "train_just_balanced = bp.Intersection(['train', balanced_subjs])\n",
    "\n",
    "results = bp.evaluate(pipeline=pipe, dataset=data, mute_warnings=True,\n",
    "                      subjects=train_just_balanced,\n",
    "                      problem_spec=ps, cv=site_cv)\n",
    "results"
   ]
  },
  {
   "cell_type": "markdown",
   "metadata": {},
   "source": [
    "This actually seems to show that the imbalanced site confound with doesn't just corrupt cross validated results, but also actively impedes the model learning the real relationship. That we are better off just not using subjects with from sites with only cases. Yikes. \n",
    "\n",
    "Likewise, we can do the random split strategy again too."
   ]
  },
  {
   "cell_type": "code",
   "execution_count": 29,
   "metadata": {},
   "outputs": [
    {
     "name": "stdout",
     "output_type": "stream",
     "text": [
      "Predicting target = Dependent any drug\n",
      "Using problem_type = binary\n",
      "Using scope = all (defining a total of 163 features).\n",
      "Evaluating 1577 total data points.\n"
     ]
    },
    {
     "data": {
      "application/vnd.jupyter.widget-view+json": {
       "model_id": "9c2b1a5b2b844e88aa58c515d09c9042",
       "version_major": 2,
       "version_minor": 0
      },
      "text/plain": [
       "Folds:   0%|          | 0/3 [00:00<?, ?it/s]"
      ]
     },
     "metadata": {},
     "output_type": "display_data"
    },
    {
     "name": "stdout",
     "output_type": "stream",
     "text": [
      "\n",
      "Training Set: (1051, 163)\n",
      "Validation Set: (526, 163)\n",
      "Fit fold in 7.9 seconds.\n",
      "matthews: 0.2440\n",
      "roc_auc: 0.6838\n",
      "balanced_accuracy: 0.6214\n",
      "\n",
      "Training Set: (1051, 163)\n",
      "Validation Set: (526, 163)\n",
      "Fit fold in 7.9 seconds.\n",
      "matthews: 0.3516\n",
      "roc_auc: 0.7424\n",
      "balanced_accuracy: 0.6642\n",
      "\n",
      "Training Set: (1052, 163)\n",
      "Validation Set: (525, 163)\n",
      "Fit fold in 7.8 seconds.\n",
      "matthews: 0.3159\n",
      "roc_auc: 0.7137\n",
      "balanced_accuracy: 0.6586\n",
      "\n"
     ]
    },
    {
     "data": {
      "text/plain": [
       "EvalResults\n",
       "------------\n",
       "matthews: 0.3038 ± 0.0447\n",
       "roc_auc: 0.7133 ± 0.0239\n",
       "balanced_accuracy: 0.6481 ± 0.0190\n",
       "\n",
       "Saved Attributes: ['estimators', 'preds', 'timing', 'estimator', 'train_subjects', 'val_subjects', 'feat_names', 'ps', 'mean_scores', 'std_scores', 'weighted_mean_scores', 'scores', 'fis_', 'coef_', 'cv']\n",
       "\n",
       "Available Methods: ['to_pickle', 'compare', 'get_X_transform_df', 'get_inverse_fis', 'run_permutation_test', 'get_preds_dfs', 'subset_by', 'get_fis', 'get_coef_', 'permutation_importance']\n",
       "\n",
       "Evaluated With:\n",
       "target: Dependent any drug\n",
       "problem_type: binary\n",
       "scope: all\n",
       "subjects: Intersection(['train', ValueSubset(name=Site, values=[ 2  3  4  5  6  7 11 12 13 14 16 17 18 19 20 21 22 23 24 25 26 27], decode_values=False)])\n",
       "random_state: 1\n",
       "n_jobs: 16\n"
      ]
     },
     "execution_count": 29,
     "metadata": {},
     "output_type": "execute_result"
    }
   ],
   "source": [
    "results = bp.evaluate(pipeline=pipe, dataset=data, mute_warnings=True,\n",
    "                      subjects=train_just_balanced,\n",
    "                      problem_spec=ps, cv=bp.CV(splits=3))\n",
    "results"
   ]
  },
  {
   "cell_type": "markdown",
   "metadata": {},
   "source": [
    "Also, we could run it with a leave-out-site CV. Now we can use the normal metrics."
   ]
  },
  {
   "cell_type": "code",
   "execution_count": 30,
   "metadata": {},
   "outputs": [
    {
     "name": "stdout",
     "output_type": "stream",
     "text": [
      "Predicting target = Dependent any drug\n",
      "Using problem_type = binary\n",
      "Using scope = all (defining a total of 163 features).\n",
      "Evaluating 1577 total data points.\n"
     ]
    },
    {
     "data": {
      "application/vnd.jupyter.widget-view+json": {
       "model_id": "c5c69c27271346008da7d6fc270b8195",
       "version_major": 2,
       "version_minor": 0
      },
      "text/plain": [
       "Folds:   0%|          | 0/17 [00:00<?, ?it/s]"
      ]
     },
     "metadata": {},
     "output_type": "display_data"
    },
    {
     "name": "stdout",
     "output_type": "stream",
     "text": [
      "\n",
      "Training Set: (1280, 163)\n",
      "Validation Set: (297, 163)\n",
      "Fit fold in 8.6 seconds.\n",
      "matthews: 0.3240\n",
      "roc_auc: 0.7394\n",
      "balanced_accuracy: 0.6631\n",
      "\n",
      "Training Set: (1536, 163)\n",
      "Validation Set: (41, 163)\n",
      "Fit fold in 9.7 seconds.\n",
      "matthews: -0.2003\n",
      "roc_auc: 0.5411\n",
      "balanced_accuracy: 0.4565\n",
      "\n",
      "Training Set: (1543, 163)\n",
      "Validation Set: (34, 163)\n",
      "Fit fold in 9.5 seconds.\n",
      "matthews: -0.0344\n",
      "roc_auc: 0.4912\n",
      "balanced_accuracy: 0.4877\n",
      "\n",
      "Training Set: (1536, 163)\n",
      "Validation Set: (41, 163)\n",
      "Fit fold in 9.6 seconds.\n",
      "matthews: -0.0202\n",
      "roc_auc: 0.5789\n",
      "balanced_accuracy: 0.4916\n",
      "\n",
      "Training Set: (1525, 163)\n",
      "Validation Set: (52, 163)\n",
      "Fit fold in 9.1 seconds.\n",
      "matthews: 0.3536\n",
      "roc_auc: 0.6905\n",
      "balanced_accuracy: 0.6280\n",
      "\n",
      "Training Set: (1207, 163)\n",
      "Validation Set: (370, 163)\n",
      "Fit fold in 8.9 seconds.\n",
      "matthews: 0.2365\n",
      "roc_auc: 0.6651\n",
      "balanced_accuracy: 0.6057\n",
      "\n",
      "Training Set: (1506, 163)\n",
      "Validation Set: (71, 163)\n",
      "Fit fold in 9.2 seconds.\n",
      "matthews: 0.0000\n",
      "roc_auc: 0.5223\n",
      "balanced_accuracy: 0.5000\n",
      "\n",
      "Training Set: (1517, 163)\n",
      "Validation Set: (60, 163)\n",
      "Fit fold in 9.5 seconds.\n",
      "matthews: 0.0000\n",
      "roc_auc: 0.4854\n",
      "balanced_accuracy: 0.5000\n",
      "\n",
      "Training Set: (1511, 163)\n",
      "Validation Set: (66, 163)\n",
      "Fit fold in 10.1 seconds.\n",
      "matthews: 0.4140\n",
      "roc_auc: 0.8328\n",
      "balanced_accuracy: 0.7095\n",
      "\n",
      "Training Set: (1508, 163)\n",
      "Validation Set: (69, 163)\n",
      "Fit fold in 10.7 seconds.\n",
      "matthews: 0.2926\n",
      "roc_auc: 0.7182\n",
      "balanced_accuracy: 0.6401\n",
      "\n",
      "Training Set: (1440, 163)\n",
      "Validation Set: (137, 163)\n",
      "Fit fold in 10.8 seconds.\n",
      "matthews: 0.1158\n",
      "roc_auc: 0.5805\n",
      "balanced_accuracy: 0.5601\n",
      "\n",
      "Training Set: (1536, 163)\n",
      "Validation Set: (41, 163)\n",
      "Fit fold in 10.3 seconds.\n",
      "matthews: 0.3055\n",
      "roc_auc: 0.7636\n",
      "balanced_accuracy: 0.6682\n",
      "\n",
      "Training Set: (1550, 163)\n",
      "Validation Set: (27, 163)\n",
      "Fit fold in 9.6 seconds.\n",
      "matthews: -0.1099\n",
      "roc_auc: 0.4176\n",
      "balanced_accuracy: 0.4451\n",
      "\n",
      "Training Set: (1499, 163)\n",
      "Validation Set: (78, 163)\n",
      "Fit fold in 9.7 seconds.\n",
      "matthews: 0.2683\n",
      "roc_auc: 0.6789\n",
      "balanced_accuracy: 0.5934\n",
      "\n",
      "Training Set: (1477, 163)\n",
      "Validation Set: (100, 163)\n",
      "Fit fold in 9.4 seconds.\n",
      "matthews: 0.0000\n",
      "roc_auc: 0.4716\n",
      "balanced_accuracy: 0.5000\n",
      "\n",
      "Training Set: (1518, 163)\n",
      "Validation Set: (59, 163)\n",
      "Fit fold in 9.5 seconds.\n",
      "matthews: -0.1336\n",
      "roc_auc: 0.4632\n",
      "balanced_accuracy: 0.4828\n",
      "\n",
      "Training Set: (1543, 163)\n",
      "Validation Set: (34, 163)\n",
      "Fit fold in 9.1 seconds.\n",
      "matthews: 0.3300\n",
      "roc_auc: 0.6771\n",
      "balanced_accuracy: 0.5938\n",
      "\n"
     ]
    },
    {
     "data": {
      "text/plain": [
       "EvalResults\n",
       "------------\n",
       "matthews: 0.1260 ± 0.1929\n",
       "roc_auc: 0.6069 ± 0.1193\n",
       "balanced_accuracy: 0.5603 ± 0.0807\n",
       "\n",
       "Saved Attributes: ['estimators', 'preds', 'timing', 'estimator', 'train_subjects', 'val_subjects', 'feat_names', 'ps', 'mean_scores', 'std_scores', 'weighted_mean_scores', 'scores', 'fis_', 'coef_', 'cv']\n",
       "\n",
       "Available Methods: ['to_pickle', 'compare', 'get_X_transform_df', 'get_inverse_fis', 'run_permutation_test', 'get_preds_dfs', 'subset_by', 'get_fis', 'get_coef_', 'permutation_importance']\n",
       "\n",
       "Evaluated With:\n",
       "target: Dependent any drug\n",
       "problem_type: binary\n",
       "scope: all\n",
       "subjects: Intersection(['train', ValueSubset(name=Site, values=[ 2  3  4  5  6  7 11 12 13 14 16 17 18 19 20 21 22 23 24 25 26 27], decode_values=False)])\n",
       "random_state: 1\n",
       "n_jobs: 16\n"
      ]
     },
     "execution_count": 30,
     "metadata": {},
     "output_type": "execute_result"
    }
   ],
   "source": [
    "results = bp.evaluate(pipeline=pipe, dataset=data, mute_warnings=True,\n",
    "                      subjects=train_just_balanced,\n",
    "                      problem_spec=ps, cv=leave_out_site_cv)\n",
    "results"
   ]
  },
  {
   "cell_type": "markdown",
   "metadata": {},
   "source": [
    "### Results Summary\n",
    "\n",
    "To summarize, of all of the above different iterations. Only the results from the versions where subjects from case-only sites are treated as train-only or dropped and evaluated group-preserving by site are likely un-biased! The leave-out-site CV results should be okay too, but let's skip those for now.\n",
    "\n",
    "Train Only Scores:\n",
    "mean_scores = {'matthews': 0.024294039432900597, 'roc_auc': 0.5292721521624003, 'balanced_accuracy': 0.5116503104881627}\n",
    "\n",
    "Dropped Scores:\n",
    "mean_scores = {'matthews': 0.23079311975258734, 'roc_auc': 0.6494071534373412, 'balanced_accuracy': 0.6141868842892168}\n",
    "\n",
    "By these interm results we can with some confidence conclude dropping subjects is the way to go, unless we want to dig deeper..."
   ]
  },
  {
   "cell_type": "markdown",
   "metadata": {},
   "source": [
    "### Disentangle Target and Site?\n",
    "\n",
    "Can information on dependance from case-only sites be some how disentangled from site?\n",
    "\n",
    "This actually leads to a follow up a question. Namely is there any way to extract usable information from case-only site subjects? This question I actually investigated more deeply in https://onlinelibrary.wiley.com/doi/full/10.1002/hbm.25248 The idea of train-only subjects is actually from this paper, though it still has some important differences then the way we formulated it. \n",
    "\n",
    "The key piece in the paper which we haven't tried to do yet is centered around the problem of the classifier learning site related information instead of dependence related information in the train-only setup. We essentially need a way of forcing the classifier to learn this. The way proposed in the paper proposes that maybe we can by restricting the features provided to the classifier, give it only features related to dependence and not those related to site. In order to do this, we need to add a feature selection step.\n",
    "\n",
    "There are different ways to compose the problem, but we will specify the feature selection step as a seperate layer of nesting, importantly one that is evaluated according to the same site_cv_tr_only that we will be evaluating with. Remember the goal here is to select features which help us learn to predict useful information from case only sites, i.e., with feature only related to Dependence and not site!"
   ]
  },
  {
   "cell_type": "code",
   "execution_count": 31,
   "metadata": {},
   "outputs": [],
   "source": [
    "# Same imputer and scaler\n",
    "imputers = [bp.Imputer(obj='mean', scope='float'),\n",
    "            bp.Imputer(obj='median', scope='category')]\n",
    "scaler = bp.Scaler('standard')\n",
    "\n",
    "# This object will be used to set features as an array of binary hyper-parameters\n",
    "feat_selector = bp.FeatSelector('selector', params=1)\n",
    "\n",
    "# This param search is responsible for optimizing the selected features from feat_selector\n",
    "param_search = bp.ParamSearch('RandomSearch',\n",
    "                              n_iter=16,\n",
    "                              cv=site_cv_tr_only)\n",
    "\n",
    "# We create a nested elastic net model to optimize - no particular CV should be okay\n",
    "random_search = bp.ParamSearch('RandomSearch', n_iter=16)\n",
    "elastic_search = bp.Model('elastic', params=1,\n",
    "                          param_search=random_search)\n",
    "\n",
    "# Put it all together in a pipeline\n",
    "fs_pipe = bp.Pipeline(imputers + [scaler, feat_selector, elastic_search],\n",
    "                      param_search=param_search)"
   ]
  },
  {
   "cell_type": "markdown",
   "metadata": {},
   "source": [
    "Note: This may take a while to evaluate as we now have two levels of parameters to optimize, e.g., for each choice\n",
    "of features, we need to train a nested elastic net."
   ]
  },
  {
   "cell_type": "code",
   "execution_count": 32,
   "metadata": {},
   "outputs": [
    {
     "name": "stdout",
     "output_type": "stream",
     "text": [
      "Predicting target = Dependent any drug\n",
      "Using problem_type = binary\n",
      "Using scope = all (defining a total of 163 features).\n",
      "Evaluating 2379 total data points.\n"
     ]
    },
    {
     "data": {
      "application/vnd.jupyter.widget-view+json": {
       "model_id": "bad593d7db7e487e98a76502fdb2c62e",
       "version_major": 2,
       "version_minor": 0
      },
      "text/plain": [
       "Folds:   0%|          | 0/3 [00:00<?, ?it/s]"
      ]
     },
     "metadata": {},
     "output_type": "display_data"
    },
    {
     "name": "stdout",
     "output_type": "stream",
     "text": [
      "\n",
      "Training Set: (1523, 163)\n",
      "Validation Set: (856, 163)\n",
      "Fit fold in 62.3 seconds.\n",
      "matthews: 0.0537\n",
      "roc_auc: 0.5267\n",
      "balanced_accuracy: 0.5268\n",
      "\n",
      "Training Set: (1966, 163)\n",
      "Validation Set: (413, 163)\n",
      "Fit fold in 68.8 seconds.\n",
      "matthews: -0.0719\n",
      "roc_auc: 0.4253\n",
      "balanced_accuracy: 0.4634\n",
      "\n",
      "Training Set: (2071, 163)\n",
      "Validation Set: (308, 163)\n",
      "Fit fold in 72.5 seconds.\n",
      "matthews: -0.0519\n",
      "roc_auc: 0.4921\n",
      "balanced_accuracy: 0.4740\n",
      "\n"
     ]
    },
    {
     "data": {
      "text/plain": [
       "EvalResults\n",
       "------------\n",
       "matthews: -0.0234 ± 0.0551\n",
       "roc_auc: 0.4814 ± 0.0421\n",
       "balanced_accuracy: 0.4881 ± 0.0277\n",
       "\n",
       "Saved Attributes: ['estimators', 'preds', 'timing', 'estimator', 'train_subjects', 'val_subjects', 'feat_names', 'ps', 'mean_scores', 'std_scores', 'weighted_mean_scores', 'scores', 'cv']\n",
       "\n",
       "Available Methods: ['to_pickle', 'compare', 'get_X_transform_df', 'get_inverse_fis', 'run_permutation_test', 'get_preds_dfs', 'subset_by', 'permutation_importance']\n",
       "\n",
       "Evaluated With:\n",
       "target: Dependent any drug\n",
       "problem_type: binary\n",
       "scope: all\n",
       "subjects: train\n",
       "random_state: 1\n",
       "n_jobs: 16\n"
      ]
     },
     "execution_count": 32,
     "metadata": {},
     "output_type": "execute_result"
    }
   ],
   "source": [
    "results = bp.evaluate(pipeline=fs_pipe, dataset=data, mute_warnings=True,\n",
    "                      problem_spec=ps, cv=site_cv_tr_only)\n",
    "results"
   ]
  },
  {
   "cell_type": "markdown",
   "metadata": {},
   "source": [
    "Unfortunetly this doesn't seem to work. Notably we still arn't quite following the method from the paper, which performs a meta-analysis on the results from the feature search to find overlapping subsets of features. As of the time of writing this example, a simmilar strategy has not been able to be easily integrated into BPt.\n",
    "\n",
    "The above method still has a few problems, one being severe overfitting. Namely, because a number of subjects are reserved in train-only roles, the same small number of subjects are being used over and over in cross-validation. \n",
    "\n",
    "We can confirm this intutiton by comparing the best score achieved internally for each set of features w/ how they score in the outer cross validation."
   ]
  },
  {
   "cell_type": "code",
   "execution_count": 33,
   "metadata": {},
   "outputs": [
    {
     "data": {
      "text/plain": [
       "(0.050966232842908764, 0.053718391221483516)"
      ]
     },
     "execution_count": 33,
     "metadata": {},
     "output_type": "execute_result"
    }
   ],
   "source": [
    "-results.estimators[0].best_score_, results.scores['matthews'][0]"
   ]
  },
  {
   "cell_type": "code",
   "execution_count": 34,
   "metadata": {},
   "outputs": [
    {
     "data": {
      "text/plain": [
       "(0.12743219380090678, -0.07188694484494394)"
      ]
     },
     "execution_count": 34,
     "metadata": {},
     "output_type": "execute_result"
    }
   ],
   "source": [
    "-results.estimators[1].best_score_, results.scores['matthews'][1]"
   ]
  },
  {
   "cell_type": "code",
   "execution_count": 35,
   "metadata": {},
   "outputs": [
    {
     "data": {
      "text/plain": [
       "(0.09538113246734702, -0.051895463921527066)"
      ]
     },
     "execution_count": 35,
     "metadata": {},
     "output_type": "execute_result"
    }
   ],
   "source": [
    "-results.estimators[2].best_score_, results.scores['matthews'][2]"
   ]
  },
  {
   "cell_type": "markdown",
   "metadata": {},
   "source": [
    "These values are quite different to say the least. Part of the problem again is that such a small amount of data is being used to determine generalization. What if instead of a the 3-fold group preserving train only feature selection CV, we instead used a leave-out-site scheme on site with train only? I doubt it will help, but let's see..."
   ]
  },
  {
   "cell_type": "code",
   "execution_count": 36,
   "metadata": {},
   "outputs": [
    {
     "name": "stdout",
     "output_type": "stream",
     "text": [
      "Predicting target = Dependent any drug\n",
      "Using problem_type = binary\n",
      "Using scope = all (defining a total of 163 features).\n",
      "Evaluating 2379 total data points.\n"
     ]
    },
    {
     "data": {
      "application/vnd.jupyter.widget-view+json": {
       "model_id": "7764f60c1fa042088c24446e403dde01",
       "version_major": 2,
       "version_minor": 0
      },
      "text/plain": [
       "Folds:   0%|          | 0/3 [00:00<?, ?it/s]"
      ]
     },
     "metadata": {},
     "output_type": "display_data"
    },
    {
     "name": "stdout",
     "output_type": "stream",
     "text": [
      "\n",
      "Training Set: (1523, 163)\n",
      "Validation Set: (856, 163)\n",
      "Fit fold in 335.1 seconds.\n",
      "matthews: 0.0702\n",
      "roc_auc: 0.5447\n",
      "balanced_accuracy: 0.5348\n",
      "\n",
      "Training Set: (1966, 163)\n",
      "Validation Set: (413, 163)\n",
      "Fit fold in 470.2 seconds.\n",
      "matthews: -0.0719\n",
      "roc_auc: 0.4253\n",
      "balanced_accuracy: 0.4634\n",
      "\n",
      "Training Set: (2071, 163)\n",
      "Validation Set: (308, 163)\n",
      "Fit fold in 322.6 seconds.\n",
      "matthews: 0.1325\n",
      "roc_auc: 0.5586\n",
      "balanced_accuracy: 0.5665\n",
      "\n"
     ]
    },
    {
     "data": {
      "text/plain": [
       "EvalResults\n",
       "------------\n",
       "matthews: 0.0436 ± 0.0855\n",
       "roc_auc: 0.5095 ± 0.0598\n",
       "balanced_accuracy: 0.5216 ± 0.0431\n",
       "\n",
       "Saved Attributes: ['estimators', 'preds', 'timing', 'estimator', 'train_subjects', 'val_subjects', 'feat_names', 'ps', 'mean_scores', 'std_scores', 'weighted_mean_scores', 'scores', 'cv']\n",
       "\n",
       "Available Methods: ['to_pickle', 'compare', 'get_X_transform_df', 'get_inverse_fis', 'run_permutation_test', 'get_preds_dfs', 'subset_by', 'permutation_importance']\n",
       "\n",
       "Evaluated With:\n",
       "target: Dependent any drug\n",
       "problem_type: binary\n",
       "scope: all\n",
       "subjects: train\n",
       "random_state: 1\n",
       "n_jobs: 16\n"
      ]
     },
     "execution_count": 36,
     "metadata": {},
     "output_type": "execute_result"
    }
   ],
   "source": [
    "leave_out_site_tr_only_cv = bp.CV(splits='Site',\n",
    "                                  train_only_subjects=imbalanced_subjs)\n",
    "\n",
    "fs_pipe.param_search = bp.ParamSearch(\n",
    "    'RandomSearch', n_iter=16,\n",
    "    cv=leave_out_site_tr_only_cv)\n",
    "\n",
    "results = bp.evaluate(pipeline=fs_pipe, dataset=data, mute_warnings=True,\n",
    "                      problem_spec=ps, cv=site_cv_tr_only)\n",
    "results"
   ]
  },
  {
   "cell_type": "markdown",
   "metadata": {},
   "source": [
    "This does a little better. But only slightly. What if we also used this leave-out site strategy for the outer loop? This would be to address the issue that the outer CV has the same problem as the inner, where the validation set is overly specific and small in some folds."
   ]
  },
  {
   "cell_type": "code",
   "execution_count": 37,
   "metadata": {
    "scrolled": false
   },
   "outputs": [
    {
     "name": "stdout",
     "output_type": "stream",
     "text": [
      "Predicting target = Dependent any drug\n",
      "Using problem_type = binary\n",
      "Using scope = all (defining a total of 163 features).\n",
      "Evaluating 2379 total data points.\n"
     ]
    },
    {
     "data": {
      "application/vnd.jupyter.widget-view+json": {
       "model_id": "0dea6cb4372b45b8bd7de6495cf86e87",
       "version_major": 2,
       "version_minor": 0
      },
      "text/plain": [
       "Folds:   0%|          | 0/17 [00:00<?, ?it/s]"
      ]
     },
     "metadata": {},
     "output_type": "display_data"
    },
    {
     "name": "stdout",
     "output_type": "stream",
     "text": [
      "\n",
      "Training Set: (2082, 163)\n",
      "Validation Set: (297, 163)\n",
      "Fit fold in 435.4 seconds.\n",
      "matthews: 0.3413\n",
      "roc_auc: 0.6939\n",
      "balanced_accuracy: 0.6669\n",
      "\n",
      "Training Set: (2338, 163)\n",
      "Validation Set: (41, 163)\n",
      "Fit fold in 485.3 seconds.\n",
      "matthews: -0.2272\n",
      "roc_auc: 0.4034\n",
      "balanced_accuracy: 0.4191\n",
      "\n",
      "Training Set: (2345, 163)\n",
      "Validation Set: (34, 163)\n",
      "Fit fold in 565.2 seconds.\n",
      "matthews: 0.2443\n",
      "roc_auc: 0.6140\n",
      "balanced_accuracy: 0.6228\n",
      "\n",
      "Training Set: (2338, 163)\n",
      "Validation Set: (41, 163)\n",
      "Fit fold in 547.7 seconds.\n",
      "matthews: -0.0966\n",
      "roc_auc: 0.4952\n",
      "balanced_accuracy: 0.4533\n",
      "\n",
      "Training Set: (2327, 163)\n",
      "Validation Set: (52, 163)\n",
      "Fit fold in 598.4 seconds.\n",
      "matthews: 0.4622\n",
      "roc_auc: 0.7872\n",
      "balanced_accuracy: 0.7232\n",
      "\n",
      "Training Set: (2009, 163)\n",
      "Validation Set: (370, 163)\n",
      "Fit fold in 507.1 seconds.\n",
      "matthews: 0.0869\n",
      "roc_auc: 0.5514\n",
      "balanced_accuracy: 0.5418\n",
      "\n",
      "Training Set: (2308, 163)\n",
      "Validation Set: (71, 163)\n",
      "Fit fold in 569.9 seconds.\n",
      "matthews: 0.1426\n",
      "roc_auc: 0.6188\n",
      "balanced_accuracy: 0.5694\n",
      "\n",
      "Training Set: (2319, 163)\n",
      "Validation Set: (60, 163)\n",
      "Fit fold in 558.1 seconds.\n",
      "matthews: 0.2821\n",
      "roc_auc: 0.6799\n",
      "balanced_accuracy: 0.6468\n",
      "\n",
      "Training Set: (2313, 163)\n",
      "Validation Set: (66, 163)\n",
      "Fit fold in 586.9 seconds.\n",
      "matthews: 0.0686\n",
      "roc_auc: 0.5312\n",
      "balanced_accuracy: 0.5333\n",
      "\n",
      "Training Set: (2310, 163)\n",
      "Validation Set: (69, 163)\n",
      "Fit fold in 514.0 seconds.\n",
      "matthews: 0.1482\n",
      "roc_auc: 0.5789\n",
      "balanced_accuracy: 0.5739\n",
      "\n",
      "Training Set: (2242, 163)\n",
      "Validation Set: (137, 163)\n",
      "Fit fold in 580.3 seconds.\n",
      "matthews: 0.0243\n",
      "roc_auc: 0.5503\n",
      "balanced_accuracy: 0.5107\n",
      "\n",
      "Training Set: (2338, 163)\n",
      "Validation Set: (41, 163)\n",
      "Fit fold in 540.1 seconds.\n",
      "matthews: 0.1299\n",
      "roc_auc: 0.5364\n",
      "balanced_accuracy: 0.5727\n",
      "\n",
      "Training Set: (2352, 163)\n",
      "Validation Set: (27, 163)\n",
      "Fit fold in 588.7 seconds.\n",
      "matthews: -0.2786\n",
      "roc_auc: 0.3187\n",
      "balanced_accuracy: 0.3654\n",
      "\n",
      "Training Set: (2301, 163)\n",
      "Validation Set: (78, 163)\n",
      "Fit fold in 562.5 seconds.\n",
      "matthews: 0.0133\n",
      "roc_auc: 0.5362\n",
      "balanced_accuracy: 0.5059\n",
      "\n",
      "Training Set: (2279, 163)\n",
      "Validation Set: (100, 163)\n",
      "Fit fold in 856.0 seconds.\n",
      "matthews: 0.0403\n",
      "roc_auc: 0.6926\n",
      "balanced_accuracy: 0.5158\n",
      "\n",
      "Training Set: (2320, 163)\n",
      "Validation Set: (59, 163)\n",
      "Fit fold in 972.6 seconds.\n",
      "matthews: 0.1599\n",
      "roc_auc: 0.5115\n",
      "balanced_accuracy: 0.5644\n",
      "\n",
      "Training Set: (2345, 163)\n",
      "Validation Set: (34, 163)\n",
      "Fit fold in 971.8 seconds.\n",
      "matthews: 0.1806\n",
      "roc_auc: 0.6667\n",
      "balanced_accuracy: 0.5903\n",
      "\n"
     ]
    },
    {
     "data": {
      "text/plain": [
       "EvalResults\n",
       "------------\n",
       "matthews: 0.1013 ± 0.1824\n",
       "roc_auc: 0.5745 ± 0.1105\n",
       "balanced_accuracy: 0.5515 ± 0.0865\n",
       "\n",
       "Saved Attributes: ['estimators', 'preds', 'timing', 'estimator', 'train_subjects', 'val_subjects', 'feat_names', 'ps', 'mean_scores', 'std_scores', 'weighted_mean_scores', 'scores', 'cv']\n",
       "\n",
       "Available Methods: ['to_pickle', 'compare', 'get_X_transform_df', 'get_inverse_fis', 'run_permutation_test', 'get_preds_dfs', 'subset_by', 'permutation_importance']\n",
       "\n",
       "Evaluated With:\n",
       "target: Dependent any drug\n",
       "problem_type: binary\n",
       "scope: all\n",
       "subjects: train\n",
       "random_state: 1\n",
       "n_jobs: 16\n"
      ]
     },
     "execution_count": 37,
     "metadata": {},
     "output_type": "execute_result"
    }
   ],
   "source": [
    "results = bp.evaluate(pipeline=fs_pipe,\n",
    "                      dataset=data,\n",
    "                      problem_spec=ps,\n",
    "                      mute_warnings=True,\n",
    "                      cv=leave_out_site_tr_only_cv,\n",
    "                      eval_verbose=1)\n",
    "results"
   ]
  },
  {
   "cell_type": "markdown",
   "metadata": {},
   "source": [
    "Seeing the results for each site seperately with the verbose option really makes some of the problem clear, namely that a number of small sites don't seem to generalize well. This is simmilar to what we saw in the case of using leave-out-site with case-only subjects dropped, where we had a huge std in roc auc between folds.\n",
    "\n",
    "Another potential problem with doing leave-out-site is that the way the underlying data was collected, different sites will have subjects with dependence to different substances. This can certainly cause issues, as say our classifier only learns to classify alcohol dependence (the strongest signal), then it will do poorly on sites for other substances. Which is good in one way, that it lets us know the classifier is not generalizing, but it doesn't solve the generalization problem.\n",
    "\n",
    "Anyways, that will end this example for now. Leaving the problem of how to best exploit information from case-only sites as an open question (though if interested, a more faithful reproduction of the method presented in https://onlinelibrary.wiley.com/doi/full/10.1002/hbm.25248 might prove to be fruitful. Specifically, in the end only using a few, maybe 3-4, features, which is notably quite different then what we are trying above, i.e., trying just 16 random sets of features)."
   ]
  }
 ],
 "metadata": {
  "kernelspec": {
   "display_name": "bpt",
   "language": "python",
   "name": "myenv"
  },
  "language_info": {
   "codemirror_mode": {
    "name": "ipython",
    "version": 3
   },
   "file_extension": ".py",
   "mimetype": "text/x-python",
   "name": "python",
   "nbconvert_exporter": "python",
   "pygments_lexer": "ipython3",
   "version": "3.9.1"
  }
 },
 "nbformat": 4,
 "nbformat_minor": 4
}
